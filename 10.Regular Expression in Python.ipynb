{
 "cells": [
  {
   "cell_type": "markdown",
   "metadata": {},
   "source": [
    "# Regular Expression in Python with Examples | Set 1\n",
    "A Regular Expressions (RegEx) is a special sequence of characters that uses a search pattern to find a string or set of strings. \n",
    "It can detect the presence or absence of a text by matching with a particular pattern, and also can split a pattern into one or more sub-patterns. \n",
    "Python provides a re module that supports the use of regex in Python. \n",
    "Its primary function is to offer a search, where it takes a regular expression and a string. Here, it either returns the first match or else none."
   ]
  },
  {
   "cell_type": "code",
   "execution_count": 1,
   "metadata": {},
   "outputs": [
    {
     "name": "stdout",
     "output_type": "stream",
     "text": [
      "Start Index 43\n",
      "End Index 47\n"
     ]
    }
   ],
   "source": [
    "import re\n",
    "\n",
    "txt = \"It can detect the presence or absence of a text by matching with a particular pattern\"\n",
    "\n",
    "data = re.search(\"text\",txt)\n",
    "\n",
    "print(\"Start Index\",data.start())\n",
    "print(\"End Index\",data.end())"
   ]
  },
  {
   "cell_type": "code",
   "execution_count": 2,
   "metadata": {},
   "outputs": [
    {
     "name": "stdout",
     "output_type": "stream",
     "text": [
      "<re.Match object; span=(0, 1), match='g'>\n",
      "<re.Match object; span=(5, 6), match='.'>\n"
     ]
    }
   ],
   "source": [
    "\n",
    "import re\n",
    " \n",
    "s = 'geeks.forgeeks'\n",
    " \n",
    "# without using \\\n",
    "match = re.search(r'.', s)\n",
    "print(match)\n",
    " \n",
    "# using \\\n",
    "match = re.search(r'\\.', s)\n",
    "print(match)"
   ]
  },
  {
   "cell_type": "markdown",
   "metadata": {},
   "source": [
    "# Regex Module in Python\n",
    "Python has a module named re that is used for regular expressions in Python. We can import this module by using the import statement.\n",
    "Example: Importing re module in Python "
   ]
  },
  {
   "cell_type": "markdown",
   "metadata": {},
   "source": [
    "# re.findall()\n",
    "Return all non-overlapping matches of pattern in string, as a list of strings. The string is scanned left-to-right, and matches are returned in the order found."
   ]
  },
  {
   "cell_type": "code",
   "execution_count": 5,
   "metadata": {},
   "outputs": [
    {
     "name": "stdout",
     "output_type": "stream",
     "text": [
      "['03077837001', '03117374417']\n"
     ]
    }
   ],
   "source": [
    "import re\n",
    "\n",
    "txt = \"\"\"Hello my Number is 03077837001 and  my friend's number is 03117374417\"\"\"\n",
    "\n",
    "regex = \"\\d+\"\n",
    "\n",
    "match= re.findall(regex,txt)\n",
    "print(match)"
   ]
  },
  {
   "cell_type": "markdown",
   "metadata": {},
   "source": [
    "# re.compile() \n",
    "Regular expressions are compiled into pattern objects, which have methods for various operations such as searching for pattern matches or performing string substitutions. "
   ]
  },
  {
   "cell_type": "code",
   "execution_count": 9,
   "metadata": {},
   "outputs": [
    {
     "name": "stdout",
     "output_type": "stream",
     "text": [
      "['y', 'e', 's', 'i', 'd', 'r', 'i', 'b', 'e', 'n', 's', 'o', 'n', 't', 'r', 'k']\n"
     ]
    }
   ],
   "source": [
    "import re\n",
    " \n",
    "# compile() creates regular expression\n",
    "# character class [a-e],\n",
    "# which is equivalent to [abcde].\n",
    "# class [abcde] will match with string with\n",
    "# 'a', 'b', 'c', 'd', 'e'.\n",
    "p = re.compile('[b-z]')\n",
    " \n",
    "# findall() searches for the Regular Expression\n",
    "# and return a list upon finding\n",
    "print(p.findall(\"Aye, said Mr. Gibenson Stark\"))"
   ]
  },
  {
   "cell_type": "code",
   "execution_count": 18,
   "metadata": {},
   "outputs": [
    {
     "name": "stdout",
     "output_type": "stream",
     "text": [
      "['1', '1', '4', '1', '8', '8', '6']\n",
      "\n",
      "\n",
      "............................................................\n",
      "\n",
      "\n",
      "['11', '4', '1886']\n"
     ]
    }
   ],
   "source": [
    "import re\n",
    "\n",
    "t = re.compile('\\d')\n",
    "print(t.findall(\"I went to him at 11 A.M. on 4th July 1886\"))\n",
    "print(\"\\n\")\n",
    "print(\"...\"*20)\n",
    "print(\"\\n\")\n",
    "t_1 = re.compile('\\d+')\n",
    "print(t_1.findall(\"I went to him at 11 A.M. on 4th July 1886\"))\n"
   ]
  },
  {
   "cell_type": "code",
   "execution_count": 19,
   "metadata": {},
   "outputs": [
    {
     "name": "stdout",
     "output_type": "stream",
     "text": [
      "['H', 'e', 's', 'a', 'i', 'd', 'i', 'n', 's', 'o', 'm', 'e', '_', 'l', 'a', 'n', 'g']\n",
      "['I', 'went', 'to', 'him', 'at', '11', 'A', 'M', 'he', 'said', 'in', 'some_language']\n",
      "[' ', ' ', '*', '*', '*', ' ', ' ', '.']\n"
     ]
    }
   ],
   "source": [
    "import re\n",
    " \n",
    "# \\w is equivalent to [a-zA-Z0-9_].\n",
    "p = re.compile('\\w')\n",
    "print(p.findall(\"He said * in some_lang.\"))\n",
    " \n",
    "# \\w+ matches to group of alphanumeric character.\n",
    "p = re.compile('\\w+')\n",
    "print(p.findall(\"I went to him at 11 A.M., he \\\n",
    "said *** in some_language.\"))\n",
    " \n",
    "# \\W matches to non alphanumeric characters.\n",
    "p = re.compile('\\W')\n",
    "print(p.findall(\"he said *** in some_language.\"))"
   ]
  },
  {
   "cell_type": "code",
   "execution_count": 20,
   "metadata": {},
   "outputs": [
    {
     "name": "stdout",
     "output_type": "stream",
     "text": [
      "['ab', 'abb', 'a', 'abbb']\n"
     ]
    }
   ],
   "source": [
    "import re\n",
    " \n",
    "# '*' replaces the no. of occurrence\n",
    "# of a character.\n",
    "p = re.compile('ab*')\n",
    "print(p.findall(\"ababbaabbb\"))"
   ]
  },
  {
   "cell_type": "markdown",
   "metadata": {},
   "source": [
    "# re.split() \n",
    "Split string by the occurrences of a character or a pattern, upon finding that pattern, the remaining characters from the string are returned as part of the resulting list. "
   ]
  },
  {
   "cell_type": "code",
   "execution_count": 21,
   "metadata": {},
   "outputs": [
    {
     "name": "stdout",
     "output_type": "stream",
     "text": [
      "['Words', 'words', 'Words']\n",
      "['Word', 's', 'words', 'Words']\n",
      "['On', '12th', 'Jan', '2016', 'at', '11', '02', 'AM']\n",
      "['On ', 'th Jan ', ', at ', ':', ' AM']\n"
     ]
    }
   ],
   "source": [
    "from re import split\n",
    " \n",
    "# '\\W+' denotes Non-Alphanumeric Characters\n",
    "# or group of characters Upon finding ','\n",
    "# or whitespace ' ', the split(), splits the\n",
    "# string from that point\n",
    "print(split('\\W+', 'Words, words , Words'))\n",
    "print(split('\\W+', \"Word's words Words\"))\n",
    " \n",
    "# Here ':', ' ' ,',' are not AlphaNumeric thus,\n",
    "# the point where splitting occurs\n",
    "print(split('\\W+', 'On 12th Jan 2016, at 11:02 AM'))\n",
    " \n",
    "# '\\d+' denotes Numeric Characters or group of\n",
    "# characters Splitting occurs at '12', '2016',\n",
    "# '11', '02' only\n",
    "print(split('\\d+', 'On 12th Jan 2016, at 11:02 AM'))"
   ]
  },
  {
   "cell_type": "markdown",
   "metadata": {},
   "source": [
    "# Regular Expressions in Python – Set 2 (Search, Match and Find All)\n",
    "Searching an occurrence of pattern \n",
    "\n",
    "re.search() : This method either returns None (if the pattern doesn’t match), or a re.MatchObject that contains information about the matching part of the string. This method stops after the first match, so this is best suited for testing a regular expression more than extracting data."
   ]
  },
  {
   "cell_type": "code",
   "execution_count": 1,
   "metadata": {},
   "outputs": [
    {
     "name": "stdout",
     "output_type": "stream",
     "text": [
      "Match at index 14, 21\n",
      "Full match: June 24\n",
      "Month: June\n",
      "Day: 24\n"
     ]
    }
   ],
   "source": [
    "# A Python program to demonstrate working of re.match(). \n",
    "import re \n",
    "   \n",
    "# Lets use a regular expression to match a date string \n",
    "# in the form of Month name followed by day number \n",
    "regex = r\"([a-zA-Z]+) (\\d+)\"\n",
    "   \n",
    "match = re.search(regex, \"I was born on June 24\") \n",
    "   \n",
    "if match != None: \n",
    "   \n",
    "    # We reach here when the expression \"([a-zA-Z]+) (\\d+)\" \n",
    "    # matches the date string. \n",
    "   \n",
    "    # This will print [14, 21), since it matches at index 14 \n",
    "    # and ends at 21. \n",
    "    print (\"Match at index %s, %s\" % (match.start(), match.end())) \n",
    "   \n",
    "    # We us group() method to get all the matches and \n",
    "    # captured groups. The groups contain the matched values. \n",
    "    # In particular: \n",
    "    # match.group(0) always returns the fully matched string \n",
    "    # match.group(1) match.group(2), ... return the capture \n",
    "    # groups in order from left to right in the input string \n",
    "    # match.group() is equivalent to match.group(0) \n",
    "   \n",
    "    # So this will print \"June 24\" \n",
    "    print (\"Full match: %s\" % (match.group(0))) \n",
    "   \n",
    "    # So this will print \"June\" \n",
    "    print (\"Month: %s\" % (match.group(1))) \n",
    "   \n",
    "    # So this will print \"24\" \n",
    "    print (\"Day: %s\" % (match.group(2)))\n",
    "   \n",
    "else: \n",
    "    print (\"The regex pattern does not match.\")"
   ]
  },
  {
   "cell_type": "markdown",
   "metadata": {},
   "source": [
    "# Matching a Pattern with Text \n",
    "re.match() : This function attempts to match pattern to whole string. The re.match function returns a match object on success, None on failure. "
   ]
  },
  {
   "cell_type": "code",
   "execution_count": 2,
   "metadata": {},
   "outputs": [
    {
     "name": "stdout",
     "output_type": "stream",
     "text": [
      "Given Data: Jun 24\n",
      "Month: Jun\n",
      "Day: 24\n",
      "\n",
      "Not a valid date\n"
     ]
    }
   ],
   "source": [
    "# A Python program to demonstrate working\n",
    "# of re.match().\n",
    "import re\n",
    "    \n",
    "# a sample function that uses regular expressions\n",
    "# to find month and day of a date.\n",
    "def findMonthAndDate(string):\n",
    "        \n",
    "    regex = r\"([a-zA-Z]+) (\\d+)\"\n",
    "    match = re.match(regex, string)\n",
    "        \n",
    "    if match == None: \n",
    "        print (\"Not a valid date\")\n",
    "        return\n",
    "    \n",
    "    print (\"Given Data: %s\" % (match.group()))\n",
    "    print (\"Month: %s\" % (match.group(1)))\n",
    "    print (\"Day: %s\" % (match.group(2)))\n",
    "    \n",
    "        \n",
    "# Driver Code\n",
    "findMonthAndDate(\"Jun 24\")\n",
    "print(\"\")\n",
    "findMonthAndDate(\"I was born on June 24\")"
   ]
  },
  {
   "cell_type": "markdown",
   "metadata": {},
   "source": [
    "# Finding all occurrences of a pattern \n",
    "\n",
    "re.findall() : Return all non-overlapping matches of pattern in string, as a list of strings. The string is scanned left-to-right, and matches are returned in the order found (Source : Python Docs). "
   ]
  },
  {
   "cell_type": "code",
   "execution_count": 3,
   "metadata": {},
   "outputs": [
    {
     "name": "stdout",
     "output_type": "stream",
     "text": [
      "['123456789', '987654321']\n"
     ]
    }
   ],
   "source": [
    "# A Python program to demonstrate working of\n",
    "# findall()\n",
    "import re\n",
    "   \n",
    "# A sample text string where regular expression \n",
    "# is searched.\n",
    "string  = \"\"\"Hello my Number is 123456789 and\n",
    "             my friend's number is 987654321\"\"\"\n",
    "   \n",
    "# A sample regular expression to find digits.\n",
    "regex = '\\d+'            \n",
    "   \n",
    "match = re.findall(regex, string)\n",
    "print(match)\n",
    "   \n",
    "# This example is contributed by Ayush Saluja."
   ]
  },
  {
   "cell_type": "code",
   "execution_count": 4,
   "metadata": {},
   "outputs": [
    {
     "name": "stdout",
     "output_type": "stream",
     "text": [
      "{'aleemraza661@gmail.com'}\n"
     ]
    }
   ],
   "source": [
    "email = \"my email addresss is > aleemraza661@gmail.com\"\n",
    "# extract all email addresses and add them into the resulting set\n",
    "new_emails = set(re.findall(r\"[a-z0-9\\.\\-+_]+@[a-z0-9\\.\\-+_]+\\.[a-z]+\", email, re.I))\n",
    "print(new_emails)\n"
   ]
  },
  {
   "cell_type": "markdown",
   "metadata": {},
   "source": [
    "# Verbose in Python Regex\n",
    "re.VERBOSE : This flag allows you to write regular expressions that look nicer and are more readable by allowing you to visually separate logical sections of the pattern and add comments.\n",
    "Whitespace within the pattern is ignored, except when in a character class, or when preceded by an unescaped backslash, or within tokens like *?, (?: or (?P. When a line contains a # that is not in a character class and is not preceded by an unescaped backslash, all characters from the leftmost such # through the end of the line are ignored."
   ]
  },
  {
   "cell_type": "code",
   "execution_count": null,
   "metadata": {},
   "outputs": [],
   "source": [
    "# Python3 program to show the Implementation of VERBOSE in RegEX\n",
    "import re\n",
    "  \n",
    "def validate_email(email):\n",
    "  \n",
    "    # RegexObject = re.compile( Regular expression, flag )\n",
    "    # Compiles a regular expression pattern into \n",
    "    # a regular expression object\n",
    "    regex_email=re.compile(r\"\"\"\n",
    "                           ^([a-z0-9_\\.-]+)                 # local Part\n",
    "                           @                             # single @ sign\n",
    "                            ([0-9a-z\\.-]+)                 # Domain name\n",
    "                           \\.                             # single Dot .\n",
    "                            ([a-z]{2,6})$                 # Top level Domain     \n",
    "                           \"\"\",re.VERBOSE | re.IGNORECASE)\n",
    "  \n",
    "    # RegexObject is matched with the desired\n",
    "    # string using fullmatch function\n",
    "    # In case a match is found, search()\n",
    "    # returns a MatchObject Instance\n",
    "    res=regex_email.fullmatch(email)\n",
    "  \n",
    "    #If match is found, the string is valid\n",
    "    if res:\n",
    "        print(\"{} is Valid. Details are as follow:\".format(email))\n",
    "          \n",
    "        #prints first part/personal detail of Email Id\n",
    "        print(\"Local:{}\".format(res.group(1)))\n",
    "          \n",
    "        #prints Domain Name of Email Id\n",
    "        print(\"Domain:{}\".format(res.group(2)))\n",
    "          \n",
    "        #prints Top Level Domain Name of Email Id\n",
    "        print(\"Top Level domain:{}\".format(res.group(3)))\n",
    "        print()\n",
    "          \n",
    "    else:\n",
    "        #If match is not found,string is invalid\n",
    "        print(\"{} is Invalid\".format(email))\n",
    "  \n",
    "# Driver Code\n",
    "validate_email(\"expectopatronum@gmail.com\")\n",
    "validate_email(\"avadakedavra@yahoo.com@\")\n",
    "validate_email(\"Crucio@.com\")"
   ]
  },
  {
   "cell_type": "code",
   "execution_count": 5,
   "metadata": {},
   "outputs": [
    {
     "name": "stdout",
     "output_type": "stream",
     "text": [
      "aleemraza661@gmail.com is Valid. Details are as follow:\n",
      "Local aleemraza661\n",
      "Domain Name gmail\n",
      "Top Level domain:com\n",
      "\n"
     ]
    }
   ],
   "source": [
    "import re\n",
    "\n",
    "def check_eamil(email):\n",
    "    resg_eamil=re.compile(r\"\"\"\n",
    "                           ^([a-z0-9_\\.-]+)                 # local Part\n",
    "                           @                             # single @ sign\n",
    "                            ([0-9a-z\\.-]+)                 # Domain name\n",
    "                           \\.                             # single Dot .\n",
    "                            ([a-z]{2,6})$                 # Top level Domain     \n",
    "                           \"\"\",re.VERBOSE | re.IGNORECASE)\n",
    "    \n",
    "    res = resg_eamil.fullmatch(email)\n",
    "    \n",
    "    if res:\n",
    "        print(\"{} is Valid. Details are as follow:\".format(email))\n",
    "        \n",
    "        print(\"Local {}\".format(res.group(1)))\n",
    "        print(\"Domain Name {}\".format(res.group(2)))\n",
    "        print(\"Top Level domain:{}\".format(res.group(3)))\n",
    "        print()\n",
    "    else:\n",
    "        print(\"{} is Invald\".format(email))\n",
    "check_eamil(\"aleemraza661@gmail.com\")        "
   ]
  },
  {
   "cell_type": "markdown",
   "metadata": {},
   "source": [
    "# Password validation in Python\n",
    "Let’s take a password as a combination of alphanumeric characters along with special characters, and check whether the password is valid or not with the help of few conditions.\n",
    "\n",
    "Conditions for a valid password are:\n",
    "\n",
    "Should have at least one number.\n",
    "Should have at least one uppercase and one lowercase character.\n",
    "Should have at least one special symbol.\n",
    "Should be between 6 to 20 characters long."
   ]
  },
  {
   "cell_type": "code",
   "execution_count": 12,
   "metadata": {},
   "outputs": [
    {
     "name": "stdout",
     "output_type": "stream",
     "text": [
      "Password is valid\n"
     ]
    }
   ],
   "source": [
    "def password_check(password):\n",
    "    \n",
    "    s_word = ['$', '@', '#', '%']\n",
    "    \n",
    "    val = True\n",
    "    \n",
    "    if len(password) < 6:\n",
    "        print(\"The password is less then 6\")\n",
    "        val = False\n",
    "    if len(password) > 20:\n",
    "        print(\"the password is greater then the 20\")\n",
    "        \n",
    "        val = False\n",
    "    if not any(char.isdigit() for char in password):\n",
    "        print(\"Password should have at least one numeral\")\n",
    "        val = False\n",
    "    if not any(char.isupper() for char in password):\n",
    "        print('Password should have at least one uppercase letter')\n",
    "        val = False\n",
    "          \n",
    "    if not any(char.islower() for char in password):\n",
    "        print('Password should have at least one lowercase letter')\n",
    "        val = False\n",
    "          \n",
    "    if not any(char in s_word for char in password):\n",
    "        print('Password should have at least one of the symbols $@#')\n",
    "        val = False \n",
    "    if val :\n",
    "        return val"
   ]
  },
  {
   "cell_type": "code",
   "execution_count": 14,
   "metadata": {},
   "outputs": [
    {
     "name": "stdout",
     "output_type": "stream",
     "text": [
      "Enter the passwordAleeem@111\n",
      "Password is valid\n"
     ]
    }
   ],
   "source": [
    "user_input = input(\"Enter the password\")\n",
    "if (password_check(user_input)):\n",
    "    print(\"Password is valid\")\n",
    "else:\n",
    "    print(\"Invalid Password !!\")"
   ]
  },
  {
   "cell_type": "code",
   "execution_count": 15,
   "metadata": {},
   "outputs": [
    {
     "name": "stdout",
     "output_type": "stream",
     "text": [
      "Password is valid.\n"
     ]
    }
   ],
   "source": [
    "# importing re library\n",
    "import re\n",
    "  \n",
    "def main():\n",
    "    passwd = 'Geek12@'\n",
    "    reg = \"^(?=.*[a-z])(?=.*[A-Z])(?=.*\\d)(?=.*[@$!%*#?&])[A-Za-z\\d@$!#%*?&]{6,20}$\"\n",
    "      \n",
    "    # compiling regex\n",
    "    pat = re.compile(reg)\n",
    "      \n",
    "    # searching regex                 \n",
    "    mat = re.search(pat, passwd)\n",
    "      \n",
    "    # validating conditions\n",
    "    if mat:\n",
    "        print(\"Password is valid.\")\n",
    "    else:\n",
    "        print(\"Password invalid !!\")\n",
    "  \n",
    "# Driver Code     \n",
    "if __name__ == '__main__':\n",
    "    main()"
   ]
  },
  {
   "cell_type": "code",
   "execution_count": null,
   "metadata": {},
   "outputs": [],
   "source": []
  },
  {
   "cell_type": "code",
   "execution_count": null,
   "metadata": {},
   "outputs": [],
   "source": []
  }
 ],
 "metadata": {
  "kernelspec": {
   "display_name": "Python 3",
   "language": "python",
   "name": "python3"
  },
  "language_info": {
   "codemirror_mode": {
    "name": "ipython",
    "version": 3
   },
   "file_extension": ".py",
   "mimetype": "text/x-python",
   "name": "python",
   "nbconvert_exporter": "python",
   "pygments_lexer": "ipython3",
   "version": "3.8.5"
  },
  "toc": {
   "base_numbering": 1,
   "nav_menu": {},
   "number_sections": true,
   "sideBar": true,
   "skip_h1_title": false,
   "title_cell": "Table of Contents",
   "title_sidebar": "Contents",
   "toc_cell": false,
   "toc_position": {},
   "toc_section_display": true,
   "toc_window_display": false
  }
 },
 "nbformat": 4,
 "nbformat_minor": 4
}
