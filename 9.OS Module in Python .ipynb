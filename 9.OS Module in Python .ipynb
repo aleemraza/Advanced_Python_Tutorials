{
 "cells": [
  {
   "cell_type": "markdown",
   "metadata": {},
   "source": [
    "# OS Module in Python with Examples\n",
    "The OS module in Python provides functions for interacting with the operating system. OS comes under Python’s standard utility modules. \n",
    "This module provides a portable way of using operating system-dependent functionality. \n",
    "The *os* and *os.path* modules include many functions to interact with the file system."
   ]
  },
  {
   "cell_type": "markdown",
   "metadata": {},
   "source": [
    "# Handling the Current Working Directory\n",
    "Consider Current Working Directory(CWD) as a folder, where the Python is operating. Whenever the files are called only by their name, Python assumes that it starts in the CWD which means that name-only reference will be successful only if the file is in the Python’s CWD."
   ]
  },
  {
   "cell_type": "code",
   "execution_count": 1,
   "metadata": {},
   "outputs": [
    {
     "name": "stdout",
     "output_type": "stream",
     "text": [
      "The current working directory is C:\\Users\\Malik\\Desktop\\Python Lession\n"
     ]
    }
   ],
   "source": [
    "import os\n",
    "\n",
    "cwd = os.getcwd()\n",
    "print(\"The current working directory is\",cwd)"
   ]
  },
  {
   "cell_type": "code",
   "execution_count": null,
   "metadata": {},
   "outputs": [],
   "source": [
    "Changing the Current working directory\n",
    "To change the current working directory(CWD) os.chdir() method is used. This method changes the CWD to a specified path. It only takes a single argument as a new directory path.\n",
    "Note: The current working directory is the folder in which the Python script is operating."
   ]
  },
  {
   "cell_type": "code",
   "execution_count": 3,
   "metadata": {},
   "outputs": [
    {
     "name": "stdout",
     "output_type": "stream",
     "text": [
      "the current path is:\n",
      "C:\\Users\\Malik\\Desktop\\Python Lession\n",
      "\n",
      "\n",
      "the current path is:\n",
      "C:\\Users\\Malik\\Desktop\n",
      "\n",
      "\n"
     ]
    }
   ],
   "source": [
    "import os\n",
    "\n",
    "def get_path():\n",
    "    print(\"the current path is:\")\n",
    "    print(os.getcwd())\n",
    "    print(\"\\n\")\n",
    "    \n",
    "    \n",
    "get_path() \n",
    "\n",
    "\n",
    "os.chdir(\"../\")\n",
    "\n",
    "get_path()\n",
    "    \n",
    "    "
   ]
  },
  {
   "cell_type": "markdown",
   "metadata": {},
   "source": [
    "# Creating a Directory\n",
    "There are different methods available in the OS module for creating a directory. These are –\n",
    "\n",
    "os.mkdir()\n",
    "os.makedirs()\n",
    "Using os.mkdir()\n",
    "os.mkdir() method in Python is used to create a directory named path with the specified numeric mode. This method raises FileExistsError if the directory to be created already exists."
   ]
  },
  {
   "cell_type": "code",
   "execution_count": 4,
   "metadata": {},
   "outputs": [
    {
     "ename": "SyntaxError",
     "evalue": "(unicode error) 'unicodeescape' codec can't decode bytes in position 2-3: truncated \\UXXXXXXXX escape (<ipython-input-4-9d16e34e3d38>, line 5)",
     "output_type": "error",
     "traceback": [
      "\u001b[1;36m  File \u001b[1;32m\"<ipython-input-4-9d16e34e3d38>\"\u001b[1;36m, line \u001b[1;32m5\u001b[0m\n\u001b[1;33m    root_path = \"C:\\Users\\Malik\\Desktop\\Python Lession\"\u001b[0m\n\u001b[1;37m                ^\u001b[0m\n\u001b[1;31mSyntaxError\u001b[0m\u001b[1;31m:\u001b[0m (unicode error) 'unicodeescape' codec can't decode bytes in position 2-3: truncated \\UXXXXXXXX escape\n"
     ]
    }
   ],
   "source": [
    "import os \n",
    "\n",
    "directory = \"Aleem\"\n",
    "\n",
    "root_path = \"\"\n",
    "\n",
    "\n",
    "path = os.path.join(root_path,directory)\n",
    "\n",
    "os.mkdir(path)\n",
    "\n",
    "\n",
    "print(\"the curent path is\", directory)\n",
    "\n"
   ]
  },
  {
   "cell_type": "code",
   "execution_count": 6,
   "metadata": {},
   "outputs": [],
   "source": [
    "import webbrowser\n",
    "import time\n",
    "import pyautogui as gui\n",
    "\n",
    "m_number = '923117374417'  #country code and mobile number without '+' symbol\n",
    "message = \"good\"\n",
    "url = 'https://web.whatsapp.com/send?phone='+m_number+'&text='+message+'&app_absent=0'\n",
    "webbrowser.open(url)\n",
    "time.sleep(10) #loading page time\n",
    "gui.press('enter')"
   ]
  },
  {
   "cell_type": "code",
   "execution_count": 8,
   "metadata": {},
   "outputs": [],
   "source": [
    "import random\n",
    "import pyautogui as pg\n",
    "import time\n",
    "\n",
    "m_number = '447404413419'\n",
    "animal = (\"Anisa\",\"Koji\",\"moji\")\n",
    "for i in range(500):\n",
    "    a = random.choice(animal)\n",
    "url = 'https://web.whatsapp.com/send?phone='+m_number+'&text='+a+'&app_absent=0'\n",
    "webbrowser.open(url)\n",
    "time.sleep(10) #loading page time\n",
    "pg.press('enter')"
   ]
  },
  {
   "cell_type": "code",
   "execution_count": 10,
   "metadata": {},
   "outputs": [],
   "source": [
    "import random\n",
    "import pyautogui as pg\n",
    "import time\n",
    "import webbrowser as wb\n",
    "\n",
    "wb.open(\"https://web.whatsapp.com/\")\n",
    "\n",
    "animal = (\"Anisa\",\"Koji\",\"moji\")\n",
    "time.sleep(30)\n",
    "\n",
    "for i in range(500):\n",
    "    a = random.choice(animal)\n",
    "\n",
    "\n"
   ]
  },
  {
   "cell_type": "code",
   "execution_count": 12,
   "metadata": {},
   "outputs": [],
   "source": [
    "import pyautogui \n",
    "import time\n",
    "import webbrowser as wb\n",
    "wb.open(\"https://web.whatsapp.com/\")\n",
    "animal = (\"Anisa\",\"Koji\",\"moji\")\n",
    "a = random.choice(animal)\n",
    "time.sleep(30)\n",
    "for i in range(500):\n",
    "    for i in a:\n",
    "        pyautogui.press(i)\n",
    "    pyautogui.press(\"enter\")"
   ]
  },
  {
   "cell_type": "code",
   "execution_count": null,
   "metadata": {},
   "outputs": [],
   "source": [
    "\n"
   ]
  },
  {
   "cell_type": "raw",
   "metadata": {},
   "source": []
  },
  {
   "cell_type": "code",
   "execution_count": null,
   "metadata": {},
   "outputs": [],
   "source": []
  },
  {
   "cell_type": "raw",
   "metadata": {},
   "source": []
  },
  {
   "cell_type": "code",
   "execution_count": null,
   "metadata": {
    "collapsed": true
   },
   "outputs": [],
   "source": []
  },
  {
   "cell_type": "code",
   "execution_count": null,
   "metadata": {},
   "outputs": [],
   "source": []
  },
  {
   "cell_type": "code",
   "execution_count": null,
   "metadata": {},
   "outputs": [],
   "source": []
  },
  {
   "cell_type": "code",
   "execution_count": null,
   "metadata": {},
   "outputs": [],
   "source": []
  },
  {
   "cell_type": "code",
   "execution_count": null,
   "metadata": {},
   "outputs": [],
   "source": []
  },
  {
   "cell_type": "code",
   "execution_count": null,
   "metadata": {},
   "outputs": [],
   "source": []
  },
  {
   "cell_type": "code",
   "execution_count": null,
   "metadata": {},
   "outputs": [],
   "source": []
  },
  {
   "cell_type": "code",
   "execution_count": null,
   "metadata": {},
   "outputs": [],
   "source": []
  },
  {
   "cell_type": "code",
   "execution_count": null,
   "metadata": {},
   "outputs": [],
   "source": []
  },
  {
   "cell_type": "code",
   "execution_count": null,
   "metadata": {},
   "outputs": [],
   "source": []
  },
  {
   "cell_type": "code",
   "execution_count": null,
   "metadata": {},
   "outputs": [],
   "source": []
  },
  {
   "cell_type": "code",
   "execution_count": null,
   "metadata": {},
   "outputs": [],
   "source": []
  },
  {
   "cell_type": "code",
   "execution_count": null,
   "metadata": {},
   "outputs": [],
   "source": []
  },
  {
   "cell_type": "code",
   "execution_count": null,
   "metadata": {},
   "outputs": [],
   "source": []
  }
 ],
 "metadata": {
  "kernelspec": {
   "display_name": "Python 3",
   "language": "python",
   "name": "python3"
  },
  "language_info": {
   "codemirror_mode": {
    "name": "ipython",
    "version": 3
   },
   "file_extension": ".py",
   "mimetype": "text/x-python",
   "name": "python",
   "nbconvert_exporter": "python",
   "pygments_lexer": "ipython3",
   "version": "3.8.5"
  },
  "toc": {
   "base_numbering": 1,
   "nav_menu": {},
   "number_sections": true,
   "sideBar": true,
   "skip_h1_title": false,
   "title_cell": "Table of Contents",
   "title_sidebar": "Contents",
   "toc_cell": false,
   "toc_position": {},
   "toc_section_display": true,
   "toc_window_display": false
  }
 },
 "nbformat": 4,
 "nbformat_minor": 4
}
