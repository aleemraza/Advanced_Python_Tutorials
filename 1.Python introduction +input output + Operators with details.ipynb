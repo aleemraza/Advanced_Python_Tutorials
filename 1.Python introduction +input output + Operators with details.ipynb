{
 "cells": [
  {
   "cell_type": "markdown",
   "metadata": {},
   "source": [
    "# Python Programming Language"
   ]
  },
  {
   "cell_type": "markdown",
   "metadata": {},
   "source": [
    "# 1.Introduction"
   ]
  },
  {
   "cell_type": "raw",
   "metadata": {},
   "source": [
    "Python is a high-level, general-purpose and a very popular programming language.\n",
    "Python programming language (latest Python 3) is being used in web development, Machine Learning applications, along with all cutting edge technology in Software Industry.\n",
    "Python Programming Language is very well suited for Beginners, also for experienced programmers with other programming languages like C++ and Java."
   ]
  },
  {
   "cell_type": "raw",
   "metadata": {},
   "source": [
    "This specially designed Python tutorial will help you learn Python Programming Language in most efficient way, with the topics from basics to advanced (like Web-scraping, Django, Deep-Learning, etc.) with examples.\n",
    "\n",
    "\n",
    "Below are some facts about Python Programming Language:\n",
    "Python is currently the most widely used multi-purpose, high-level programming language.\n",
    "Python allows programming in Object-Oriented and Procedural paradigms.\n",
    "Python programs generally are smaller than other programming languages like Java. Programmers have to type relatively less and indentation requirement of the language, makes them readable all the time.\n",
    "Python language is being used by almost all tech-giant companies like – Google, Amazon, Facebook, Instagram, Dropbox, Uber… etc.\n",
    "\n",
    "\n",
    "The biggest strength of Python is huge collection of standard library which can be used for the following:\n",
    "Machine Learning\n",
    "GUI Applications (like Kivy, Tkinter, PyQt etc. )\n",
    "Web frameworks like Django (used by YouTube, Instagram, Dropbox)\n",
    "Image processing (like OpenCV, Pillow)\n",
    "Web scraping (like Scrapy, BeautifulSoup, Selenium)\n",
    "Test frameworks\n",
    "Multimedia\n",
    "Scientific computing\n",
    "Text processing and many more.."
   ]
  },
  {
   "cell_type": "markdown",
   "metadata": {},
   "source": [
    "# Introduction To PYTHON"
   ]
  },
  {
   "cell_type": "raw",
   "metadata": {},
   "source": [
    "Python is a widely used general-purpose, high level programming language. It was created by Guido van Rossum in 1991 and further developed by the Python Software Foundation. It was designed with an emphasis on code readability, and its syntax allows programmers to express their concepts in fewer lines of code.\n",
    "\n",
    "Python is a programming language that lets you work quickly and integrate systems more efficiently.\n",
    "\n",
    "There are two major Python versions: Python 2 and Python 3. Both are quite different.\n",
    "\n",
    "Beginning with Python programming:\n",
    "\n",
    "1) Finding an Interpreter:\n",
    "\n",
    "Before we start Python programming, we need to have an interpreter to interpret and run our programs. There are certain online interpreters like https://ide.geeksforgeeks.org/, http://ideone.com/ or http://codepad.org/ that can be used to run Python programs without installing an interpreter.\n",
    "\n",
    "Windows: There are many interpreters available freely to run Python scripts like IDLE (Integrated Development Environment) that comes bundled with the Python software downloaded from http://python.org/.\n",
    "\n",
    "Linux: Python comes preinstalled with popular Linux distros such as Ubuntu and Fedora. To check which version of Python you’re running, type “python” in the terminal emulator. The interpreter should start and print the version number.\n",
    "\n",
    "macOS: Generally, Python 2.7 comes bundled with macOS. You’ll have to manually install Python 3 from http://python.org/.\n",
    "\n",
    "2) Writing our first program:\n",
    "\n",
    "Just type in the following code after you start the interpreter."
   ]
  },
  {
   "cell_type": "code",
   "execution_count": 1,
   "metadata": {},
   "outputs": [
    {
     "name": "stdout",
     "output_type": "stream",
     "text": [
      "this is python programing\n"
     ]
    }
   ],
   "source": [
    "print(\"this is python programing\")"
   ]
  },
  {
   "cell_type": "raw",
   "metadata": {},
   "source": [
    "Reason for increasing popularity\n",
    "Emphasis on code readability, shorter codes, ease of writing\n",
    "Programmers can express logical concepts in fewer lines of code in comparison to languages such as C++ or Java.\n",
    "Python supports multiple programming paradigms, like object-oriented, imperative and functional programming or procedural.\n",
    "There exists inbuilt functions for almost all of the frequently used concepts.\n",
    "Philosophy is “Simplicity is the best”."
   ]
  },
  {
   "cell_type": "markdown",
   "metadata": {},
   "source": [
    "# LANGUAGE FEATURES\n",
    "\n",
    "<h2>Interpreted</h2>\n",
    "There are no separate compilation and execution steps like C and C++.\n",
    "Directly run the program from the source code.\n",
    "Internally, Python converts the source code into an intermediate form called bytecodes which is then translated into native language of specific computer to run it.\n",
    "No need to worry about linking and loading with libraries, etc.\n",
    "<h2>Platform Independent</h2>\n",
    "Python programs can be developed and executed on multiple operating system platforms.\n",
    "Python can be used on Linux, Windows, Macintosh, Solaris and many more.\n",
    "Free and Open Source; Redistributable\n",
    "High-level Language\n",
    "In Python, no need to take care about low-level details such as managing the memory used by the program.\n",
    "Simple\n",
    "Closer to English language;Easy to Learn\n",
    "More emphasis on the solution to the problem rather than the syntax\n",
    "Embeddable\n",
    "Python can be used within C/C++ program to give scripting capabilities for the program’s users.\n",
    "Robust:\n",
    "Exceptional handling features\n",
    "Memory management techniques in built\n",
    "Rich Library Support\n",
    "The Python Standard Library is vary vast.\n",
    "Known as the “batteries included” philosophy of Python ;It can help do various things involving regular expressions, documentation generation, unit testing, threading, databases, web browsers, CGI, email, XML, HTML, WAV files, cryptography, GUI and many more.\n",
    "Besides the standard library, there are various other high-quality libraries such as the Python Imaging Library which is an amazingly simple image manipulation library."
   ]
  },
  {
   "cell_type": "code",
   "execution_count": 2,
   "metadata": {},
   "outputs": [
    {
     "name": "stdout",
     "output_type": "stream",
     "text": [
      "12\n",
      "13.5\n",
      "hello world\n"
     ]
    }
   ],
   "source": [
    "no1 = \"12\"\n",
    "no2 = \"13.5\"\n",
    "no3 = \"hello world\"\n",
    "print(no1)\n",
    "print(no2)\n",
    "print(no3)"
   ]
  },
  {
   "cell_type": "raw",
   "metadata": {},
   "source": [
    "See, how simple is it, just create a variable and assign it any value you want and then use the print function to print it. Python have 4 types of built in Data Structures namely\n",
    "\n",
    "1.List\n",
    "2.Dictionary\n",
    "3.Tuple\n",
    "4.Set\n",
    "\n",
    "<h3>List</h3>\n",
    "is the most basic Data Structure in python. List is a mutable data structure i.e items can be added to list later after the list creation. It’s like you are going to shop at the local market and made a list of some items and later on you can add more and more items to the list.\n",
    "append() function is used to add data to the list.append"
   ]
  },
  {
   "cell_type": "code",
   "execution_count": 3,
   "metadata": {},
   "outputs": [
    {
     "name": "stdout",
     "output_type": "stream",
     "text": [
      "[12, 13.5, 'hello']\n"
     ]
    }
   ],
   "source": [
    "a = []\n",
    "a.append(12)\n",
    "a.append(13.5)\n",
    "a.append(\"hello\")\n",
    "print(a)"
   ]
  },
  {
   "cell_type": "markdown",
   "metadata": {},
   "source": [
    "# Input and Output\n",
    "\n",
    "In this section, we will learn how to take input from the user and hence manipulate it or simply display it. input() function is used to take input from the user."
   ]
  },
  {
   "cell_type": "code",
   "execution_count": 4,
   "metadata": {},
   "outputs": [
    {
     "name": "stdout",
     "output_type": "stream",
     "text": [
      "User Input Value:you are so cute\n",
      "User Aleem : you are so cute\n"
     ]
    }
   ],
   "source": [
    "user = input(\"User Input Value:\")\n",
    "print(\"User Aleem :\",user)"
   ]
  },
  {
   "cell_type": "code",
   "execution_count": 5,
   "metadata": {},
   "outputs": [
    {
     "name": "stdout",
     "output_type": "stream",
     "text": [
      "Enter the 1st number:10\n",
      "Enter the 2nd number: 10\n",
      "The total number is : 100\n"
     ]
    }
   ],
   "source": [
    "num1 = int(input(\"Enter the 1st number:\"))\n",
    "num2 = int(input(\"Enter the 2nd number: \"))\n",
    "\n",
    "num = num1*num2\n",
    "\n",
    "print(\"The total number is :\", num)"
   ]
  },
  {
   "cell_type": "markdown",
   "metadata": {},
   "source": [
    "# Selection\n",
    "Selection in Python is made using the two keywords ‘if’ and ‘elif’ and else (elseif)"
   ]
  },
  {
   "cell_type": "code",
   "execution_count": 9,
   "metadata": {},
   "outputs": [
    {
     "name": "stdout",
     "output_type": "stream",
     "text": [
      "Enter the number:9\n",
      "The number is good\n"
     ]
    }
   ],
   "source": [
    "num1 = int(input(\"Enter the number:\"))\n",
    "\n",
    "if (num1 < 10):\n",
    "    print(\"The number is good\")\n",
    "elif (num1 > 35):\n",
    "    print(\"the number is greater and not good\")\n",
    "else:\n",
    "    print(\"this is sweet number:\")"
   ]
  },
  {
   "cell_type": "markdown",
   "metadata": {},
   "source": [
    "# Functions\n",
    "\n",
    "You can think of functions like a bunch of code that is intended to do a particular task in the whole Python script. Python used the keyword ‘def’ to define a function."
   ]
  },
  {
   "cell_type": "code",
   "execution_count": 10,
   "metadata": {},
   "outputs": [
    {
     "name": "stdout",
     "output_type": "stream",
     "text": [
      "hello Aleem Raza\n",
      "Malik Aleem Raza\n"
     ]
    }
   ],
   "source": [
    "def hello():\n",
    "    print(\"hello Aleem Raza\")\n",
    "    print(\"Malik Aleem Raza\")\n",
    "hello()    "
   ]
  },
  {
   "cell_type": "raw",
   "metadata": {},
   "source": [
    "Now as we know any program starts from a ‘main’ function…lets create a main function like in many other programming languages."
   ]
  },
  {
   "cell_type": "code",
   "execution_count": 11,
   "metadata": {},
   "outputs": [
    {
     "name": "stdout",
     "output_type": "stream",
     "text": [
      "Started:\n",
      "Enter the number:12\n",
      "12\n"
     ]
    }
   ],
   "source": [
    "def put():\n",
    "    result = int(input(\"Enter the number:\"))\n",
    "    return result\n",
    "\n",
    "def Main():\n",
    "    print(\"Started:\") \n",
    "    ouput = put()\n",
    "    print(ouput)\n",
    "if __name__ == \"__main__\":\n",
    "    Main()\n",
    "    "
   ]
  },
  {
   "cell_type": "markdown",
   "metadata": {},
   "source": [
    "# Iteration (Looping)\n",
    "\n",
    "As the name suggests it calls repeating things again and again. We will use the most popular ‘for’ loop here."
   ]
  },
  {
   "cell_type": "code",
   "execution_count": null,
   "metadata": {},
   "outputs": [],
   "source": []
  },
  {
   "cell_type": "markdown",
   "metadata": {},
   "source": [
    "# Modules\n",
    "\n",
    "Python has a very rich module library that has several functions to do many tasks. You can read more about Python’s standard library by Clicking here\n",
    "‘import’ keyword is used to import a particular module into your python code. For instance consider the following program."
   ]
  },
  {
   "cell_type": "code",
   "execution_count": 12,
   "metadata": {},
   "outputs": [
    {
     "name": "stdout",
     "output_type": "stream",
     "text": [
      "0\n",
      "1\n",
      "2\n",
      "3\n",
      "4\n",
      "5\n",
      "6\n",
      "7\n",
      "8\n",
      "9\n"
     ]
    }
   ],
   "source": [
    "for i in range(10):\n",
    "    print(i)"
   ]
  },
  {
   "cell_type": "code",
   "execution_count": 17,
   "metadata": {},
   "outputs": [
    {
     "name": "stdout",
     "output_type": "stream",
     "text": [
      "70.0\n"
     ]
    }
   ],
   "source": [
    "import math\n",
    "\n",
    "def Main():\n",
    "    num = -70\n",
    "    a = math.fabs(num)\n",
    "    print(a)\n",
    "    \n",
    "if __name__==\"__main__\":\n",
    "    Main()"
   ]
  },
  {
   "cell_type": "markdown",
   "metadata": {},
   "source": [
    "# Python Keywords\n",
    "Keywords in Python are reserved words that can not be used as a variable name, function name, or any other identifier."
   ]
  },
  {
   "cell_type": "code",
   "execution_count": 18,
   "metadata": {},
   "outputs": [
    {
     "name": "stdout",
     "output_type": "stream",
     "text": [
      "All the Keywords\n",
      "['False', 'None', 'True', 'and', 'as', 'assert', 'async', 'await', 'break', 'class', 'continue', 'def', 'del', 'elif', 'else', 'except', 'finally', 'for', 'from', 'global', 'if', 'import', 'in', 'is', 'lambda', 'nonlocal', 'not', 'or', 'pass', 'raise', 'return', 'try', 'while', 'with', 'yield']\n"
     ]
    }
   ],
   "source": [
    "import keyword\n",
    "print(\"All the Keywords\")\n",
    "print(keyword.kwlist)"
   ]
  },
  {
   "cell_type": "markdown",
   "metadata": {},
   "source": [
    "# Let’s discuss each keyword in detail with the help of good examples."
   ]
  },
  {
   "cell_type": "markdown",
   "metadata": {},
   "source": [
    "# True, False, None\n",
    "True: This keyword is used to represent a boolean true. If a statement is true, “True” is printed.\n",
    "False: This keyword is used to represent a boolean false. If a statement is false, “False” is printed. \n",
    "None: This is a special constant used to denote a null value or a void. It’s important to remember, 0, any empty container(e.g empty list) does not compute to None. \n",
    "It is an object of its datatype – NoneType. It is not possible to create multiple None objects and can assign them to variables."
   ]
  },
  {
   "cell_type": "markdown",
   "metadata": {},
   "source": [
    "# and, or, not, in, is\n",
    "and: This a logical operator in python. “and” Return the first false value. If not found return last.\n",
    "or: This a logical operator in python. “or” Return the first True value.if not found return last. The truth table for “or” is depicted below. \n",
    "not: This logical operator inverts the truth value. The truth table for “not” is depicted below. \n",
    "in: This keyword is used to check if a container contains a value. This keyword is also used to loop through the container.\n",
    "is: This keyword is used to test object identity, i.e to check if both the objects take the same memory location or not. "
   ]
  },
  {
   "cell_type": "code",
   "execution_count": 2,
   "metadata": {},
   "outputs": [
    {
     "name": "stdout",
     "output_type": "stream",
     "text": [
      "True\n",
      "False\n",
      "s is present in world\n",
      "h \r\n",
      "True\n",
      "False\n",
      "e \r\n",
      "True\n",
      "False\n",
      "l \r\n",
      "True\n",
      "False\n",
      "l \r\n",
      "True\n",
      "False\n",
      "o \r\n",
      "True\n",
      "False\n",
      "w \r\n",
      "True\n",
      "False\n",
      "o \r\n",
      "True\n",
      "False\n",
      "r \r\n",
      "True\n",
      "False\n",
      "l \r\n",
      "True\n",
      "False\n",
      "d \r\n",
      "True\n",
      "False\n"
     ]
    },
    {
     "name": "stderr",
     "output_type": "stream",
     "text": [
      "<>:18: SyntaxWarning: \"is\" with a literal. Did you mean \"==\"?\n",
      "<>:18: SyntaxWarning: \"is\" with a literal. Did you mean \"==\"?\n",
      "<ipython-input-2-dad5313ce2d4>:18: SyntaxWarning: \"is\" with a literal. Did you mean \"==\"?\n",
      "  print(' ' is ' ')\n"
     ]
    }
   ],
   "source": [
    "#or\n",
    "print(True or False)\n",
    "#and\n",
    "print(False and True)\n",
    "\n",
    "\n",
    "if 's' in \"the green worlds is green\":\n",
    "    print('s is present in world')\n",
    "else:\n",
    "    print(\"s is not presented\")\n",
    "    \n",
    "for i in 'helloworld':    \n",
    "    print(i,end=\" \")\n",
    "    \n",
    "    \n",
    "    print('\\r')\n",
    "    \n",
    "    print(' ' is ' ')\n",
    "    \n",
    "    print({} is {})\n",
    "    "
   ]
  },
  {
   "cell_type": "markdown",
   "metadata": {},
   "source": [
    "# Iteration Keywords – for, while, break, continue\n",
    "for:\n",
    "This keyword is used to control flow and for looping.\n",
    "while: \n",
    "Has a similar working like “for”, used to control flow and for looping.\n",
    "break:\n",
    "“break” is used to control the flow of the loop. The statement is used to break out of the loop and passes the control to the statement following immediately after loop.\n",
    "\n",
    "continue: “continue” is also used to control the flow of code. The keyword skips the current iteration of the loop but does not end the loop."
   ]
  },
  {
   "cell_type": "code",
   "execution_count": 4,
   "metadata": {},
   "outputs": [
    {
     "name": "stdout",
     "output_type": "stream",
     "text": [
      "0 1 2 3 4 5 6 \n"
     ]
    }
   ],
   "source": [
    "for i in range(10):\n",
    "    print(i, end=\" \")\n",
    "    if i ==6:\n",
    "        break    "
   ]
  },
  {
   "cell_type": "code",
   "execution_count": 7,
   "metadata": {},
   "outputs": [
    {
     "name": "stdout",
     "output_type": "stream",
     "text": [
      "0 1 2 3 4 5 7 8 9 "
     ]
    }
   ],
   "source": [
    " i = 0\n",
    "while i<10:  \n",
    "    if i == 6:\n",
    "        i+= 1\n",
    "        continue\n",
    "    else:\n",
    "        print(i, end=\" \")\n",
    "    i += 1    "
   ]
  },
  {
   "cell_type": "markdown",
   "metadata": {},
   "source": [
    "# Conditional keywords – if, else, elif\n",
    "if : \n",
    "It is a control statement for decision making. Truth expression forces control to go in “if” statement block.\n",
    "else :\n",
    "It is a control statement for decision making. False expression forces control to go in “else” statement block.\n",
    "elif :\n",
    "It is a control statement for decision making. It is short for “else if“"
   ]
  },
  {
   "cell_type": "code",
   "execution_count": 9,
   "metadata": {},
   "outputs": [
    {
     "name": "stdout",
     "output_type": "stream",
     "text": [
      "i is 20\n"
     ]
    }
   ],
   "source": [
    " i = 20\n",
    " if (i == 10):\n",
    "    print('i is 10')\n",
    " elif (i == 20):\n",
    "    print(\"i is 20\")\n",
    " else:\n",
    "    print(\" i is not present\")"
   ]
  },
  {
   "cell_type": "markdown",
   "metadata": {},
   "source": [
    "# def\n",
    "def keyword is used to declare user defined functions."
   ]
  },
  {
   "cell_type": "code",
   "execution_count": 14,
   "metadata": {},
   "outputs": [
    {
     "data": {
      "text/plain": [
       "'hello world:green'"
      ]
     },
     "execution_count": 14,
     "metadata": {},
     "output_type": "execute_result"
    }
   ],
   "source": [
    "def hi():\n",
    "    x = \"hello world\"\n",
    "    y = ':green'\n",
    "    return x + y\n",
    "\n",
    "hi()\n"
   ]
  },
  {
   "cell_type": "markdown",
   "metadata": {},
   "source": [
    "# Return Keywords – Return, Yield\n",
    "return :\n",
    "This keyword is used to return from the function.\n",
    "yield :\n",
    "This keyword is used like return statement but is used to return a generator."
   ]
  },
  {
   "cell_type": "code",
   "execution_count": 36,
   "metadata": {},
   "outputs": [
    {
     "name": "stdout",
     "output_type": "stream",
     "text": [
      "45\n"
     ]
    }
   ],
   "source": [
    "def fun():\n",
    "    S = 0\n",
    "      \n",
    "    for i in range(10):\n",
    "        S += i\n",
    "    return S\n",
    "\n",
    "  \n",
    "print(fun())  "
   ]
  },
  {
   "cell_type": "code",
   "execution_count": 37,
   "metadata": {},
   "outputs": [
    {
     "name": "stdout",
     "output_type": "stream",
     "text": [
      "0\n",
      "1\n",
      "3\n",
      "6\n",
      "10\n",
      "15\n",
      "21\n",
      "28\n",
      "36\n",
      "45\n"
     ]
    }
   ],
   "source": [
    "def fun():\n",
    "    S = 0\n",
    "      \n",
    "    for i in range(10):\n",
    "        S += i\n",
    "        yield S\n",
    "  \n",
    "for i in fun():\n",
    "    print(i)"
   ]
  },
  {
   "cell_type": "markdown",
   "metadata": {},
   "source": [
    "# class\n",
    "class keyword is used to declare user defined classes."
   ]
  },
  {
   "cell_type": "code",
   "execution_count": 48,
   "metadata": {},
   "outputs": [
    {
     "name": "stdout",
     "output_type": "stream",
     "text": [
      "mammal\n",
      "this is mammal\n",
      "this is  dog\n"
     ]
    }
   ],
   "source": [
    "class dog:\n",
    "    \n",
    "    attr1 = \"mammal\"\n",
    "    attr2 = \"dog\"\n",
    "    \n",
    "    def fun(self):\n",
    "        print(\"this is\",self.attr1)\n",
    "        print(\"this is \",self.attr2)\n",
    "rodegr = dog()\n",
    "\n",
    "print(rodegr.attr1\n",
    "      \n",
    "rodegr.fun()"
   ]
  },
  {
   "cell_type": "markdown",
   "metadata": {},
   "source": [
    "# With\n",
    "with keyword is used to wrap the execution of block of code within methods defined by context manager. This keyword is not used much in day to day programming."
   ]
  },
  {
   "cell_type": "code",
   "execution_count": 51,
   "metadata": {},
   "outputs": [],
   "source": [
    "with open('./text.txt','w') as file:\n",
    "    file.write(\"this is new notepad\")"
   ]
  },
  {
   "cell_type": "markdown",
   "metadata": {},
   "source": [
    "# as\n",
    "as keyword is used to create the alias for the module imported. i.e giving a new name to the imported module. E.g import math as mymath."
   ]
  },
  {
   "cell_type": "code",
   "execution_count": 52,
   "metadata": {},
   "outputs": [
    {
     "name": "stdout",
     "output_type": "stream",
     "text": [
      "120\n"
     ]
    }
   ],
   "source": [
    "import math as gg\n",
    "print(gg.factorial(5))"
   ]
  },
  {
   "cell_type": "markdown",
   "metadata": {},
   "source": [
    "# pass\n",
    "pass is the null statement in python. Nothing happens when this is encountered.This is used to prevent indentation errors and used as a placeholder"
   ]
  },
  {
   "cell_type": "code",
   "execution_count": 54,
   "metadata": {},
   "outputs": [],
   "source": [
    "n= 10\n",
    "for i in range(10):\n",
    "    pass"
   ]
  },
  {
   "cell_type": "markdown",
   "metadata": {},
   "source": [
    "# Lambda\n",
    "Lambda keyword is used to make inline returning functions with no statements allowed internally. "
   ]
  },
  {
   "cell_type": "code",
   "execution_count": 56,
   "metadata": {},
   "outputs": [
    {
     "name": "stdout",
     "output_type": "stream",
     "text": [
      "512\n"
     ]
    }
   ],
   "source": [
    "j = lambda x : x*x*x \n",
    "\n",
    "print(j(8))"
   ]
  },
  {
   "cell_type": "markdown",
   "metadata": {},
   "source": [
    "# Import, From\n",
    "import : This statement is used to include a particular module into current program.\n",
    "from : Generally used with import, from is used to import particular functionality from the module imported."
   ]
  },
  {
   "cell_type": "code",
   "execution_count": 57,
   "metadata": {},
   "outputs": [
    {
     "name": "stdout",
     "output_type": "stream",
     "text": [
      "3628800\n",
      "3628800\n"
     ]
    }
   ],
   "source": [
    "# import keyword\n",
    "import math\n",
    "print(math.factorial(10))\n",
    "  \n",
    "# from keyword\n",
    "from math import factorial\n",
    "print(factorial(10))"
   ]
  },
  {
   "cell_type": "markdown",
   "metadata": {},
   "source": [
    "# Exception Handling Keywords – try, except, raise, finally, and assert\n",
    "try : \n",
    "This keyword is used for exception handling, used to catch the errors in the code using the keyword except. Code in “try” block is checked, if there is any type of error, except block is executed.\n",
    "except:\n",
    "As explained above, this works together with “try” to catch exceptions.\n",
    "finally :\n",
    "No matter what is result of the “try” block, block termed “finally” is always executed.\n",
    "raise:\n",
    "We can raise an exception explicitly with the raise keyword\n",
    "assert:\n",
    "This function is used for debugging purposes. Usually used to check the correctness of code. If a statement is evaluated to be true, nothing happens, but when it is false, “AssertionError” is raised. One can also print a message with the error, separated by a comma."
   ]
  },
  {
   "cell_type": "code",
   "execution_count": 61,
   "metadata": {},
   "outputs": [
    {
     "name": "stdout",
     "output_type": "stream",
     "text": [
      "Can't divide by zero\n",
      "This is always executed\n",
      "The value of a / b is : \n"
     ]
    }
   ],
   "source": [
    "# initializing number\n",
    "a = 4\n",
    "b = 0\n",
    "\n",
    "# No exception Exception raised in try block\n",
    "try:\n",
    "\tk = a//b # raises divide by zero exception.\n",
    "\tprint(k)\n",
    "\n",
    "# handles zerodivision exception\n",
    "except ZeroDivisionError:\n",
    "\tprint(\"Can't divide by zero\")\n",
    "\n",
    "finally:\n",
    "\t# this block is always executed\n",
    "\t# regardless of exception generation.\n",
    "\tprint('This is always executed')\n",
    "\n",
    "# assert Keyword\n",
    "# using assert to check for 0\n",
    "print (\"The value of a / b is : \")\n",
    "#assert b != 0, \"Divide by 0 error\"\n"
   ]
  },
  {
   "cell_type": "markdown",
   "metadata": {},
   "source": [
    "# del\n",
    "del is used to delete a reference to an object. Any variable or list value can be deleted using del."
   ]
  },
  {
   "cell_type": "code",
   "execution_count": 63,
   "metadata": {},
   "outputs": [
    {
     "name": "stdout",
     "output_type": "stream",
     "text": [
      "20\n",
      "GeeksForGeeks\n"
     ]
    }
   ],
   "source": [
    "my_variable1 = 20\n",
    "my_variable2 = \"GeeksForGeeks\"\n",
    "\n",
    "# check if my_variable1 and my_variable2 exists\n",
    "print(my_variable1)\n",
    "print(my_variable2)\n",
    "\n",
    "# delete both the variables\n",
    "del my_variable1\n",
    "del my_variable2"
   ]
  },
  {
   "cell_type": "markdown",
   "metadata": {},
   "source": [
    "# 2.Taking input in Python"
   ]
  },
  {
   "cell_type": "raw",
   "metadata": {},
   "source": [
    "Developers often have a need to interact with users, either to get data or to provide some sort of result. Most programs today use a dialog box as a way of asking the user to provide some type of input. While Python provides us with two inbuilt functions to read the input from the keyboard. \n",
    "\n",
    "input ( prompt )\n",
    "raw_input ( prompt )\n",
    "input ( ) : This function first takes the input from the user and convert it into string. Type of the returned object always will be <type ‘str’>. It does not evaluate the expression it just return the complete statement as String. For example – "
   ]
  },
  {
   "cell_type": "code",
   "execution_count": 1,
   "metadata": {},
   "outputs": [
    {
     "name": "stdout",
     "output_type": "stream",
     "text": [
      "Enter the inputi love python\n",
      "i love python\n"
     ]
    }
   ],
   "source": [
    "a = input(\"Enter the input\")\n",
    "print(a)"
   ]
  },
  {
   "cell_type": "markdown",
   "metadata": {},
   "source": [
    "# How the input function works in Python : \n",
    "When input() function executes program flow will be stopped until the user has given an input.\n",
    "The text or message display on the output screen to ask a user to enter input value is optional i.e. the prompt, will be printed on the screen is optional.\n",
    "Whatever you enter as input, input function convert it into a string. if you enter an integer value still input() function convert it into a string. You need to explicitly convert it into an integer in your code using typecasting. "
   ]
  },
  {
   "cell_type": "code",
   "execution_count": 3,
   "metadata": {},
   "outputs": [
    {
     "name": "stdout",
     "output_type": "stream",
     "text": [
      "Enter the number:good\n",
      "Enter the number:green\n",
      "good\n",
      "green\n",
      "Data type: <class 'str'>\n",
      "Datatype: <class 'str'>\n"
     ]
    }
   ],
   "source": [
    "num1 = input(\"Enter the number:\")\n",
    "num2 = input(\"Enter the number:\")\n",
    "\n",
    "print(num1)\n",
    "print(num2)\n",
    "print(\"Data type:\",type(num1))\n",
    "print(\"Datatype:\",type(num1))"
   ]
  },
  {
   "cell_type": "raw",
   "metadata": {},
   "source": [
    "raw_input ( ) : This function works in older version (like Python 2.x). This function takes exactly what is typed from the keyboard, convert it to string and then return it to the variable in which we want to store. For example –"
   ]
  },
  {
   "cell_type": "markdown",
   "metadata": {},
   "source": [
    "# Input and Output"
   ]
  },
  {
   "cell_type": "raw",
   "metadata": {},
   "source": [
    "What is Console in Python? \n",
    "Console (also called Shell) is basically a command line interpreter that takes input from the user i.e one command at a time and interprets it. \n",
    "If it is error free then it runs the command and gives required output otherwise shows the error message. A Python Console looks like this."
   ]
  },
  {
   "cell_type": "raw",
   "metadata": {},
   "source": [
    "Accepting Input from Console\n",
    "User enters the values in the Console and that value is then used in the program as it was required.\n",
    "To take input from the user we make use of a built-in function input()."
   ]
  },
  {
   "cell_type": "code",
   "execution_count": 6,
   "metadata": {},
   "outputs": [
    {
     "name": "stdout",
     "output_type": "stream",
     "text": [
      "f\n",
      "f\n"
     ]
    }
   ],
   "source": [
    "d = input()\n",
    "print(d)"
   ]
  },
  {
   "cell_type": "raw",
   "metadata": {},
   "source": [
    "We can also type cast this input to integer, float or string by specifying the input() function inside the type."
   ]
  },
  {
   "cell_type": "raw",
   "metadata": {},
   "source": [
    "Typecasting the input to Integer: \n",
    "\n",
    "There might be conditions when you might require integer input from user/Console, the following code takes two input(integer/float) from console and typecasts them to integer then prints the sum."
   ]
  },
  {
   "cell_type": "code",
   "execution_count": 7,
   "metadata": {},
   "outputs": [
    {
     "name": "stdout",
     "output_type": "stream",
     "text": [
      "Enter the 1st value:3\n",
      "Enter the 2nd value3\n",
      "6\n"
     ]
    }
   ],
   "source": [
    "num1 = int(input(\"Enter the 1st value:\"))\n",
    "num2 = int(input(\"Enter the 2nd value\"))\n",
    "\n",
    "print(num1+num2)"
   ]
  },
  {
   "cell_type": "raw",
   "metadata": {},
   "source": [
    "Typecasting the input to Float: \n",
    "    To convert the input to float the following code will work out."
   ]
  },
  {
   "cell_type": "code",
   "execution_count": 8,
   "metadata": {},
   "outputs": [
    {
     "name": "stdout",
     "output_type": "stream",
     "text": [
      "enter the number:4\n",
      "4.0\n"
     ]
    }
   ],
   "source": [
    "num1 = float(input(\"enter the number:\"))\n",
    "print(num1)"
   ]
  },
  {
   "cell_type": "raw",
   "metadata": {},
   "source": [
    "Typecasting the input to String: \n",
    "    All kind of input can be converted to string type whether they are float or integer. We make use of keyword str for typecasting."
   ]
  },
  {
   "cell_type": "code",
   "execution_count": 9,
   "metadata": {},
   "outputs": [
    {
     "name": "stdout",
     "output_type": "stream",
     "text": [
      "this is green\n",
      "this is green\n"
     ]
    }
   ],
   "source": [
    "s = str(input())\n",
    "print(s)"
   ]
  },
  {
   "cell_type": "raw",
   "metadata": {},
   "source": [
    "How to Input Multiple Values From User In One Line\n",
    "For instance, in C we can do something like this:"
   ]
  },
  {
   "cell_type": "code",
   "execution_count": 12,
   "metadata": {},
   "outputs": [
    {
     "name": "stdout",
     "output_type": "stream",
     "text": [
      "2\n",
      "2\n",
      "22\n"
     ]
    }
   ],
   "source": [
    "x, y = input(),  input()\n",
    "print(x+y)"
   ]
  },
  {
   "cell_type": "code",
   "execution_count": 16,
   "metadata": {},
   "outputs": [
    {
     "name": "stdout",
     "output_type": "stream",
     "text": [
      "grbeeeb\n",
      "['grbeeeb']\n"
     ]
    }
   ],
   "source": [
    "x = input().split()\n",
    "print(x)"
   ]
  },
  {
   "cell_type": "code",
   "execution_count": 18,
   "metadata": {},
   "outputs": [
    {
     "name": "stdout",
     "output_type": "stream",
     "text": [
      "12345\n",
      "[12345]\n"
     ]
    }
   ],
   "source": [
    "y = [int(x) for x in input().split()]\n",
    "print(y)"
   ]
  },
  {
   "cell_type": "code",
   "execution_count": 20,
   "metadata": {},
   "outputs": [
    {
     "name": "stdout",
     "output_type": "stream",
     "text": [
      "55555\n"
     ]
    }
   ],
   "source": [
    "x = map(int, input().split())"
   ]
  },
  {
   "cell_type": "code",
   "execution_count": 21,
   "metadata": {},
   "outputs": [
    {
     "name": "stdout",
     "output_type": "stream",
     "text": [
      "wellcome to the Python World "
     ]
    }
   ],
   "source": [
    "print(\"wellcome to the\", end=\" \")\n",
    "print(\"Python World\", end=\" \")"
   ]
  },
  {
   "cell_type": "code",
   "execution_count": 22,
   "metadata": {},
   "outputs": [
    {
     "name": "stdout",
     "output_type": "stream",
     "text": [
      "wellcome to the@Python World@"
     ]
    }
   ],
   "source": [
    "print(\"wellcome to the\", end=\"@\")\n",
    "print(\"Python World\", end=\"@\")"
   ]
  },
  {
   "cell_type": "markdown",
   "metadata": {},
   "source": [
    "# Taking multiple inputs from user in Python\n",
    "The developer often wants a user to enter multiple values or inputs in one line. In C++/C user can take multiple inputs in one line using scanf but in Python user can take multiple values or inputs in one line by two methods. \n",
    "\n",
    "Using split() method\n",
    "Using List comprehension"
   ]
  },
  {
   "cell_type": "code",
   "execution_count": 33,
   "metadata": {},
   "outputs": [
    {
     "name": "stdout",
     "output_type": "stream",
     "text": [
      "Enter the numberthe green\n",
      "enter the x: the\n",
      "enter the y: green\n"
     ]
    }
   ],
   "source": [
    "#taking two inputs \n",
    "x,y = input(\"Enter the number\").split()\n",
    "print(\"enter the x:\",x)\n",
    "print(\"enter the y:\",y)\n"
   ]
  },
  {
   "cell_type": "code",
   "execution_count": 34,
   "metadata": {},
   "outputs": [
    {
     "name": "stdout",
     "output_type": "stream",
     "text": [
      "Enter the valuethe space\n",
      "a valuethe and b valuespace\n"
     ]
    }
   ],
   "source": [
    "a,b = input(\"Enter the value\").split()\n",
    "print(\"a value{} and b value{}\".format(a,b))"
   ]
  },
  {
   "cell_type": "raw",
   "metadata": {},
   "source": [
    "Using List comprehension : \n",
    "List comprehension is an elegant way to define and create list in Python. We can create lists just like mathematical statements in one line only. It is also used in getting multiple inputs from a user. "
   ]
  },
  {
   "cell_type": "code",
   "execution_count": 31,
   "metadata": {},
   "outputs": [
    {
     "name": "stdout",
     "output_type": "stream",
     "text": [
      "Enter two values: 4\n",
      "First Number is:  [4]\n"
     ]
    }
   ],
   "source": []
  },
  {
   "cell_type": "code",
   "execution_count": 32,
   "metadata": {},
   "outputs": [
    {
     "name": "stdout",
     "output_type": "stream",
     "text": [
      "Enter multiple value: 4,5\n",
      "Number of list is:  [4, 5]\n"
     ]
    }
   ],
   "source": [
    "\n",
    "# taking multiple inputs at a time separated by comma\n",
    "x = [int(x) for x in input(\"Enter multiple value: \").split(\",\")]\n",
    "print(\"Number of list is: \", x) "
   ]
  },
  {
   "cell_type": "code",
   "execution_count": 35,
   "metadata": {},
   "outputs": [
    {
     "name": "stdout",
     "output_type": "stream",
     "text": [
      "Enter three values: 1 2 3\n",
      "First Number is:  1\n",
      "Second Number is:  2\n",
      "Third Number is:  3\n",
      "\n"
     ]
    }
   ],
   "source": [
    "x, y, z = [int(x) for x in input(\"Enter three values: \").split()]\n",
    "print(\"First Number is: \", x)\n",
    "print(\"Second Number is: \", y)\n",
    "print(\"Third Number is: \", z)\n",
    "print()\n",
    "  "
   ]
  },
  {
   "cell_type": "code",
   "execution_count": 38,
   "metadata": {},
   "outputs": [
    {
     "name": "stdout",
     "output_type": "stream",
     "text": [
      "enter the 4 intger value:1 2 3 4\n",
      "X value is : 1\n",
      "y value is : 2\n",
      "z value is : 3\n",
      "g value is : 4\n"
     ]
    }
   ],
   "source": [
    "x,y ,z,g = [int(x) for x in input(\"enter the 4 intger value:\").split()]\n",
    "print(\"X value is :\",x)\n",
    "print(\"y value is :\",y)\n",
    "print(\"z value is :\",z)\n",
    "print(\"g value is :\",g)"
   ]
  },
  {
   "cell_type": "code",
   "execution_count": 46,
   "metadata": {},
   "outputs": [
    {
     "name": "stdout",
     "output_type": "stream",
     "text": [
      "Enter the Value:1,2,3,4,5\n",
      "the list is: [1, 2, 3, 4, 5]\n"
     ]
    }
   ],
   "source": [
    "x = [int(x) for x in input(\"Enter the Value:\").split(\",\")]\n",
    "print(\"the list is:\",x)"
   ]
  },
  {
   "cell_type": "markdown",
   "metadata": {},
   "source": [
    "# Python | Output using print() function\n",
    "Python print() function prints the message to the screen or any other standard output device."
   ]
  },
  {
   "cell_type": "raw",
   "metadata": {},
   "source": [
    "Though it is not necessary to pass arguments in the print() function, it requires an empty parenthesis at the end that tells python to execute the function rather calling it by name. Now, let’s explore the optional arguments that can be used with the print() function."
   ]
  },
  {
   "cell_type": "raw",
   "metadata": {},
   "source": [
    "String Literals\n",
    "String literals in python’s print statement are primarily used to format or design how a specific string appears when printed using the print() function.\n",
    "\n",
    "\\n : This string literal is used to add a new blank line while printing a statement.\n",
    "“” : An empty quote (“”) is used to print an empty line."
   ]
  },
  {
   "cell_type": "code",
   "execution_count": 48,
   "metadata": {},
   "outputs": [
    {
     "name": "stdout",
     "output_type": "stream",
     "text": [
      "this is Aleem \n",
      " and the world green\n"
     ]
    }
   ],
   "source": [
    "print(\"this is Aleem \\n and the world green\")"
   ]
  },
  {
   "cell_type": "raw",
   "metadata": {},
   "source": [
    "end= ” ” statement\n",
    "The end keyword is used to specify the content that is to be printed at the end of the execution of the print() function. By default, it is set to “\\n”, which leads to the change of line after the execution of print() statement."
   ]
  },
  {
   "cell_type": "code",
   "execution_count": 50,
   "metadata": {},
   "outputs": [
    {
     "name": "stdout",
     "output_type": "stream",
     "text": [
      "GeeksForGeeks is the best platform for DSA content....Welcome to GFG\n"
     ]
    }
   ],
   "source": [
    "print (\"GeeksForGeeks is the best platform for DSA content\", end= \"....\")\n",
    "print(\"Welcome to GFG\")"
   ]
  },
  {
   "cell_type": "raw",
   "metadata": {},
   "source": [
    "flush Argument\n",
    "The I/Os in python are generally buffered, meaning they are used in chunks. This is where flush comes in as it helps users to decide if they need the written content to be buffered or not. By default, it is set to false. If it is set to true, the output will be written as a sequence of characters one after the other. This process is slow simply because it is easier to write in chunks rather than writing one character at a time. To understand the use case of the flush argument in the print() function, let’s take an example."
   ]
  },
  {
   "cell_type": "code",
   "execution_count": 51,
   "metadata": {},
   "outputs": [
    {
     "name": "stdout",
     "output_type": "stream",
     "text": [
      "5>>>>>>>>4>>>>>>>>3>>>>>>>>2>>>>>>>>1>>>>>>>>start\n"
     ]
    }
   ],
   "source": [
    "import time \n",
    "count = 5\n",
    "for i in reversed(range(count +1)):\n",
    "    if i >0:\n",
    "        print(i, end=\">>>>>>>>\")\n",
    "        time.sleep(1)\n",
    "    else:\n",
    "        print(\"start\")"
   ]
  },
  {
   "cell_type": "code",
   "execution_count": 52,
   "metadata": {},
   "outputs": [
    {
     "name": "stdout",
     "output_type": "stream",
     "text": [
      "10>>>9>>>8>>>7>>>6>>>5>>>4>>>3>>>2>>>1>>>Start\n"
     ]
    }
   ],
   "source": [
    "import time\n",
    "counter_time = 10\n",
    "\n",
    "for i in reversed(range(counter_time +1)):\n",
    "    if i > 0:\n",
    "        print(i, end=\">>>\", flush=True)\n",
    "        time.sleep(1)\n",
    "    else:\n",
    "        print(\"Start\")"
   ]
  },
  {
   "cell_type": "raw",
   "metadata": {},
   "source": [
    "Separator\n",
    "The print() function can accept any number of positional arguments. These arguments can be separated from each other using a “,” separator. These are primarily used for formatting multiple statements in a single print() function."
   ]
  },
  {
   "cell_type": "code",
   "execution_count": 53,
   "metadata": {},
   "outputs": [
    {
     "name": "stdout",
     "output_type": "stream",
     "text": [
      "Malik Aleem Raza\n"
     ]
    }
   ],
   "source": [
    "mid =\"Aleem\"\n",
    "print(\"Malik\",mid,\"Raza\")"
   ]
  },
  {
   "cell_type": "raw",
   "metadata": {},
   "source": [
    "file Argument\n",
    "Contrary to popular belief, the print() function doesn’t convert the messages into text on the screen. These are done by lower-level layers of code, that can read data(message) in bytes. The print() function is an interface over these layers, that delegates the actual printing to a stream or file-like object. By default, the print() function is bound to sys.stdout through the file argument. "
   ]
  },
  {
   "cell_type": "code",
   "execution_count": 54,
   "metadata": {},
   "outputs": [
    {
     "name": "stdout",
     "output_type": "stream",
     "text": [
      "GeeksForGeeks\n",
      "x = 5\n",
      "GFG\n",
      "Python@GeeksforGeeks\n"
     ]
    }
   ],
   "source": [
    "# Python 3.x program showing\n",
    "# how to print data on\n",
    "# a screen\n",
    "\n",
    "# One object is passed\n",
    "print(\"GeeksForGeeks\")\n",
    "\n",
    "x = 5\n",
    "# Two objects are passed\n",
    "print(\"x =\", x)\n",
    "\n",
    "# code for disabling the softspace feature\n",
    "print('G', 'F', 'G', sep='')\n",
    "\n",
    "# using end argument\n",
    "print(\"Python\", end='@')\n",
    "print(\"GeeksforGeeks\")\n"
   ]
  },
  {
   "cell_type": "markdown",
   "metadata": {},
   "source": [
    "# How to print without newline in Python?\n",
    "Generally, people switching from C/C++ to Python wonder how to print two or more variables or statements without going into a new line in python. Since the python print() function by default ends with a newline. Python has a predefined format if you use print(a_variable) then it will go to the next line automatically. "
   ]
  },
  {
   "cell_type": "code",
   "execution_count": 56,
   "metadata": {},
   "outputs": [
    {
     "name": "stdout",
     "output_type": "stream",
     "text": [
      "the world is world\n",
      "the world is world\n"
     ]
    }
   ],
   "source": [
    "print(\"the world is world\")\n",
    "print(\"the world is world\")"
   ]
  },
  {
   "cell_type": "code",
   "execution_count": 59,
   "metadata": {},
   "outputs": [
    {
     "name": "stdout",
     "output_type": "stream",
     "text": [
      "1 2 3 4 5 6 "
     ]
    }
   ],
   "source": [
    "a = [1,2,3,4,5,6]\n",
    "for i in range(6):\n",
    "    print(a[i], end=\" \")"
   ]
  },
  {
   "cell_type": "markdown",
   "metadata": {},
   "source": [
    "# Python end parameter in print()\n",
    "Python’s print() function comes with a parameter called ‘end’. By default, the value of this parameter is ‘\\n’, i.e. the new line character. You can end a print statement with any character/string using this parameter."
   ]
  },
  {
   "cell_type": "code",
   "execution_count": 60,
   "metadata": {},
   "outputs": [
    {
     "name": "stdout",
     "output_type": "stream",
     "text": [
      "Welcome to GeeksforGeeks "
     ]
    }
   ],
   "source": [
    "print(\"Welcome to\" , end = ' ') \n",
    "print(\"GeeksforGeeks\", end = ' ')"
   ]
  },
  {
   "cell_type": "code",
   "execution_count": 61,
   "metadata": {},
   "outputs": [
    {
     "name": "stdout",
     "output_type": "stream",
     "text": [
      "Python@GeeksforGeeks\n"
     ]
    }
   ],
   "source": [
    "print(\"Python\" , end = '@') \n",
    "print(\"GeeksforGeeks\")"
   ]
  },
  {
   "cell_type": "markdown",
   "metadata": {},
   "source": [
    "# Python | sep parameter in print()\n",
    "The separator between the arguments to print() function in Python is space by default (softspace feature) , which can be modified and can be made to any character, integer or string as per our choice. The ‘sep’ parameter is used to achieve the same, it is found only in python 3.x or later. It is also used for formatting the output strings."
   ]
  },
  {
   "cell_type": "code",
   "execution_count": 66,
   "metadata": {},
   "outputs": [
    {
     "name": "stdout",
     "output_type": "stream",
     "text": [
      "this is world for your\n",
      "09-10-2022\n",
      "this@is world for your\n"
     ]
    }
   ],
   "source": [
    "print(\"this is world for your\",sep=\" \")\n",
    "print(\"09\",\"10\",\"2022\",sep='-')\n",
    "print(\"this\",\"is world for your\",sep=\"@\")"
   ]
  },
  {
   "cell_type": "code",
   "execution_count": 67,
   "metadata": {},
   "outputs": [
    {
     "name": "stdout",
     "output_type": "stream",
     "text": [
      "GFG\n",
      "09-12-2016\n",
      "prtkagarwal@geeksforgeeks\n"
     ]
    }
   ],
   "source": [
    "print('G','F', sep='', end='')\n",
    "print('G')\n",
    "#\\n provides new line after printing the year\n",
    "print('09','12','2016', sep='-', end='\\n')\n",
    " \n",
    "print('prtk','agarwal', sep='', end='@')\n",
    "print('geeksforgeeks')"
   ]
  },
  {
   "cell_type": "markdown",
   "metadata": {},
   "source": [
    "# Python | Output Formatting\n",
    "There are several ways to present the output of a program. Data can be printed in a human-readable form, or written to a file for future use, or even in some other specified form. Users often want more control over the formatting of output than simply printing space-separated values. There are several ways to format output. "
   ]
  },
  {
   "cell_type": "code",
   "execution_count": null,
   "metadata": {},
   "outputs": [],
   "source": []
  },
  {
   "cell_type": "code",
   "execution_count": null,
   "metadata": {},
   "outputs": [],
   "source": []
  },
  {
   "cell_type": "markdown",
   "metadata": {},
   "source": [
    "# 3.Operators \n",
    "Python Operators in general are used to perform operations on values and variables. These are standard symbols used for the purpose of logical and arithmetic operations."
   ]
  },
  {
   "cell_type": "markdown",
   "metadata": {},
   "source": [
    "\n",
    "<h4>Arithmetic Operators</h4>\n",
    "Arithmetic operators are used to performing mathematical operations like\n",
    "1.addition\n",
    "2.subtraction\n",
    "3.multiplication\n",
    "4.division."
   ]
  },
  {
   "cell_type": "code",
   "execution_count": null,
   "metadata": {},
   "outputs": [],
   "source": [
    "+   Addition: adds two operands\n",
    "–   Subtraction: subtracts two operands  \n",
    "*   Multiplication: multiplies two operands \n",
    "/   Division (float): divides the first operand by the second \n",
    "//  Division (floor): divides the first operand by the second   \n",
    "%   Modulus: returns the remainder when the first operand is divided by the second   \n",
    "**  Power: Returns first raised to power second    "
   ]
  },
  {
   "cell_type": "code",
   "execution_count": 69,
   "metadata": {},
   "outputs": [
    {
     "name": "stdout",
     "output_type": "stream",
     "text": [
      "8\n",
      "2\n",
      "15\n",
      "1.6666666666666667\n",
      "1\n",
      "2\n",
      "125\n"
     ]
    }
   ],
   "source": [
    "x = 5\n",
    "y = 3\n",
    "\n",
    "print(x+y)\n",
    "print(x-y)\n",
    "print(x*y)\n",
    "print(x/y)\n",
    "print(x//y)\n",
    "print(x%y)\n",
    "print(x**y)"
   ]
  },
  {
   "cell_type": "code",
   "execution_count": 73,
   "metadata": {},
   "outputs": [
    {
     "name": "stdout",
     "output_type": "stream",
     "text": [
      "125\n"
     ]
    }
   ],
   "source": [
    "x = lambda x: x*x*x\n",
    "print(x(5))"
   ]
  },
  {
   "cell_type": "markdown",
   "metadata": {},
   "source": [
    "<h4>Comparison Operators</h4>\n",
    "Comparison of Relational operators compares the values. It either returns True or False according to the condition."
   ]
  },
  {
   "cell_type": "raw",
   "metadata": {},
   "source": [
    ">   Greater than: True if the left operand is greater than the right\tx > y\n",
    "<   Less than: True if the left operand is less than the right\tx < y\n",
    "==  Equal to: True if both operands are equal\tx == y\n",
    "!=  Not equal to – True if operands are not equal\tx != y\n",
    ">=  Greater than or equal to True if the left operand is greater than or equal to the right\tx >= y\n",
    "<=  Less than or equal to True if the left operand is less than or equal to the right\tx <= y"
   ]
  },
  {
   "cell_type": "code",
   "execution_count": 76,
   "metadata": {},
   "outputs": [
    {
     "name": "stdout",
     "output_type": "stream",
     "text": [
      "False\n",
      "True\n",
      "False\n",
      "True\n",
      "False\n",
      "True\n"
     ]
    }
   ],
   "source": [
    "a = 13\n",
    "b = 33\n",
    "print(a>b)\n",
    "print(a<b)\n",
    "print(a==b)\n",
    "print(a!=b)\n",
    "print(a>=b)\n",
    "print(a<=b)"
   ]
  },
  {
   "cell_type": "markdown",
   "metadata": {},
   "source": [
    "# <h4>Logical Operators</h4>\n",
    "Logical operators perform Logical AND, Logical OR, and Logical NOT operations. It is used to combine conditional statements."
   ]
  },
  {
   "cell_type": "raw",
   "metadata": {},
   "source": [
    "and\tLogical AND: True if both the operands are true\tx and y\n",
    "or\tLogical OR: True if either of the operands is true \tx or y\n",
    "not\tLogical NOT: True if the operand is false \tnot x"
   ]
  },
  {
   "cell_type": "code",
   "execution_count": 77,
   "metadata": {},
   "outputs": [
    {
     "name": "stdout",
     "output_type": "stream",
     "text": [
      "False\n",
      "True\n",
      "False\n"
     ]
    }
   ],
   "source": [
    "x = True\n",
    "y = False\n",
    "\n",
    "print(x and y)\n",
    "print(x or y)\n",
    "print(not x)"
   ]
  },
  {
   "cell_type": "markdown",
   "metadata": {},
   "source": [
    " <h4>Bitwise Operators</h4>\n",
    "Bitwise operators act on bits and perform the bit-by-bit operations. These are used to operate on binary numbers."
   ]
  },
  {
   "cell_type": "raw",
   "metadata": {},
   "source": [
    "&\tBitwise AND\tx & y\n",
    "|\tBitwise OR\tx | y\n",
    "~\tBitwise NOT\t~x\n",
    "^\tBitwise XOR\tx ^ y\n",
    ">>\tBitwise right shift\tx>>\n",
    "<<\tBitwise left shift\tx<<"
   ]
  },
  {
   "cell_type": "code",
   "execution_count": 1,
   "metadata": {},
   "outputs": [
    {
     "name": "stdout",
     "output_type": "stream",
     "text": [
      "0\n",
      "14\n",
      "-11\n",
      "14\n",
      "2\n",
      "40\n"
     ]
    }
   ],
   "source": [
    "# Examples of Bitwise operators\n",
    "a = 10\n",
    "b = 4\n",
    "  \n",
    "# Print bitwise AND operation\n",
    "print(a & b)\n",
    "  \n",
    "# Print bitwise OR operation\n",
    "print(a | b)\n",
    "  \n",
    "# Print bitwise NOT operation\n",
    "print(~a)\n",
    "  \n",
    "# print bitwise XOR operation\n",
    "print(a ^ b)\n",
    "  \n",
    "# print bitwise right shift operation\n",
    "print(a >> 2)\n",
    "  \n",
    "# print bitwise left shift operation\n",
    "print(a << 2)"
   ]
  },
  {
   "cell_type": "markdown",
   "metadata": {},
   "source": [
    "<h4>Assignment Operators</h4> \n",
    "Assignment operators are used to assigning values to the variables."
   ]
  },
  {
   "cell_type": "raw",
   "metadata": {},
   "source": [
    "=\tAssign value of right side of expression to left side operand \tx = y + z\n",
    "+=\tAdd AND: Add right-side operand with left side operand and then assign to left operand\ta+=b     a=a+b\n",
    "-=\tSubtract AND: Subtract right operand from left operand and then assign to left operand\ta-=b     a=a-b\n",
    "*=\tMultiply AND: Multiply right operand with left operand and then assign to left operand\ta*=b     a=a*b\n",
    "/=\tDivide AND: Divide left operand with right operand and then assign to left operand\ta/=b     a=a/b\n",
    "%=\tModulus AND: Takes modulus using left and right operands and assign the result to left operand\ta%=b     a=a%b\n",
    "//=\tDivide(floor) AND: Divide left operand with right operand and then assign the value(floor) to left operand\ta//=b     a=a//b\n",
    "**=\tExponent AND: Calculate exponent(raise power) value using operands and assign value to left operand\ta**=b     a=a**b\n",
    "&=\tPerforms Bitwise AND on operands and assign value to left operand\ta&=b     a=a&b\n",
    "|=\tPerforms Bitwise OR on operands and assign value to left operand\ta|=b     a=a|b\n",
    "^=\tPerforms Bitwise xOR on operands and assign value to left operand\ta^=b     a=a^b\n",
    ">>=\tPerforms Bitwise right shift on operands and assign value to left operand\ta>>=b     a=a>>b\n",
    "<<=\tPerforms Bitwise left shift on operands and assign value to left operand\ta <<= b     a= a << b"
   ]
  },
  {
   "cell_type": "code",
   "execution_count": 3,
   "metadata": {},
   "outputs": [
    {
     "name": "stdout",
     "output_type": "stream",
     "text": [
      "10\n",
      "20\n",
      "10\n",
      "100\n",
      "102400\n"
     ]
    }
   ],
   "source": [
    "# Examples of Assignment Operators\n",
    "a = 10\n",
    "  \n",
    "# Assign value\n",
    "b = a\n",
    "print(b)\n",
    "  \n",
    "# Add and assign value\n",
    "b += a\n",
    "print(b)\n",
    "  \n",
    "# Subtract and assign value\n",
    "b -= a\n",
    "print(b)\n",
    "  \n",
    "# multiply and assign\n",
    "b *= a\n",
    "print(b)\n",
    "  \n",
    "# bitwise lishift operator\n",
    "b <<= a\n",
    "print(b)"
   ]
  },
  {
   "cell_type": "markdown",
   "metadata": {},
   "source": [
    "<h4>Identity Operators</h4>\n",
    "is and is not are the identity operators both are used to check if two values are located on the same part of the memory. Two variables that are equal do not imply that they are identical. "
   ]
  },
  {
   "cell_type": "code",
   "execution_count": 6,
   "metadata": {},
   "outputs": [
    {
     "name": "stdout",
     "output_type": "stream",
     "text": [
      "True\n",
      "True\n"
     ]
    }
   ],
   "source": [
    "a = 10\n",
    "b = 20\n",
    "c = a\n",
    "  \n",
    "print(a is not b)\n",
    "print(a is c)"
   ]
  },
  {
   "cell_type": "markdown",
   "metadata": {},
   "source": [
    "\n",
    "<h4>Membership Operators</h4>\n",
    "in and not in are the membership operators; used to test whether a value or variable is in a sequence.\n",
    "\n",
    "in            True if value is found in the sequence\n",
    "not in        True if value is not found in the sequence"
   ]
  },
  {
   "cell_type": "code",
   "execution_count": 7,
   "metadata": {},
   "outputs": [
    {
     "name": "stdout",
     "output_type": "stream",
     "text": [
      "x is present in list\n",
      "y is presented in list\n"
     ]
    }
   ],
   "source": [
    "x = 10\n",
    "y = 20\n",
    "\n",
    "list = [10,23,20,30,40,50]\n",
    "if (x not in list ):\n",
    "    print(\"x is not present in list\")\n",
    "else:\n",
    "    print(\"x is present in list\")\n",
    "    \n",
    "if (y not in list):\n",
    "    print(\"y is not presented in list\")\n",
    "else:\n",
    "    print(\"y is presented in list\")\n",
    "    "
   ]
  },
  {
   "cell_type": "markdown",
   "metadata": {},
   "source": [
    "\n",
    "<h4>Operator Precedence</h4>\n",
    "This is used in an expression with more than one operator with different precedence to determine which operation to perform first."
   ]
  },
  {
   "cell_type": "code",
   "execution_count": 8,
   "metadata": {},
   "outputs": [
    {
     "name": "stdout",
     "output_type": "stream",
     "text": [
      "460\n",
      "wellcome\n"
     ]
    }
   ],
   "source": [
    "total = 10+45*10\n",
    "print(total)\n",
    "\n",
    "name = \"Aleem\"\n",
    "age  = 0\n",
    "\n",
    "if name == \"Aleem\" or name == \"raza\" and age >=2:\n",
    "    print(\"wellcome\")\n",
    "else:\n",
    "    print(\"not wellcome\")\n",
    "    \n"
   ]
  },
  {
   "cell_type": "code",
   "execution_count": 9,
   "metadata": {},
   "outputs": [
    {
     "name": "stdout",
     "output_type": "stream",
     "text": [
      "100.0\n",
      "6\n",
      "0\n",
      "512\n"
     ]
    }
   ],
   "source": [
    "# Examples of Operator Associativity\n",
    "\n",
    "# Left-right associativity\n",
    "# 100 / 10 * 10 is calculated as\n",
    "# (100 / 10) * 10 and not\n",
    "# as 100 / (10 * 10)\n",
    "print(100 / 10 * 10)\n",
    "\n",
    "# Left-right associativity\n",
    "# 5 - 2 + 3 is calculated as\n",
    "# (5 - 2) + 3 and not\n",
    "# as 5 - (2 + 3)\n",
    "print(5 - 2 + 3)\n",
    "\n",
    "# left-right associativity\n",
    "print(5 - (2 + 3))\n",
    "\n",
    "# right-left associativity\n",
    "# 2 ** 3 ** 2 is calculated as\n",
    "# 2 ** (3 ** 2) and not\n",
    "# as (2 ** 3) ** 2\n",
    "print(2 ** 3 ** 2)\n"
   ]
  },
  {
   "cell_type": "code",
   "execution_count": 10,
   "metadata": {},
   "outputs": [
    {
     "name": "stdout",
     "output_type": "stream",
     "text": [
      "10\n"
     ]
    }
   ],
   "source": [
    "# Program to demonstrate conditional operator\n",
    "a, b = 10, 20\n",
    "\n",
    "# Copy value of a in min if a < b else copy b\n",
    "min = a if a < b else b\n",
    "\n",
    "print(min)\n"
   ]
  },
  {
   "cell_type": "code",
   "execution_count": 11,
   "metadata": {},
   "outputs": [
    {
     "name": "stdout",
     "output_type": "stream",
     "text": [
      "10\n",
      "10\n",
      "10\n"
     ]
    }
   ],
   "source": [
    "# Python program to demonstrate ternary operator\n",
    "a, b = 10, 20\n",
    "\n",
    "# Use tuple for selecting an item\n",
    "# (if_test_false,if_test_true)[test]\n",
    "# if [a<b] is true it return 1, so element with 1 index will print\n",
    "# else if [a<b] is false it return 0, so element with 0 index will print\n",
    "print( (b, a) [a < b] )\n",
    "\n",
    "# Use Dictionary for selecting an item\n",
    "# if [a < b] is true then value of True key will print\n",
    "# else if [a<b] is false then value of False key will print\n",
    "print({True: a, False: b} [a < b])\n",
    "\n",
    "# lambda is more efficient than above two methods\n",
    "# because in lambda we are assure that\n",
    "# only one expression will be evaluated unlike in\n",
    "# tuple and Dictionary\n",
    "print((lambda: b, lambda: a)[a < b]())\n"
   ]
  },
  {
   "cell_type": "markdown",
   "metadata": {},
   "source": [
    "# Data Types"
   ]
  },
  {
   "cell_type": "markdown",
   "metadata": {},
   "source": [
    "<h4>Strings in Python</h4>\n",
    "\n",
    "A string is a sequence of characters. It can be declared in python by using double-quotes. Strings are immutable, i.e., they cannot be changed."
   ]
  },
  {
   "cell_type": "code",
   "execution_count": 12,
   "metadata": {},
   "outputs": [
    {
     "name": "stdout",
     "output_type": "stream",
     "text": [
      "this is string\n"
     ]
    }
   ],
   "source": [
    " string = \"this is string\"\n",
    " print(string)   "
   ]
  },
  {
   "cell_type": "markdown",
   "metadata": {},
   "source": [
    "<h4>Lists in Python</h4>\n",
    "\n",
    "Lists are one of the most powerful tools in python. They are just like the arrays declared in other languages. But the most powerful thing is that list need not be always homogeneous. A single list can contain strings, integers, as well as objects. Lists can also be used for implementing stacks and queues. Lists are mutable, i.e., they can be altered once declared."
   ]
  },
  {
   "cell_type": "code",
   "execution_count": 16,
   "metadata": {},
   "outputs": [
    {
     "name": "stdout",
     "output_type": "stream",
     "text": [
      "[1, 3, 4, 5, 6]\n",
      "[1, 3, 4, 5, 6, 10]\n",
      "[1, 3, 4, 5, 6]\n",
      "1\n"
     ]
    }
   ],
   "source": [
    "l = [1,3,4,5,6]\n",
    "print(l)\n",
    "l.append(10)\n",
    "print(l)\n",
    "l.pop()\n",
    "print(l)\n",
    "print(l[0])"
   ]
  },
  {
   "cell_type": "code",
   "execution_count": null,
   "metadata": {},
   "outputs": [],
   "source": [
    "<h4>Tuples in Python</h4>\n",
    "A tuple is a sequence of immutable Python objects. Tuples are just like lists with the exception that tuples cannot be changed once declared. Tuples are usually faster than lists."
   ]
  },
  {
   "cell_type": "code",
   "execution_count": 18,
   "metadata": {},
   "outputs": [
    {
     "name": "stdout",
     "output_type": "stream",
     "text": [
      "(1, 'a', 'string', 3)\n",
      "a\n"
     ]
    }
   ],
   "source": [
    "tup = (1, \"a\", \"string\", 1+2)\n",
    "print(tup)\n",
    "print(tup[1])"
   ]
  },
  {
   "cell_type": "markdown",
   "metadata": {},
   "source": [
    " <h4>terations in Python</h4>\n",
    "Iterations or looping can be performed in python by ‘for’ and ‘while’ loops. Apart from iterating upon a particular condition, we can also iterate on strings, lists, and tuples."
   ]
  },
  {
   "cell_type": "code",
   "execution_count": 24,
   "metadata": {},
   "outputs": [
    {
     "name": "stdout",
     "output_type": "stream",
     "text": [
      "0\n",
      "1\n",
      "2\n",
      "3\n",
      "4\n",
      "5\n",
      "6\n",
      "7\n",
      "8\n",
      "9\n"
     ]
    }
   ],
   "source": [
    "#Example 1: Iteration by while loop for a condition\n",
    "i =  0\n",
    "while (i<10):\n",
    "    print(i)\n",
    "    i += 1\n",
    "    "
   ]
  },
  {
   "cell_type": "code",
   "execution_count": 27,
   "metadata": {},
   "outputs": [
    {
     "name": "stdout",
     "output_type": "stream",
     "text": [
      "t\n",
      "h\n",
      "i\n",
      "s\n",
      " \n",
      "i\n",
      "s\n",
      " \n",
      "g\n",
      "r\n",
      "e\n",
      "a\n",
      "t\n",
      "e\n",
      "r\n",
      " \n",
      "l\n",
      "i\n",
      "f\n",
      "e\n"
     ]
    }
   ],
   "source": [
    "s =\"this is greater life\"\n",
    "for i in s:\n",
    "    print(i)"
   ]
  },
  {
   "cell_type": "code",
   "execution_count": 32,
   "metadata": {},
   "outputs": [
    {
     "name": "stdout",
     "output_type": "stream",
     "text": [
      "1\n",
      "4\n",
      "5\n",
      "7\n",
      "8\n",
      "9\n"
     ]
    }
   ],
   "source": [
    "L = [1, 4, 5, 7, 8, 9]\n",
    "for g in L:\n",
    "    print(g)\n",
    "    \n",
    "    "
   ]
  },
  {
   "cell_type": "code",
   "execution_count": 33,
   "metadata": {},
   "outputs": [
    {
     "name": "stdout",
     "output_type": "stream",
     "text": [
      "0\n",
      "1\n",
      "2\n",
      "3\n",
      "4\n",
      "5\n",
      "6\n",
      "7\n",
      "8\n",
      "9\n"
     ]
    }
   ],
   "source": [
    "for h in range(10):\n",
    "    print(h)"
   ]
  },
  {
   "cell_type": "markdown",
   "metadata": {},
   "source": [
    "# Difference between ‘==’ and ‘ is ‘ operator\n",
    "The Equality operator (==) compares the values of both the operands and checks for value equality. Whereas the ‘is’ operator checks whether both the operands refer to the same object or not (present in the same memory location)."
   ]
  },
  {
   "cell_type": "code",
   "execution_count": 35,
   "metadata": {},
   "outputs": [
    {
     "name": "stdout",
     "output_type": "stream",
     "text": [
      "True\n",
      "True\n"
     ]
    }
   ],
   "source": [
    "l1 = []\n",
    "l2 = []\n",
    "l2 = l1\n",
    "\n",
    "if (l1 == l2):\n",
    "    print(True)\n",
    "else:\n",
    "    print(False)\n",
    "\n",
    "if (l1 is l2):\n",
    "    print(True)\n",
    "else:\n",
    "    print(False)\n",
    "    "
   ]
  },
  {
   "cell_type": "markdown",
   "metadata": {},
   "source": [
    "# Operator Overloading in Python\n",
    "Consider that we have two objects which are a physical representation of a class (user-defined data type) and we have to add two objects with binary ‘+’ operator it throws an error, because compiler don’t know how to add two objects. So we define a method for an operator and that process is called operator overloading. \n"
   ]
  },
  {
   "cell_type": "code",
   "execution_count": 38,
   "metadata": {},
   "outputs": [
    {
     "name": "stdout",
     "output_type": "stream",
     "text": [
      "10\n",
      ">>>>>>>>>>\n",
      "AleemAleemAleemAleemAleem\n",
      "AleemMalik\n"
     ]
    }
   ],
   "source": [
    "print(5+5)\n",
    "print(\">\"*10)\n",
    "print(\"Aleem\"*5)\n",
    "print(\"Aleem\"+\"Malik\")"
   ]
  },
  {
   "cell_type": "code",
   "execution_count": 42,
   "metadata": {},
   "outputs": [
    {
     "name": "stdout",
     "output_type": "stream",
     "text": [
      "3\n",
      "GeeksFor\n"
     ]
    }
   ],
   "source": [
    "class A:\n",
    "    def __init__(self, a):\n",
    "        self.a = a\n",
    " \n",
    "    # adding two objects\n",
    "    def __add__(self, o):\n",
    "        return self.a + o.a\n",
    "ob1 = A(1)\n",
    "ob2 = A(2)\n",
    "ob3 = A(\"Geeks\")\n",
    "ob4 = A(\"For\")\n",
    " \n",
    "print(ob1 + ob2)\n",
    "print(ob3 + ob4)"
   ]
  },
  {
   "cell_type": "code",
   "execution_count": 49,
   "metadata": {},
   "outputs": [
    {
     "name": "stdout",
     "output_type": "stream",
     "text": [
      "20\n",
      "MalikAleem\n"
     ]
    }
   ],
   "source": [
    "class add:\n",
    "    def __init__(self,a):\n",
    "        self.a = a\n",
    "        \n",
    "    def __add__(self,b):\n",
    "        return self.a + b.a\n",
    "    \n",
    "\n",
    "add1 = A(10)\n",
    "add2 = A(10)\n",
    "add3 = A(\"Malik\")\n",
    "add4 = A(\"Aleem\")\n",
    "\n",
    "\n",
    "print(add1+add2)\n",
    "print(add3+add4)\n",
    "    "
   ]
  },
  {
   "cell_type": "code",
   "execution_count": 51,
   "metadata": {},
   "outputs": [
    {
     "name": "stdout",
     "output_type": "stream",
     "text": [
      "(4, 7)\n"
     ]
    }
   ],
   "source": [
    "class a:\n",
    "    def __init__(self,a,b):\n",
    "        self.a = a\n",
    "        self.b = b\n",
    "        \n",
    "    def __add__(self,other):\n",
    "        return self.a + other.a , self.b + other.b\n",
    "    \n",
    "ob1 = a(1,2)\n",
    "ob2 = a(3,5)\n",
    "ob3 = ob1+ob2\n",
    "print(ob3)"
   ]
  },
  {
   "cell_type": "code",
   "execution_count": 53,
   "metadata": {},
   "outputs": [
    {
     "name": "stdout",
     "output_type": "stream",
     "text": [
      "ob2 is greater than ob1\n"
     ]
    }
   ],
   "source": [
    "# Python program to overload\n",
    "# a comparison operators\n",
    "class a:\n",
    "    def __init__(self,a):\n",
    "        self.a = a\n",
    "        \n",
    "    def __gt__(self,other):\n",
    "        if(self.a>other.a):\n",
    "            return True\n",
    "        else:\n",
    "            return False\n",
    "        \n",
    "        \n",
    "ob1 = a(2)\n",
    "ob2 = a(3)\n",
    "\n",
    "if(ob1>ob2):\n",
    "    print(\"ob1 is greater than ob2\")\n",
    "else:\n",
    "    print(\"ob2 is greater than ob1\")"
   ]
  },
  {
   "cell_type": "raw",
   "metadata": {},
   "source": [
    "\n",
    "<h4>Binary Operators:</h4>\n",
    "Operator\tMagic Method\n",
    "+\t__add__(self, other)\n",
    "–\t__sub__(self, other)\n",
    "*\t__mul__(self, other)\n",
    "/\t__truediv__(self, other)\n",
    "//\t__floordiv__(self, other)\n",
    "%\t__mod__(self, other)\n",
    "**\t__pow__(self, other)\n",
    ">>\t__rshift__(self, other)\n",
    "<<\t__lshift__(self, other)\n",
    "&\t__and__(self, other)\n",
    "|\t__or__(self, other)\n",
    "^\t__xor__(self, other)\n",
    "<h4>Comparison Operators</h4>\n",
    "Operator\tMagic Method\n",
    "<\t__lt__(self, other)\n",
    ">\t__gt__(self, other)\n",
    "<=\t__le__(self, other)\n",
    ">=\t__ge__(self, other)\n",
    "==\t__eq__(self, other)\n",
    "!=\t__ne__(self, other)\n",
    "\n",
    "<h4>Assignment Operators</h4>\n",
    "Operator\tMagic Method\n",
    "-=\t__isub__(self, other)\n",
    "+=\t__iadd__(self, other)\n",
    "*=\t__imul__(self, other)\n",
    "/=\t__idiv__(self, other)\n",
    "//=\t__ifloordiv__(self, other)\n",
    "%=\t__imod__(self, other)\n",
    "**=\t__ipow__(self, other)\n",
    ">>=\t__irshift__(self, other)\n",
    "<<=\t__ilshift__(self, other)\n",
    "&=\t__iand__(self, other)\n",
    "|=\t__ior__(self, other)\n",
    "^=\t__ixor__(self, other)\n",
    "\n",
    "<h4>Unary Operators</h4>\n",
    "Operator\tMagic Method\n",
    "–\t__neg__(self)\n",
    "+\t__pos__(self)\n",
    "~\t__invert__(self)"
   ]
  },
  {
   "cell_type": "markdown",
   "metadata": {},
   "source": [
    "# Any All in Python'\n",
    "Any and All are two built ins provided in python used for successive And/Or.\n",
    "\n",
    "Any\n",
    "Returns true if any of the items is True. It returns False if empty or all are false. Any can be thought of as a sequence of OR operations on the provided iterables.\n",
    "It short circuit the execution i.e. stop the execution as soon as the result is known."
   ]
  },
  {
   "cell_type": "raw",
   "metadata": {},
   "source": [
    "All\n",
    "Returns true if all of the items are True (or if the iterable is empty). All can be thought of as a sequence of AND operations on the provided iterables. It also short circuit the execution i.e. stop the execution as soon as the result is known."
   ]
  },
  {
   "cell_type": "code",
   "execution_count": 56,
   "metadata": {},
   "outputs": [
    {
     "name": "stdout",
     "output_type": "stream",
     "text": [
      "True\n",
      "False\n",
      "False\n"
     ]
    }
   ],
   "source": [
    "# Here all the iterables are True so all\n",
    "# will return True and the same will be printed\n",
    "print (all([True, True, True, True]))\n",
    "\n",
    "# Here the method will short-circuit at the\n",
    "# first item (False) and will return False.\n",
    "print (all([False, True, True, False]))\n",
    "\n",
    "# This statement will return False, as no\n",
    "# True is found in the iterables\n",
    "print (all([False, False, False]))\n"
   ]
  },
  {
   "cell_type": "code",
   "execution_count": 57,
   "metadata": {},
   "outputs": [
    {
     "name": "stdout",
     "output_type": "stream",
     "text": [
      "True\n",
      "True\n",
      "False\n"
     ]
    }
   ],
   "source": [
    "# Here all the iterables are True so all\n",
    "# will return True and the same will be printed\n",
    "print (any([True, True, True, True]))\n",
    "\n",
    "# Here the method will short-circuit at the\n",
    "# first item (False) and will return False.\n",
    "print (any([False, True, True, False]))\n",
    "\n",
    "# This statement will return False, as no\n",
    "# True is found in the iterables\n",
    "print (any([False, False, False]))\n"
   ]
  },
  {
   "cell_type": "code",
   "execution_count": 59,
   "metadata": {},
   "outputs": [
    {
     "name": "stdout",
     "output_type": "stream",
     "text": [
      "See whether at least one number is divisible by 5 in list 1=>\n",
      "True\n",
      "[4, 8, 12, 16, 20, 24, 28, 32, 36, 40]\n",
      "[False, False, False, False, True, False, False, False, False, True]\n"
     ]
    }
   ],
   "source": [
    "list1 = []\n",
    "list2 = []\n",
    "\n",
    "for i in range(1,11):\n",
    "    list1.append(4*i)\n",
    "for i in range(0,10):\n",
    "    list2.append(list1[i]%5==0)\n",
    "print('See whether at least one number is divisible by 5 in list 1=>')\n",
    "print(any(list2))\n",
    "print(list1)\n",
    "print(list2)"
   ]
  },
  {
   "cell_type": "code",
   "execution_count": 62,
   "metadata": {},
   "outputs": [
    {
     "name": "stdout",
     "output_type": "stream",
     "text": [
      "See whether all numbers in list1 are odd =>\n",
      "False\n",
      "[1, 5, 9, 13, 17, 21, 25, 29, 33, 37, 41, 45, 49, 53, 57, 61, 65, 69, 73, 77]\n",
      "[False, True, False, False, False, False, True, False, False, False, False, True, False, False, False, False, True, False, False, False]\n"
     ]
    }
   ],
   "source": [
    "# Illustration of 'all' function in python 3\n",
    "\n",
    "# Take two lists\n",
    "list1=[]\n",
    "list2=[]\n",
    "\n",
    "# All numbers in list1 are in form: 4*i-3\n",
    "for i in range(1,21):\n",
    "\tlist1.append(4*i-3)\n",
    "\n",
    "# list2 stores info of odd numbers in list1\n",
    "for i in range(0,20):\n",
    "\tlist2.append(list1[i]%5==0)\n",
    "\n",
    "print('See whether all numbers in list1 are odd =>')\n",
    "print(all(list2))\n",
    "print(list1)\n",
    "print(list2)\n"
   ]
  },
  {
   "cell_type": "code",
   "execution_count": 66,
   "metadata": {},
   "outputs": [
    {
     "name": "stdout",
     "output_type": "stream",
     "text": [
      "[1, 2, 3, 4, 5, 6, 7, 8, 9, 10, 11, 12, 13, 14, 15, 16, 17, 18, 19, 20, 21, 22, 23, 24, 25, 26, 27, 28, 29, 30, 31, 32, 33, 34, 35, 36, 37, 38, 39, 40, 41, 42, 43, 44, 45, 46, 47, 48, 49, 50, 51, 52, 53, 54, 55, 56, 57, 58, 59, 60, 61, 62, 63, 64, 65, 66, 67, 68, 69, 70, 71, 72, 73, 74, 75, 76, 77, 78, 79, 80, 81, 82, 83, 84, 85, 86, 87, 88, 89, 90, 91, 92, 93, 94, 95, 96, 97, 98, 99]\n",
      "[False, True, False, True, False, True, False, True, False, True, False, True, False, True, False, True, False, True, False, True, False, True, False, True, False, True, False, True, False, True, False, True, False, True, False, True, False, True, False, True, False, True, False, True, False, True, False, True, False, True, False, True, False, True, False, True, False, True, False, True, False, True, False, True, False, True, False, True, False, True, False, True, False, True, False, True, False, True, False, True, False, True, False, True, False, True, False, True, False, True, False, True, False, True, False, True, False, True, False]\n"
     ]
    }
   ],
   "source": [
    "l1 = []\n",
    "l2 = []\n",
    "\n",
    "for i in range(1,100):\n",
    "    l1.append(1*i)\n",
    "for i in range(0,99):\n",
    "    l2.append(l1[i]%2== 0)\n",
    "    \n",
    "print(l1)\n",
    "print(l2)\n"
   ]
  },
  {
   "cell_type": "markdown",
   "metadata": {},
   "source": [
    "# Operator Functions in Python | Set 1\n",
    "Python has predefined functions for many mathematical, logical, relational, bitwise etc operations under the module “operator”. Some of the basic functions are covered in this article.\n",
    "1. add(a, b) :- This functions returns addition of the given arguments.\n",
    "Operation – a + b.\n",
    "\n",
    "2. sub(a, b) :- This functions returns difference of the given arguments.\n",
    "Operation – a – b.\n",
    "\n",
    "3. mul(a, b) :- This functions returns product of the given arguments.\n",
    "Operation – a * b.\n",
    "\n",
    "4. truediv(a,b) :- This function returns division of the given arguments.\n",
    "Operation – a / b.\n",
    "\n",
    "5. floordiv(a,b) :- This function also returns division of the given arguments. But the value is floored value i.e. returns greatest small integer.\n",
    "Operation – a // b.\n",
    "\n",
    "6. pow(a,b) :- This function returns exponentiation of the given arguments.\n",
    "Operation – a ** b.\n",
    "\n",
    "7. mod(a,b) :- This function returns modulus of the given arguments.\n",
    "Operation – a % b."
   ]
  },
  {
   "cell_type": "code",
   "execution_count": 69,
   "metadata": {},
   "outputs": [
    {
     "name": "stdout",
     "output_type": "stream",
     "text": [
      "The addition number is 8\n",
      "The difference number is 2\n",
      "The product number is 15\n",
      "The addition number is 1.6666666666666667\n",
      "The difference number is 1\n",
      "The product number is 125\n",
      "The product number is 2\n"
     ]
    }
   ],
   "source": [
    "import operator\n",
    "a = 5\n",
    "b = 3\n",
    "print(\"The addition number is\", end=\" \"),\n",
    "print(operator.add(a,b))\n",
    "print(\"The difference number is\", end=\" \"),\n",
    "print(operator.sub(a,b))\n",
    "print(\"The product number is\", end=\" \"),\n",
    "print(operator.mul(a,b))\n",
    "\n",
    "print(\"The addition number is\", end=\" \"),\n",
    "print(operator.truediv(a,b))\n",
    "print(\"The difference number is\", end=\" \"),\n",
    "print(operator.floordiv(a,b))\n",
    "print(\"The product number is\", end=\" \"),\n",
    "print(operator.pow(a,b))\n",
    "print(\"The product number is\", end=\" \"),\n",
    "print(operator.mod(a,b))"
   ]
  },
  {
   "cell_type": "code",
   "execution_count": null,
   "metadata": {},
   "outputs": [],
   "source": [
    "# Python code to demonstrate working of\n",
    "# lt(), le() and eq()\n",
    "\n",
    "# importing operator module\n",
    "import operator\n",
    "\n",
    "# Initializing variables\n",
    "a = 3\n",
    "\n",
    "b = 3\n",
    "\n",
    "# using lt() to check if a is less than b\n",
    "if(operator.lt(a,b)):\n",
    "\tprint (\"3 is less than 3\")\n",
    "else : print (\"3 is not less than 3\")\n",
    "\n",
    "# using le() to check if a is less than or equal to b\n",
    "if(operator.le(a,b)):\n",
    "\tprint (\"3 is less than or equal to 3\")\n",
    "else : print (\"3 is not less than or equal to 3\")\n",
    "\n",
    "# using eq() to check if a is equal to b\n",
    "if (operator.eq(a,b)):\n",
    "\tprint (\"3 is equal to 3\")\n",
    "else : print (\"3 is not equal to 3\")\n"
   ]
  },
  {
   "cell_type": "markdown",
   "metadata": {},
   "source": [
    "# Python Membership and Identity Operators"
   ]
  },
  {
   "cell_type": "raw",
   "metadata": {},
   "source": [
    "Membership Operators\n",
    "Membership operators are operators used to validate the membership of a value. It tests for membership in a sequence, such as strings, lists, or tuples. \n",
    "in operator: The ‘in’ operator is used to check if a value exists in a sequence or not. Evaluate to true if it finds a variable in the specified sequence and false otherwise."
   ]
  },
  {
   "cell_type": "code",
   "execution_count": 72,
   "metadata": {},
   "outputs": [
    {
     "name": "stdout",
     "output_type": "stream",
     "text": [
      "item is overlooping\n"
     ]
    }
   ],
   "source": [
    "# Python program to illustrate\n",
    "# Finding common member in list\n",
    "# using 'in' operator\n",
    "list1=[1,2,3,4,5]\n",
    "list2=[6,7,8,9]\n",
    "\n",
    "\n",
    "for item in list1:\n",
    "    if item in list2:\n",
    "        print(\"item is not overlooping\")\n",
    "else:\n",
    "    print(\"item is overlooping\")"
   ]
  },
  {
   "cell_type": "code",
   "execution_count": 73,
   "metadata": {},
   "outputs": [
    {
     "name": "stdout",
     "output_type": "stream",
     "text": [
      "not overlapping\n"
     ]
    }
   ],
   "source": [
    "# Python program to illustrate\n",
    "# Finding common member in list\n",
    "# without using 'in' operator\n",
    "\n",
    "# Define a function() that takes two lists\n",
    "def overlapping(list1,list2):\n",
    "\n",
    "\tc=0\n",
    "\td=0\n",
    "\tfor i in list1:\n",
    "\t\tc+=1\n",
    "\tfor i in list2:\n",
    "\t\td+=1\n",
    "\tfor i in range(0,c):\n",
    "\t\tfor j in range(0,d):\n",
    "\t\t\tif(list1[i]==list2[j]):\n",
    "\t\t\t\treturn 1\n",
    "\treturn 0\n",
    "list1=[1,2,3,4,5]\n",
    "list2=[6,7,8,9]\n",
    "if(overlapping(list1,list2)):\n",
    "\tprint(\"overlapping\")\n",
    "else:\n",
    "\tprint(\"not overlapping\")\n"
   ]
  },
  {
   "cell_type": "code",
   "execution_count": 76,
   "metadata": {},
   "outputs": [
    {
     "name": "stdout",
     "output_type": "stream",
     "text": [
      "x is NOT present in given list\n",
      "y is present in given list\n"
     ]
    }
   ],
   "source": [
    "# Python program to illustrate\n",
    "# not 'in' operator\n",
    "x = 24\n",
    "y = 20\n",
    "list = [10, 20, 30, 40, 50 ];\n",
    "\n",
    "if ( x not in list ):\n",
    "    print(\"x is NOT present in given list\")\n",
    "else:\n",
    "    print(\"x is present in given list\")\n",
    "\n",
    "if ( y in list ):\n",
    "    print(\"y is present in given list\")\n",
    "else:\n",
    "    print(\"y is NOT present in given list\")\n"
   ]
  },
  {
   "cell_type": "code",
   "execution_count": null,
   "metadata": {},
   "outputs": [],
   "source": []
  }
 ],
 "metadata": {
  "kernelspec": {
   "display_name": "Python 3 (ipykernel)",
   "language": "python",
   "name": "python3"
  },
  "language_info": {
   "codemirror_mode": {
    "name": "ipython",
    "version": 3
   },
   "file_extension": ".py",
   "mimetype": "text/x-python",
   "name": "python",
   "nbconvert_exporter": "python",
   "pygments_lexer": "ipython3",
   "version": "3.9.12"
  },
  "varInspector": {
   "cols": {
    "lenName": 16,
    "lenType": 16,
    "lenVar": 40
   },
   "kernels_config": {
    "python": {
     "delete_cmd_postfix": "",
     "delete_cmd_prefix": "del ",
     "library": "var_list.py",
     "varRefreshCmd": "print(var_dic_list())"
    },
    "r": {
     "delete_cmd_postfix": ") ",
     "delete_cmd_prefix": "rm(",
     "library": "var_list.r",
     "varRefreshCmd": "cat(var_dic_list()) "
    }
   },
   "types_to_exclude": [
    "module",
    "function",
    "builtin_function_or_method",
    "instance",
    "_Feature"
   ],
   "window_display": false
  }
 },
 "nbformat": 4,
 "nbformat_minor": 4
}
