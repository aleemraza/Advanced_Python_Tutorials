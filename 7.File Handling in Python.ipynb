{
 "cells": [
  {
   "cell_type": "markdown",
   "metadata": {},
   "source": [
    "# File Handling in Python\n",
    "Python too supports file handling and allows users to handle files i.e., to read and write files, along with many other file handling options, to operate on files. \n",
    "The concept of file handling has stretched over various other languages, but the implementation is either complicated or lengthy, but like other concepts of Python, this concept here is also easy and short. \n",
    "Python treats files differently as text or binary and this is important. \n",
    "Each line of code includes a sequence of characters and they form a text file.\n",
    "Each line of a file is terminated with a special character, called the EOL or End of Line characters like comma {,} or newline character. \n",
    "It ends the current line and tells the interpreter a new one has begun. Let’s start with the reading and writing files. "
   ]
  },
  {
   "cell_type": "markdown",
   "metadata": {},
   "source": [
    "# Working of open() function\n",
    "Before performing any operation on the file like reading or writing, first, we have to open that file. For this, we should use Python’s inbuilt function open() but at the time of opening, we have to specify the mode, which represents the purpose of the opening file."
   ]
  },
  {
   "cell_type": "markdown",
   "metadata": {},
   "source": [
    "# Where the following mode is supported:\n",
    "\n",
    "r: open an existing file for a read operation.\n",
    "w: open an existing file for a write operation. If the file already contains some data then it will be overridden.\n",
    "a:  open an existing file for append operation. It won’t override existing data.\n",
    " r+:  To read and write data into the file. The previous data in the file will be overridden.\n",
    "w+: To write and read data. It will override existing data.\n",
    "a+: To append and read data from the file. It won’t override existing data."
   ]
  },
  {
   "cell_type": "markdown",
   "metadata": {},
   "source": [
    "# Working of read() mode\n",
    "There is more than one way to read a file in Python.\n",
    "If you need to extract a string that contains all characters in the file then we can use file.read(). The full code would work like this: "
   ]
  },
  {
   "cell_type": "code",
   "execution_count": 1,
   "metadata": {},
   "outputs": [
    {
     "name": "stdout",
     "output_type": "stream",
     "text": [
      "this is new notepad\n"
     ]
    }
   ],
   "source": [
    "# r: open an existing file for a read operation.\n",
    "f = open('./text.txt','r')\n",
    "for file in f:\n",
    "    print(file)"
   ]
  },
  {
   "cell_type": "code",
   "execution_count": 4,
   "metadata": {},
   "outputs": [
    {
     "name": "stdout",
     "output_type": "stream",
     "text": [
      "this is new notepad\n"
     ]
    }
   ],
   "source": [
    "f = open(\"./text.txt\",\"r\")\n",
    "print(f.read())"
   ]
  },
  {
   "cell_type": "code",
   "execution_count": 5,
   "metadata": {},
   "outputs": [
    {
     "name": "stdout",
     "output_type": "stream",
     "text": [
      "th\n"
     ]
    }
   ],
   "source": [
    "f = open(\"./text.txt\",\"r\")\n",
    "print(f.read(2))"
   ]
  },
  {
   "cell_type": "markdown",
   "metadata": {},
   "source": [
    "# Creating a file using write() mode\n",
    "Let’s see how to create a file and how to write mode works, so in order to manipulate the file, write the following in your Python environment: "
   ]
  },
  {
   "cell_type": "code",
   "execution_count": 6,
   "metadata": {},
   "outputs": [],
   "source": [
    "file_w =open(\"./text.txt\",\"w\")\n",
    "file_w.write(\"This is good girls and this is the bad girs\")\n",
    "file_w.write(\" I am Muhmmmad Aleem Raza\")\n",
    "file_w.close()\n"
   ]
  },
  {
   "cell_type": "code",
   "execution_count": 7,
   "metadata": {},
   "outputs": [
    {
     "name": "stdout",
     "output_type": "stream",
     "text": [
      "This is good girls and this is the bad girs I am Muhmmmad Aleem Raza\n"
     ]
    }
   ],
   "source": [
    "file_r = open(\"./text.txt\",\"r\")\n",
    "for i in file_r:\n",
    "    print(i)"
   ]
  },
  {
   "cell_type": "markdown",
   "metadata": {},
   "source": [
    "# Working of append() mode\n",
    "Let us see how the append mode works: "
   ]
  },
  {
   "cell_type": "code",
   "execution_count": 8,
   "metadata": {},
   "outputs": [],
   "source": [
    "# Python code to illustrate append() mode\n",
    "file_a = open(\"./text.txt\",\"a\")\n",
    "file_a.write(\"so Muhammad Ali is good boy\")\n",
    "file_a.close()"
   ]
  },
  {
   "cell_type": "code",
   "execution_count": 9,
   "metadata": {},
   "outputs": [
    {
     "name": "stdout",
     "output_type": "stream",
     "text": [
      "This is good girls and this is the bad girs I am Muhmmmad Aleem Razaso Muhammad Ali is good boy\n"
     ]
    }
   ],
   "source": [
    "file_r = open(\"./text.txt\",\"r\")\n",
    "for i in file_r:\n",
    "    print(i)"
   ]
  },
  {
   "cell_type": "code",
   "execution_count": 10,
   "metadata": {},
   "outputs": [
    {
     "name": "stdout",
     "output_type": "stream",
     "text": [
      "This is good girls and this is the bad girs I am Muhmmmad Aleem Razaso Muhammad Ali is good boy\n"
     ]
    }
   ],
   "source": [
    "with open(\"./text.txt\",\"r\") as file:\n",
    "    data=file.read()\n",
    "    print(data)"
   ]
  },
  {
   "cell_type": "markdown",
   "metadata": {},
   "source": [
    "# Using write along with the with() function\n",
    "We can also use the write function along with the  with() function: \n",
    "\n"
   ]
  },
  {
   "cell_type": "code",
   "execution_count": 12,
   "metadata": {},
   "outputs": [],
   "source": [
    "# Python code to illustrate with() alongwith write()\n",
    "with open(\"./text.txt\", \"w\") as f:\n",
    "    f.write(\"Hello World!!!\")"
   ]
  },
  {
   "cell_type": "code",
   "execution_count": 13,
   "metadata": {},
   "outputs": [
    {
     "name": "stdout",
     "output_type": "stream",
     "text": [
      "['Hello', 'World!!!']\n"
     ]
    }
   ],
   "source": [
    "\n",
    "# Python code to illustrate split() function\n",
    "with open(\"./text.txt\", \"r\") as file:\n",
    "    data = file.readlines()\n",
    "    for line in data:\n",
    "        word = line.split()\n",
    "        print (word)"
   ]
  },
  {
   "cell_type": "code",
   "execution_count": 14,
   "metadata": {},
   "outputs": [],
   "source": [
    "file_w = open(\"./text.txt\",\"w\")\n",
    "file_w.write(\"My name is muhammad Aleem Raza\")\n",
    "file_w.write(\"My name is muhammad Ali\")\n",
    "file_w.write(\"My name is muhammad Shan\")\n",
    "file_w.close()"
   ]
  },
  {
   "cell_type": "code",
   "execution_count": 15,
   "metadata": {},
   "outputs": [
    {
     "name": "stdout",
     "output_type": "stream",
     "text": [
      "['My', 'name', 'is', 'muhammad', 'Aleem', 'RazaMy', 'name', 'is', 'muhammad', 'AliMy', 'name', 'is', 'muhammad', 'Shan']\n"
     ]
    }
   ],
   "source": [
    "with open(\"./text.txt\",\"r\") as file:\n",
    "    data = file.readlines()\n",
    "    for line in data:\n",
    "        word = line.split()\n",
    "        print(word)"
   ]
  },
  {
   "cell_type": "code",
   "execution_count": 16,
   "metadata": {},
   "outputs": [
    {
     "name": "stdout",
     "output_type": "stream",
     "text": [
      "Hello \n",
      "This is Delhi \n",
      "This is Paris \n",
      "This is London \n",
      "\n"
     ]
    }
   ],
   "source": [
    "# Program to show various ways to\n",
    "# read data from a file.\n",
    "  \n",
    "L = [\"This is Delhi \\n\", \"This is Paris \\n\", \"This is London \\n\"]\n",
    "  \n",
    "# Creating a file\n",
    "with open(\"./text.txt\", \"w\") as file1:\n",
    "    # Writing data to a file\n",
    "    file1.write(\"Hello \\n\")\n",
    "    file1.writelines(L)\n",
    "    file1.close()  # to change file access modes\n",
    "  \n",
    "with open(\"./text.txt\", \"r+\") as file1:\n",
    "    # Reading form a file\n",
    "    print(file1.read())"
   ]
  },
  {
   "cell_type": "code",
   "execution_count": 18,
   "metadata": {},
   "outputs": [
    {
     "name": "stdout",
     "output_type": "stream",
     "text": [
      "Hello\n",
      "This is Delhi \n",
      "This is Paris \n",
      "This is London \n",
      "\n"
     ]
    }
   ],
   "source": [
    "# Python program to demonstrate\n",
    "# writing to file\n",
    "  \n",
    "# Opening a file\n",
    "file1 = open('myfile.txt', 'w')\n",
    "L = [\"This is Delhi \\n\", \"This is Paris \\n\", \"This is London \\n\"]\n",
    "s = \"Hello\\n\"\n",
    "  \n",
    "# Writing a string to file\n",
    "file1.write(s)\n",
    "  \n",
    "# Writing multiple strings\n",
    "# at a time\n",
    "file1.writelines(L)\n",
    "  \n",
    "# Closing file\n",
    "file1.close()\n",
    "  \n",
    "# Checking if the data is\n",
    "# written to file or not\n",
    "file1 = open('myfile.txt', 'r')\n",
    "print(file1.read())\n",
    "file1.close()"
   ]
  },
  {
   "cell_type": "code",
   "execution_count": 19,
   "metadata": {},
   "outputs": [
    {
     "name": "stdout",
     "output_type": "stream",
     "text": [
      "Output of Readlines after appending\n",
      "This is Delhi \n",
      "This is Paris \n",
      "This is London \n",
      "Today \n",
      "\n",
      "\n",
      "Output of Readlines after writing\n",
      "Tomorrow \n",
      "\n",
      "\n"
     ]
    }
   ],
   "source": [
    "# Python program to illustrate\n",
    "# Append vs write mode\n",
    "file1 = open(\"myfile.txt\", \"w\")\n",
    "L = [\"This is Delhi \\n\", \"This is Paris \\n\", \"This is London \\n\"]\n",
    "file1.writelines(L)\n",
    "file1.close()\n",
    "\n",
    "# Append-adds at last\n",
    "file1 = open(\"myfile.txt\", \"a\") # append mode\n",
    "file1.write(\"Today \\n\")\n",
    "file1.close()\n",
    "\n",
    "file1 = open(\"myfile.txt\", \"r\")\n",
    "print(\"Output of Readlines after appending\")\n",
    "print(file1.read())\n",
    "print()\n",
    "file1.close()\n",
    "\n",
    "# Write-Overwrites\n",
    "file1 = open(\"myfile.txt\", \"w\") # write mode\n",
    "file1.write(\"Tomorrow \\n\")\n",
    "file1.close()\n",
    "\n",
    "file1 = open(\"myfile.txt\", \"r\")\n",
    "print(\"Output of Readlines after writing\")\n",
    "print(file1.read())\n",
    "print()\n",
    "file1.close()\n"
   ]
  },
  {
   "cell_type": "code",
   "execution_count": null,
   "metadata": {},
   "outputs": [],
   "source": []
  }
 ],
 "metadata": {
  "kernelspec": {
   "display_name": "Python 3 (ipykernel)",
   "language": "python",
   "name": "python3"
  },
  "language_info": {
   "codemirror_mode": {
    "name": "ipython",
    "version": 3
   },
   "file_extension": ".py",
   "mimetype": "text/x-python",
   "name": "python",
   "nbconvert_exporter": "python",
   "pygments_lexer": "ipython3",
   "version": "3.9.12"
  },
  "toc": {
   "base_numbering": 1,
   "nav_menu": {},
   "number_sections": true,
   "sideBar": true,
   "skip_h1_title": false,
   "title_cell": "Table of Contents",
   "title_sidebar": "Contents",
   "toc_cell": false,
   "toc_position": {},
   "toc_section_display": true,
   "toc_window_display": false
  }
 },
 "nbformat": 4,
 "nbformat_minor": 4
}
