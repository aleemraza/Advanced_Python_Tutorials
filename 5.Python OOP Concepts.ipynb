{
 "cells": [
  {
   "cell_type": "markdown",
   "id": "44109539",
   "metadata": {},
   "source": [
    "# Python Classes and Objects\n",
    "Some points on Python class:  \n",
    "Classes are created by keyword class.\n",
    "Attributes are the variables that belong to a class.\n",
    "Attributes are always public and can be accessed using the dot (.) operator. Eg.: Myclass.Myattribute"
   ]
  },
  {
   "cell_type": "code",
   "execution_count": 2,
   "id": "b72721b4",
   "metadata": {},
   "outputs": [],
   "source": [
    "class gray:\n",
    "    pass"
   ]
  },
  {
   "cell_type": "markdown",
   "id": "44559e49",
   "metadata": {},
   "source": [
    "# Class Objects\n",
    "An Object is an instance of a Class. A class is like a blueprint while an instance is a copy of the class with actual values. It’s not an idea anymore, it’s an actual dog, like a dog of breed pug who’s seven years old. You can have many dogs to create many different instances, but without the class as a guide, you would be lost, not knowing what information is required.\n",
    "An object consists of : \n",
    "\n",
    "State: It is represented by the attributes of an object. It also reflects the properties of an object.\n",
    "Behavior: It is represented by the methods of an object. It also reflects the response of an object to other objects.\n",
    "Identity: It gives a unique name to an object and enables one object to interact with other objects."
   ]
  },
  {
   "cell_type": "code",
   "execution_count": 17,
   "id": "4e5cb518",
   "metadata": {},
   "outputs": [
    {
     "name": "stdout",
     "output_type": "stream",
     "text": [
      "this is black dog and so beatifull\n",
      "Dog1: this is black dog and so beatifull\n",
      "Dog1: this is red dog and i dont like this type dog\n"
     ]
    }
   ],
   "source": [
    "class dog:\n",
    "    dog1 = \"this is black dog and so beatifull\"\n",
    "    dog2 = \"this is red dog and i dont like this type dog\"\n",
    "    \n",
    "    def fun(self):\n",
    "        print(\"Dog1:\",self.dog1)\n",
    "        print(\"Dog1:\",self.dog2)\n",
    "        \n",
    "pro =dog()\n",
    "print(pro.dog1)\n",
    "pro.fun()"
   ]
  },
  {
   "cell_type": "markdown",
   "id": "bb083a29",
   "metadata": {},
   "source": [
    "# The self\n",
    "Class methods must have an extra first parameter in the method definition. We do not give a value for this parameter when we call the method, Python provides it.\n",
    "If we have a method that takes no arguments, then we still have to have one argument.\n",
    "This is similar to this pointer in C++ and this reference in Java.\n",
    "When we call a method of this object as myobject.method(arg1, arg2), this is automatically converted by Python into MyClass.method(myobject, arg1, arg2) – this is all the special self is about"
   ]
  },
  {
   "cell_type": "markdown",
   "id": "81b47505",
   "metadata": {},
   "source": [
    "# __init__ method\n",
    "The __init__ method is similar to constructors in C++ and Java.\n",
    "Constructors are used to initializing the object’s state. Like methods, a constructor also contains a collection of statements(i.e. instructions) that are executed at the time of Object creation. It runs as soon as an object of a class is instantiated. The method is useful to do any initialization you want to do with your object."
   ]
  },
  {
   "cell_type": "code",
   "execution_count": 20,
   "id": "2b7cdeff",
   "metadata": {},
   "outputs": [
    {
     "name": "stdout",
     "output_type": "stream",
     "text": [
      "Hello my name is : Aleem\n"
     ]
    }
   ],
   "source": [
    "class person:\n",
    "    def __init__(self,name):\n",
    "        self.name = name\n",
    "        \n",
    "        \n",
    "    def sayhi(self):\n",
    "        print(\"Hello my name is :\", self.name)\n",
    "        \n",
    "p = person(\"Aleem\")\n",
    "p.sayhi()"
   ]
  },
  {
   "cell_type": "code",
   "execution_count": 21,
   "id": "71091623",
   "metadata": {},
   "outputs": [
    {
     "name": "stdout",
     "output_type": "stream",
     "text": [
      "Aleem Deatils\n",
      "Father Name: Mr Javed\n",
      "Name: Aleem\n",
      "age: 24\n",
      "Sehr Deatils\n",
      "Father Name: Mr Javed\n",
      "Name: sehr\n",
      "age: 24\n",
      "Muhammad Ali Deatils\n",
      "Father Name: Mr Javed\n",
      "Name: Muhammad Ali\n",
      "age: 16\n",
      "\n",
      "Accessing class variable using class name\n",
      "Wado\n"
     ]
    }
   ],
   "source": [
    "class Family:\n",
    "    fm= \"Wado\"\n",
    "    \n",
    "    def __init__(self,fname,name,age):\n",
    "        self.fname = fname\n",
    "        self.name = name\n",
    "        self.age = age\n",
    "Aleem = Family(\"Mr Javed\",\"Aleem\",\"24\")\n",
    "sehr = Family(\"Mr Javed\",\"sehr\",\"20\")\n",
    "MAli = Family(\"Mr Javed\",\"Muhammad Ali\",\"16\")\n",
    "\n",
    "print(\"Aleem Deatils\")\n",
    "print(\"Father Name:\",Aleem.fname)\n",
    "print(\"Name:\",Aleem.name)\n",
    "print(\"age:\",Aleem.age)\n",
    "\n",
    "print(\"Sehr Deatils\")\n",
    "print(\"Father Name:\",sehr.fname)\n",
    "print(\"Name:\",sehr.name)\n",
    "print(\"age:\",Aleem.age)\n",
    "\n",
    "print(\"Muhammad Ali Deatils\")\n",
    "print(\"Father Name:\",MAli.fname)\n",
    "print(\"Name:\",MAli.name)\n",
    "print(\"age:\",MAli.age)\n",
    "\n",
    "print(\"\\nAccessing class variable using class name\")\n",
    "print(Family.fm)  \n"
   ]
  },
  {
   "cell_type": "markdown",
   "id": "6a90a719",
   "metadata": {},
   "source": [
    "# Constructors in Python\n",
    "Constructors are generally used for instantiating an object. The task of constructors is to initialize(assign values) to the data members of the class when an object of the class is created. In Python the __init__() method is called the constructor and is always called when an object is created."
   ]
  },
  {
   "cell_type": "raw",
   "id": "fa4cde83",
   "metadata": {},
   "source": [
    "def __init__(self):\n",
    "    # body of the constructor"
   ]
  },
  {
   "cell_type": "markdown",
   "id": "0bdc935d",
   "metadata": {},
   "source": [
    "# Types of constructors : \n",
    "\n",
    "default constructor:\n",
    "\n",
    "The default constructor is a simple constructor which doesn’t accept any arguments. Its definition has only one argument which is a reference to the instance being constructed.\n",
    "\n",
    "parameterized constructor: \n",
    "constructor with parameters is known as parameterized constructor. The parameterized constructor takes its first argument as a reference to the instance being constructed known as self and the rest of the arguments are provided by the programmer."
   ]
  },
  {
   "cell_type": "code",
   "execution_count": 4,
   "id": "92aa6955",
   "metadata": {},
   "outputs": [
    {
     "name": "stdout",
     "output_type": "stream",
     "text": [
      "This is grater day\n"
     ]
    }
   ],
   "source": [
    "class Check:\n",
    "    def __init__(self):\n",
    "        self.m = \"This is grater day\"\n",
    "    def print_fun(self):\n",
    "        print(self.m)\n",
    "d = Check()\n",
    "d.print_fun()"
   ]
  },
  {
   "cell_type": "code",
   "execution_count": 12,
   "id": "93a5344d",
   "metadata": {},
   "outputs": [
    {
     "name": "stdout",
     "output_type": "stream",
     "text": [
      "First number = 1000\n",
      "Second number = 2000\n",
      "Addition of two numbers = 3000\n"
     ]
    }
   ],
   "source": [
    "class Addition:\n",
    "    first = 0\n",
    "    second = 0\n",
    "    answer = 0\n",
    "     \n",
    "    # parameterized constructor\n",
    "    def __init__(self, f, s):\n",
    "        self.first = f\n",
    "        self.second = s\n",
    "     \n",
    "    def display(self):\n",
    "        print(\"First number = \" + str(self.first))\n",
    "        print(\"Second number = \" + str(self.second))\n",
    "        print(\"Addition of two numbers = \" + str(self.answer))\n",
    " \n",
    "    def calculate(self):\n",
    "        self.answer = self.first + self.second\n",
    " \n",
    "# creating object of the class\n",
    "# this will invoke parameterized constructor\n",
    "obj = Addition(1000, 2000)\n",
    " \n",
    "# perform Addition\n",
    "obj.calculate()\n",
    " \n",
    "# display result\n",
    "obj.display()"
   ]
  },
  {
   "cell_type": "code",
   "execution_count": 16,
   "id": "d9e48d8f",
   "metadata": {},
   "outputs": [
    {
     "name": "stdout",
     "output_type": "stream",
     "text": [
      "The first number =1000\n",
      "The first second =2000\n",
      "The first answer =3000\n"
     ]
    }
   ],
   "source": [
    "class Culcalation:\n",
    "    first = 0\n",
    "    second = 0\n",
    "    answer = 0\n",
    "    \n",
    "    def __init__(self,f,s):\n",
    "        self.first = f\n",
    "        self.second = s\n",
    "    def display(self):\n",
    "        print(\"The first number =\" + str(self.first))\n",
    "        print(\"The first second =\" + str(self.second))\n",
    "        print(\"The first answer =\" + str(self.answer))\n",
    "        \n",
    "    def addfun(self):\n",
    "        self.answer = self.first + self.second\n",
    "obj = Culcalation(1000,2000)\n",
    "\n",
    "obj.addfun()\n",
    "\n",
    "\n",
    "obj.display()\n",
    "\n",
    "\n",
    "\n",
    "        "
   ]
  },
  {
   "cell_type": "markdown",
   "id": "8803a8cb",
   "metadata": {},
   "source": [
    "# Destructors in Python"
   ]
  },
  {
   "cell_type": "markdown",
   "id": "72b6dc4c",
   "metadata": {},
   "source": [
    "# Destructors are called when an object gets destroyed. \n",
    "In Python, destructors are not needed as much as in C++ because Python has a garbage collector that handles memory management automatically. \n",
    "The __del__() method is a known as a destructor method in Python. It is called when all references to the object have been deleted i.e when an object is garbage collected. \n",
    "Syntax of destructor declaration : "
   ]
  },
  {
   "cell_type": "code",
   "execution_count": 17,
   "id": "7fbbf545",
   "metadata": {},
   "outputs": [
    {
     "name": "stdout",
     "output_type": "stream",
     "text": [
      "Hello  World\n",
      "Destructor called, Employee deleted.\n"
     ]
    }
   ],
   "source": [
    "class employ:\n",
    "    \n",
    "    def __init__(self):\n",
    "        print(\"Hello  World\")\n",
    "        \n",
    "    def __del__(self):\n",
    "        print('Destructor called, Employee deleted.')\n",
    "ob = employ()\n",
    "\n",
    "del ob"
   ]
  },
  {
   "cell_type": "code",
   "execution_count": 18,
   "id": "ba20622b",
   "metadata": {},
   "outputs": [
    {
     "name": "stdout",
     "output_type": "stream",
     "text": [
      "Calling Create_obj() function...\n",
      "Making Object...\n",
      "Employee created\n",
      "function end...\n",
      "Program End...\n"
     ]
    }
   ],
   "source": [
    "# Python program to illustrate destructor\n",
    " \n",
    "class Employee:\n",
    " \n",
    "    # Initializing\n",
    "    def __init__(self):\n",
    "        print('Employee created')\n",
    " \n",
    "    # Calling destructor\n",
    "    def __del__(self):\n",
    "        print(\"Destructor called\")\n",
    " \n",
    "def Create_obj():\n",
    "    print('Making Object...')\n",
    "    obj = Employee()\n",
    "    print('function end...')\n",
    "    return obj\n",
    " \n",
    "print('Calling Create_obj() function...')\n",
    "obj = Create_obj()\n",
    "print('Program End...')"
   ]
  },
  {
   "cell_type": "code",
   "execution_count": 19,
   "id": "00036e77",
   "metadata": {},
   "outputs": [],
   "source": [
    "# Python program to illustrate destructor\n",
    "class A:\n",
    "    def __init__(self, bb):\n",
    "        self.b = bb\n",
    " \n",
    "class B:\n",
    "    def __init__(self):\n",
    "        self.a = A(self)\n",
    "    def __del__(self):\n",
    "        print(\"die\")\n",
    " \n",
    "def fun():\n",
    "    b = B()\n",
    " \n",
    "fun()"
   ]
  },
  {
   "cell_type": "markdown",
   "id": "18b131d9",
   "metadata": {},
   "source": [
    "# Inheritance in Python"
   ]
  },
  {
   "cell_type": "raw",
   "id": "e715aa7d",
   "metadata": {},
   "source": [
    "Inheritance is the capability of one class to derive or inherit the properties from another class. The benefits of inheritance are: \n",
    " \n",
    "\n",
    "It represents real-world relationships well.\n",
    "It provides reusability of a code. We don’t have to write the same code again and again. Also, it allows us to add more features to a class without modifying it.\n",
    "It is transitive in nature, which means that if class B inherits from another class A, then all the subclasses of B would automatically inherit from class A."
   ]
  },
  {
   "cell_type": "code",
   "execution_count": 2,
   "id": "f9f6d031",
   "metadata": {},
   "outputs": [
    {
     "name": "stdout",
     "output_type": "stream",
     "text": [
      "Aleem False\n",
      "Aleem2 True\n"
     ]
    }
   ],
   "source": [
    "class person(object):\n",
    "    def __init__(self,name):\n",
    "        self.name = name \n",
    "        \n",
    "    def getname(self):\n",
    "        return self.name\n",
    "    \n",
    "    def employ(self):\n",
    "        return False\n",
    "class Emply(person):\n",
    "    def employ(self):\n",
    "        return True\n",
    "    \n",
    "isem = person(\"Aleem\")\n",
    "print(isem.getname(),isem.employ())\n",
    "isem = Emply(\"Aleem2\")\n",
    "print(isem.getname(),isem.employ())"
   ]
  },
  {
   "cell_type": "code",
   "execution_count": 8,
   "id": "d0977961",
   "metadata": {},
   "outputs": [
    {
     "name": "stdout",
     "output_type": "stream",
     "text": [
      "Aleem\n",
      "32304-9343980-3\n",
      "Eng\n",
      "50000\n"
     ]
    }
   ],
   "source": [
    "class Person(object):\n",
    "    \n",
    "    def __init__(self,name,idnumber):\n",
    "        self.name = name\n",
    "        self.idnumber = idnumber\n",
    "        \n",
    "    def display(self):\n",
    "        print(self.name)\n",
    "        print(self.idnumber)\n",
    "        print(self.salary)\n",
    "        print(self.post)\n",
    "        \n",
    "        \n",
    "class Employ(Person):\n",
    "    \n",
    "    def __init__(self,name,idnumber,post,salary):\n",
    "        self.post = post\n",
    "        self.salary = salary\n",
    "        \n",
    "        Person.__init__(self,name,idnumber)\n",
    "    \n",
    "a = Employ(\"Aleem\",\"32304-9343980-3\",'50000','Eng')\n",
    "\n",
    "a.display()\n",
    "    \n",
    "        "
   ]
  },
  {
   "cell_type": "code",
   "execution_count": 9,
   "id": "c0c969f6",
   "metadata": {},
   "outputs": [
    {
     "ename": "AttributeError",
     "evalue": "'B' object has no attribute 'name'",
     "output_type": "error",
     "traceback": [
      "\u001b[1;31m---------------------------------------------------------------------------\u001b[0m",
      "\u001b[1;31mAttributeError\u001b[0m                            Traceback (most recent call last)",
      "Input \u001b[1;32mIn [9]\u001b[0m, in \u001b[0;36m<cell line: 12>\u001b[1;34m()\u001b[0m\n\u001b[0;32m      9\u001b[0m               \u001b[38;5;28mself\u001b[39m\u001b[38;5;241m.\u001b[39mroll \u001b[38;5;241m=\u001b[39m roll\n\u001b[0;32m     11\u001b[0m \u001b[38;5;28mobject\u001b[39m \u001b[38;5;241m=\u001b[39m B(\u001b[38;5;241m23\u001b[39m)\n\u001b[1;32m---> 12\u001b[0m \u001b[38;5;28mprint\u001b[39m (\u001b[38;5;28;43mobject\u001b[39;49m\u001b[38;5;241;43m.\u001b[39;49m\u001b[43mname\u001b[49m)\n",
      "\u001b[1;31mAttributeError\u001b[0m: 'B' object has no attribute 'name'"
     ]
    }
   ],
   "source": [
    "# Python program to demonstrate error if we\n",
    "# forget to invoke __init__() of the parent.\n",
    " \n",
    "class A:\n",
    "      def __init__(self, n = 'Rahul'):\n",
    "              self.name = n\n",
    "class B(A):\n",
    "      def __init__(self, roll):\n",
    "              self.roll = roll\n",
    " \n",
    "object = B(23)\n",
    "print (object.name)"
   ]
  },
  {
   "cell_type": "markdown",
   "id": "48ad077e",
   "metadata": {},
   "source": [
    "# Different forms of Inheritance: \n",
    "Single inheritance: When a child class inherits from only one parent class, it is called single inheritance. We saw an example above.\n",
    "Multiple inheritance: When a child class inherits from multiple parent classes, it is called multiple inheritance. \n",
    "\n",
    "Unlike java, python shows multiple inheritance."
   ]
  },
  {
   "cell_type": "code",
   "execution_count": 14,
   "id": "0bb1b6c7",
   "metadata": {},
   "outputs": [
    {
     "ename": "TypeError",
     "evalue": "__init__() takes 2 positional arguments but 4 were given",
     "output_type": "error",
     "traceback": [
      "\u001b[1;31m---------------------------------------------------------------------------\u001b[0m",
      "\u001b[1;31mTypeError\u001b[0m                                 Traceback (most recent call last)",
      "Input \u001b[1;32mIn [14]\u001b[0m, in \u001b[0;36m<cell line: 1>\u001b[1;34m()\u001b[0m\n\u001b[1;32m----> 1\u001b[0m \u001b[38;5;28;01mclass\u001b[39;00m \u001b[38;5;21;01mBase1\u001b[39;00m(\u001b[38;5;28mobject\u001b[39m):\n\u001b[0;32m      2\u001b[0m     \u001b[38;5;28;01mdef\u001b[39;00m \u001b[38;5;21m__init\u001b[39m(\u001b[38;5;28mself\u001b[39m):\n\u001b[0;32m      3\u001b[0m         \u001b[38;5;28mself\u001b[39m\u001b[38;5;241m.\u001b[39mstr1 \u001b[38;5;241m=\u001b[39m \u001b[38;5;124m\"\u001b[39m\u001b[38;5;124mAleem\u001b[39m\u001b[38;5;124m\"\u001b[39m\n",
      "\u001b[1;31mTypeError\u001b[0m: __init__() takes 2 positional arguments but 4 were given"
     ]
    }
   ],
   "source": [
    "class Base1(object):\n",
    "    def __init(self):\n",
    "        self.str1 = \"Aleem\"\n",
    "        print(Base1)\n",
    "class Base2(object):\n",
    "    def __init__(self):\n",
    "        self.str2 = \"Raza\"\n",
    "        print(Base1)        \n",
    "        \n",
    "class final(Base1,Base2):\n",
    "    def __init__(self):\n",
    "        \n",
    "        Base1.__init__(self)\n",
    "        Base2.__init__(self)\n",
    "        print(final)\n",
    "    \n",
    "    def printstr(self):\n",
    "        print(self.str1,self.str2)\n",
    "        \n",
    "ong = final()\n",
    "\n",
    "ong.printstr()"
   ]
  },
  {
   "cell_type": "code",
   "execution_count": 16,
   "id": "f54e6c69",
   "metadata": {},
   "outputs": [
    {
     "ename": "TypeError",
     "evalue": "__init__() takes 2 positional arguments but 4 were given",
     "output_type": "error",
     "traceback": [
      "\u001b[1;31m---------------------------------------------------------------------------\u001b[0m",
      "\u001b[1;31mTypeError\u001b[0m                                 Traceback (most recent call last)",
      "Input \u001b[1;32mIn [16]\u001b[0m, in \u001b[0;36m<cell line: 7>\u001b[1;34m()\u001b[0m\n\u001b[0;32m      1\u001b[0m \u001b[38;5;66;03m# A Python program to demonstrate inheritance\u001b[39;00m\n\u001b[0;32m      2\u001b[0m  \n\u001b[0;32m      3\u001b[0m \u001b[38;5;66;03m# Base or Super class. Note object in bracket.\u001b[39;00m\n\u001b[0;32m      4\u001b[0m \u001b[38;5;66;03m# (Generally, object is made ancestor of all classes)\u001b[39;00m\n\u001b[0;32m      5\u001b[0m \u001b[38;5;66;03m# In Python 3.x \"class Person\" is\u001b[39;00m\n\u001b[0;32m      6\u001b[0m \u001b[38;5;66;03m# equivalent to \"class Person(object)\"\u001b[39;00m\n\u001b[1;32m----> 7\u001b[0m \u001b[38;5;28;01mclass\u001b[39;00m \u001b[38;5;21;01mBase\u001b[39;00m(\u001b[38;5;28mobject\u001b[39m):\n\u001b[0;32m      8\u001b[0m      \n\u001b[0;32m      9\u001b[0m     \u001b[38;5;66;03m# Constructor\u001b[39;00m\n\u001b[0;32m     10\u001b[0m     \u001b[38;5;28;01mdef\u001b[39;00m \u001b[38;5;21m__init__\u001b[39m(\u001b[38;5;28mself\u001b[39m, name):\n\u001b[0;32m     11\u001b[0m         \u001b[38;5;28mself\u001b[39m\u001b[38;5;241m.\u001b[39mname \u001b[38;5;241m=\u001b[39m name\n",
      "\u001b[1;31mTypeError\u001b[0m: __init__() takes 2 positional arguments but 4 were given"
     ]
    }
   ],
   "source": [
    "# A Python program to demonstrate inheritance\n",
    " \n",
    "# Base or Super class. Note object in bracket.\n",
    "# (Generally, object is made ancestor of all classes)\n",
    "# In Python 3.x \"class Person\" is\n",
    "# equivalent to \"class Person(object)\"\n",
    "class Base(object):\n",
    "     \n",
    "    # Constructor\n",
    "    def __init__(self, name):\n",
    "        self.name = name\n",
    " \n",
    "    # To get name\n",
    "    def getName(self):\n",
    "        return self.name\n",
    " \n",
    " \n",
    "# Inherited or Sub class (Note Person in bracket)\n",
    "class Child(Base):\n",
    "     \n",
    "    # Constructor\n",
    "    def __init__(self, name, age):\n",
    "        Base.__init__(self, name)\n",
    "        self.age = age\n",
    " \n",
    "    # To get name\n",
    "    def getAge(self):\n",
    "        return self.age\n",
    " \n",
    "# Inherited or Sub class (Note Person in bracket)\n",
    "class GrandChild(Child):\n",
    "     \n",
    "    # Constructor\n",
    "    def __init__(self, name, age, address):\n",
    "        Child.__init__(self, name, age)\n",
    "        self.address = address\n",
    " \n",
    "    # To get address\n",
    "    def getAddress(self):\n",
    "        return self.address       \n",
    " \n",
    "# Driver code\n",
    "g = GrandChild(\"Geek1\", 23, \"Noida\") \n",
    "print(g.getName(), g.getAge(), g.getAddress())"
   ]
  },
  {
   "cell_type": "markdown",
   "id": "9423a879",
   "metadata": {},
   "source": [
    "# Types of inheritance Python\n",
    "Inheritance is defined as the capability of one class to derive or inherit the properties from some other class and use it whenever needed. Inheritance provides the following properties: \n",
    "It represents real-world relationships well. \n",
    "It provides reusability of code. We don’t have to write the same code again and again. Also, it allows us to add more features to a class without modifying it. \n",
    "It is transitive in nature, which means that if class B inherits from another class A, then all the subclasses of B would automatically inherit from class A. "
   ]
  },
  {
   "cell_type": "code",
   "execution_count": 17,
   "id": "c0787ad9",
   "metadata": {},
   "outputs": [
    {
     "name": "stdout",
     "output_type": "stream",
     "text": [
      "Ram False\n",
      "Shivam True\n"
     ]
    }
   ],
   "source": [
    "# A Python program to demonstrate\n",
    "# inheritance \n",
    " \n",
    " \n",
    "# Base class or Parent class\n",
    "class Child:\n",
    " \n",
    "    # Constructor\n",
    "    def __init__(self, name):\n",
    "        self.name = name\n",
    " \n",
    "    # To get name\n",
    "    def getName(self):\n",
    "        return self.name\n",
    " \n",
    "    # To check if this person is student\n",
    "    def isStudent(self):\n",
    "        return False\n",
    " \n",
    "# Derived class or Child class\n",
    "class Student(Child):\n",
    " \n",
    "    # True is returned\n",
    "    def isStudent(self):\n",
    "        return True\n",
    " \n",
    "  \n",
    "# Driver code\n",
    "# An Object of Child\n",
    "std = Child(\"Ram\")\n",
    "print(std.getName(), std.isStudent())\n",
    " \n",
    "# An Object of Student\n",
    "std = Student(\"Shivam\")\n",
    "print(std.getName(), std.isStudent())"
   ]
  },
  {
   "cell_type": "markdown",
   "id": "53ed76ef",
   "metadata": {},
   "source": [
    "# Types of Inheritance in Python\n",
    "Types of Inheritance depends upon the number of child and parent classes involved. There are four types of inheritance in Python:\n",
    " \n",
    "\n",
    "Single Inheritance:\n",
    "\n",
    "Single inheritance enables a derived class to inherit properties from a single parent class, thus enabling code reusability and the addition of new features to existing code.\n",
    "\n",
    "Multiple Inheritance:\n",
    "When a class can be derived from more than one base class this type of inheritance is called multiple inheritance. In multiple inheritance, all the features of the base classes are inherited into the derived class. "
   ]
  },
  {
   "cell_type": "code",
   "execution_count": 18,
   "id": "6f6f0b2e",
   "metadata": {},
   "outputs": [
    {
     "name": "stdout",
     "output_type": "stream",
     "text": [
      "this is the good day\n",
      "Hello howa are you\n"
     ]
    }
   ],
   "source": [
    "class parents:\n",
    "    def fun1(self):\n",
    "        print(\"this is the good day\")\n",
    "\n",
    "        \n",
    "        \n",
    "class child(parents):\n",
    "    \n",
    "    def fun2(self):\n",
    "        print(\"Hello howa are you\")\n",
    "obj = child()\n",
    "\n",
    "obj.fun1()\n",
    "obj.fun2()"
   ]
  },
  {
   "cell_type": "code",
   "execution_count": 23,
   "id": "85d51c30",
   "metadata": {},
   "outputs": [
    {
     "name": "stdout",
     "output_type": "stream",
     "text": [
      "Father Name Javeed Iqbal Zia\n",
      "Mother Name Manzoor\n",
      "Son_1 Aleem Raza\n",
      "Son_2 Muhammad Ali\n",
      "d_3 Sehr Batool\n"
     ]
    }
   ],
   "source": [
    "class Father:\n",
    "    father_name = \"\"\n",
    "    def father(self):\n",
    "        print(self.father_name)\n",
    "class Mother:\n",
    "    mother_name= \"\"\n",
    "    \n",
    "    def mother(self):\n",
    "        print(self.mother_name)\n",
    "class ulad:\n",
    "    son_1 = \"\"\n",
    "    son_2 = \"\"\n",
    "    d_3   = \"\"\n",
    "    def son(self):\n",
    "        print(self.son_1)\n",
    "        print(self.son_2)\n",
    "        print(self.d_3)\n",
    "    \n",
    "class Son(Father,Mother,ulad):\n",
    "    \n",
    "    def Parents(self):\n",
    "        print(\"Father Name\", self.father_name)\n",
    "        print(\"Mother Name\", self.mother_name)\n",
    "        print(\"Son_1\", self.son_1)\n",
    "        print(\"Son_2\", self.son_2)\n",
    "        print(\"d_3\", self.d_3)\n",
    "        \n",
    "        \n",
    "s = Son()\n",
    "\n",
    "s.father_name = \"Javeed Iqbal Zia\"\n",
    "s.mother_name = \"Manzoor\"\n",
    "s.son_1 = \"Aleem Raza\"\n",
    "s.son_2 = \"Muhammad Ali\"\n",
    "s.d_3 = \"Sehr Batool\"\n",
    "s.Parents()\n",
    "    \n",
    "        \n",
    "        \n",
    "        \n",
    "        "
   ]
  },
  {
   "cell_type": "code",
   "execution_count": 24,
   "id": "a4346e6a",
   "metadata": {
    "scrolled": true
   },
   "outputs": [
    {
     "name": "stdout",
     "output_type": "stream",
     "text": [
      "Lal mani\n",
      "Grandfather name : Lal mani\n",
      "Father name : Rampal\n",
      "Son name : Prince\n"
     ]
    }
   ],
   "source": [
    "# Python program to demonstrate\n",
    "# multilevel inheritance\n",
    " \n",
    "# Base class\n",
    "class Grandfather:\n",
    " \n",
    "    def __init__(self, grandfathername):\n",
    "        self.grandfathername = grandfathername\n",
    " \n",
    "# Intermediate class\n",
    "class Father(Grandfather):\n",
    "    def __init__(self, fathername, grandfathername):\n",
    "        self.fathername = fathername\n",
    " \n",
    "        # invoking constructor of Grandfather class\n",
    "        Grandfather.__init__(self, grandfathername)\n",
    " \n",
    "# Derived class\n",
    "class Son(Father):\n",
    "    def __init__(self,sonname, fathername, grandfathername):\n",
    "        self.sonname = sonname\n",
    " \n",
    "        # invoking constructor of Father class\n",
    "        Father.__init__(self, fathername, grandfathername)\n",
    " \n",
    "    def print_name(self):\n",
    "        print('Grandfather name :', self.grandfathername)\n",
    "        print(\"Father name :\", self.fathername)\n",
    "        print(\"Son name :\", self.sonname)\n",
    " \n",
    "#  Driver code\n",
    "s1 = Son('Prince', 'Rampal', 'Lal mani')\n",
    "print(s1.grandfathername)\n",
    "s1.print_name()"
   ]
  },
  {
   "cell_type": "markdown",
   "id": "52a61a19",
   "metadata": {},
   "source": [
    "# Hierarchical Inheritance:\n",
    "When more than one derived classes are created from a single base this type of inheritance is called hierarchical inheritance. In this program, we have a parent (base) class and two child (derived) classes."
   ]
  },
  {
   "cell_type": "code",
   "execution_count": 25,
   "id": "2e7c013a",
   "metadata": {},
   "outputs": [
    {
     "name": "stdout",
     "output_type": "stream",
     "text": [
      "This function is in parent class.\n",
      "This function is in child 1.\n",
      "This function is in parent class.\n",
      "This function is in child 2.\n"
     ]
    }
   ],
   "source": [
    "# Python program to demonstrate\n",
    "# Hierarchical inheritance\n",
    " \n",
    " \n",
    "# Base class\n",
    "class Parent:\n",
    "      def func1(self):\n",
    "          print(\"This function is in parent class.\")\n",
    " \n",
    "# Derived class1\n",
    "class Child1(Parent):\n",
    "      def func2(self):\n",
    "          print(\"This function is in child 1.\")\n",
    " \n",
    "# Derivied class2\n",
    "class Child2(Parent):\n",
    "      def func3(self):\n",
    "          print(\"This function is in child 2.\")\n",
    "  \n",
    "# Driver's code\n",
    "object1 = Child1()\n",
    "object2 = Child2()\n",
    "object1.func1()\n",
    "object1.func2()\n",
    "object2.func1()\n",
    "object2.func3()"
   ]
  },
  {
   "cell_type": "code",
   "execution_count": 26,
   "id": "47b5331c",
   "metadata": {},
   "outputs": [
    {
     "name": "stdout",
     "output_type": "stream",
     "text": [
      "This function is in school.\n",
      "This function is in student 1. \n"
     ]
    }
   ],
   "source": [
    "class School:\n",
    "     def func1(self):\n",
    "         print(\"This function is in school.\")\n",
    "  \n",
    "class Student1(School):\n",
    "     def func2(self):\n",
    "         print(\"This function is in student 1. \")\n",
    "  \n",
    "class Student2(School):\n",
    "     def func3(self):\n",
    "         print(\"This function is in student 2.\")\n",
    "  \n",
    "class Student3(Student1, School):\n",
    "     def func4(self):\n",
    "         print(\"This function is in student 3.\")\n",
    "  \n",
    "# Driver's code\n",
    "object = Student3()\n",
    "object.func1()\n",
    "object.func2()"
   ]
  },
  {
   "cell_type": "markdown",
   "id": "af146b1a",
   "metadata": {},
   "source": [
    "# Encapsulation in Python"
   ]
  },
  {
   "cell_type": "raw",
   "id": "cb1aed45",
   "metadata": {},
   "source": [
    "Encapsulation is one of the fundamental concepts in object-oriented programming (OOP). \n",
    "It describes the idea of wrapping data and the methods that work on data within one unit. \n",
    "This puts restrictions on accessing variables and methods directly and can prevent the accidental modification of data.\n",
    "\n",
    "To prevent accidental change, an object’s variable can only be changed by an object’s method. Those types of variables are known as private variables."
   ]
  },
  {
   "cell_type": "code",
   "execution_count": 27,
   "id": "9e216ee1",
   "metadata": {},
   "outputs": [
    {
     "name": "stdout",
     "output_type": "stream",
     "text": [
      "Calling protected member of base class:  2\n",
      "Calling modified protected member outside class:  3\n",
      "Accessing protected member of obj1:  3\n",
      "Accessing protected member of obj2:  2\n"
     ]
    }
   ],
   "source": [
    "# Python program to\n",
    "# demonstrate protected members\n",
    " \n",
    "# Creating a base class\n",
    "class Base:\n",
    "    def __init__(self):\n",
    " \n",
    "        # Protected member\n",
    "        self._a = 2\n",
    " \n",
    "# Creating a derived class\n",
    "class Derived(Base):\n",
    "    def __init__(self):\n",
    " \n",
    "        # Calling constructor of\n",
    "        # Base class\n",
    "        Base.__init__(self)\n",
    "        print(\"Calling protected member of base class: \",\n",
    "              self._a)\n",
    " \n",
    "        # Modify the protected variable:\n",
    "        self._a = 3\n",
    "        print(\"Calling modified protected member outside class: \",\n",
    "              self._a)\n",
    " \n",
    " \n",
    "obj1 = Derived()\n",
    " \n",
    "obj2 = Base()\n",
    " \n",
    "# Calling protected member\n",
    "# Can be accessed but should not be done due to convention\n",
    "print(\"Accessing protected member of obj1: \", obj1._a)\n",
    " \n",
    "# Accessing the protected variable outside\n",
    "print(\"Accessing protected member of obj2: \", obj2._a)"
   ]
  },
  {
   "cell_type": "code",
   "execution_count": 28,
   "id": "c60fdbf0",
   "metadata": {},
   "outputs": [
    {
     "name": "stdout",
     "output_type": "stream",
     "text": [
      "GeeksforGeeks\n"
     ]
    }
   ],
   "source": [
    "# Python program to\n",
    "# demonstrate private members\n",
    " \n",
    "# Creating a Base class\n",
    " \n",
    " \n",
    "class Base:\n",
    "    def __init__(self):\n",
    "        self.a = \"GeeksforGeeks\"\n",
    "        self.__c = \"GeeksforGeeks\"\n",
    " \n",
    "# Creating a derived class\n",
    "class Derived(Base):\n",
    "    def __init__(self):\n",
    " \n",
    "        # Calling constructor of\n",
    "        # Base class\n",
    "        Base.__init__(self)\n",
    "        print(\"Calling private member of base class: \")\n",
    "        print(self.__c)\n",
    " \n",
    " \n",
    "# Driver code\n",
    "obj1 = Base()\n",
    "print(obj1.a)\n",
    " \n",
    "# Uncommenting print(obj1.c) will\n",
    "# raise an AttributeError\n",
    " \n",
    "# Uncommenting obj2 = Derived() will\n",
    "# also raise an AtrributeError as\n",
    "# private member of base class\n",
    "# is called inside derived class"
   ]
  },
  {
   "cell_type": "markdown",
   "id": "a698f066",
   "metadata": {},
   "source": [
    "# Polymorphism in Python"
   ]
  },
  {
   "cell_type": "raw",
   "id": "7288201f",
   "metadata": {},
   "source": [
    "\n",
    "What is Polymorphism: \n",
    "The word polymorphism means having many forms. In programming, polymorphism means the same function name (but different signatures) being used for different types."
   ]
  },
  {
   "cell_type": "code",
   "execution_count": 4,
   "id": "57e85aba",
   "metadata": {},
   "outputs": [
    {
     "name": "stdout",
     "output_type": "stream",
     "text": [
      "7\n",
      "4\n"
     ]
    }
   ],
   "source": [
    "print(len(\"Geeeeee\"))\n",
    "print(len([10,20,30,45]))"
   ]
  },
  {
   "cell_type": "code",
   "execution_count": 9,
   "id": "fb3f100d",
   "metadata": {},
   "outputs": [
    {
     "name": "stdout",
     "output_type": "stream",
     "text": [
      "6\n",
      "15\n",
      "6\n"
     ]
    }
   ],
   "source": [
    "def add(x,y,z = 0):\n",
    "    return x+y+z\n",
    "\n",
    "print(add(2,4))\n",
    "print(add(2,6,7))\n",
    "print(add(2,4))"
   ]
  },
  {
   "cell_type": "raw",
   "id": "77c45be8",
   "metadata": {},
   "source": [
    "Polymorphism with class methods: \n",
    "The below code shows how Python can use two different class types, in the same way. We create a for loop that iterates through a tuple of objects. Then call the methods without being concerned about which class type each object is. We assume that these methods actually exist in each class. "
   ]
  },
  {
   "cell_type": "code",
   "execution_count": 11,
   "id": "a50b4406",
   "metadata": {},
   "outputs": [
    {
     "name": "stdout",
     "output_type": "stream",
     "text": [
      "Islamabad is the capital of pakistan\n",
      "Urdu is the most speaking languages of pakistan\n",
      "pakistan is power necular countery\n",
      "Shanghi is the capital of pakistan\n",
      "Chanies is the most speaking languages of pakistan\n",
      "Same is power necular countery\n"
     ]
    }
   ],
   "source": [
    "class Pakistan:\n",
    "    def capital(self):\n",
    "        print(\"Islamabad is the capital of pakistan\")\n",
    "    def lan(selfself):\n",
    "        print(\"Urdu is the most speaking languages of pakistan\")\n",
    "    def power(self):\n",
    "        print(\"pakistan is power necular countery\")\n",
    "class China:\n",
    "    def capital(self):\n",
    "        print(\"Shanghi is the capital of pakistan\")\n",
    "    def lan(selfself):\n",
    "        print(\"Chanies is the most speaking languages of pakistan\")\n",
    "    def power(self):\n",
    "        print( \"Same is power necular countery\")    \n",
    "        \n",
    "c_1 = Pakistan()\n",
    "c_2 = China()\n",
    "\n",
    "for countery in (c_1,c_2):\n",
    "    countery.capital()\n",
    "    countery.lan()\n",
    "    countery.power()"
   ]
  },
  {
   "cell_type": "markdown",
   "id": "def5461d",
   "metadata": {},
   "source": [
    "# Polymorphism with Inheritance: \n",
    "In Python, Polymorphism lets us define methods in the child class that have the same name as the methods in the parent class. In inheritance, the child class inherits the methods from the parent class. However, it is possible to modify a method in a child class that it has inherited from the parent class. This is particularly useful in cases where the method inherited from the parent class doesn’t quite fit the child class. In such cases, we re-implement the method in the child class. This process of re-implementing a method in the child class is known as Method Overridin"
   ]
  },
  {
   "cell_type": "code",
   "execution_count": 12,
   "id": "bccf5782",
   "metadata": {},
   "outputs": [
    {
     "name": "stdout",
     "output_type": "stream",
     "text": [
      "There are many types of birds.\n",
      "Most of the birds can fly but some cannot.\n",
      "There are many types of birds.\n",
      "Sparrows can fly.\n",
      "There are many types of birds.\n",
      "Ostriches cannot fly.\n"
     ]
    }
   ],
   "source": [
    "class Bird:\n",
    "    def intro(self):\n",
    "        print(\"There are many types of birds.\")\n",
    "\n",
    "    def flight(self):\n",
    "        print(\"Most of the birds can fly but some cannot.\")\n",
    "\n",
    "\n",
    "class sparrow(Bird):\n",
    "    def flight(self):\n",
    "        print(\"Sparrows can fly.\")\n",
    "\n",
    "\n",
    "class ostrich(Bird):\n",
    "    def flight(self):\n",
    "        print(\"Ostriches cannot fly.\")\n",
    "\n",
    "\n",
    "obj_bird = Bird()\n",
    "obj_spr = sparrow()\n",
    "obj_ost = ostrich()\n",
    "\n",
    "obj_bird.intro()\n",
    "obj_bird.flight()\n",
    "\n",
    "obj_spr.intro()\n",
    "obj_spr.flight()\n",
    "\n",
    "obj_ost.intro()\n",
    "obj_ost.flight()"
   ]
  },
  {
   "cell_type": "markdown",
   "id": "ec7300cd",
   "metadata": {},
   "source": [
    "# Polymorphism with a Function and objects: \n",
    "It is also possible to create a function that can take any object, allowing for polymorphism. In this example, let’s create a function called “func()” which will take an object which we will name “obj”. Though we are using the name ‘obj’, any instantiated object will be able to be called into this function. Next, let’s give the function something to do that uses the ‘obj’ object we passed to it. In this case, let’s call the three methods, viz., capital(), language() and type(), each of which is defined in the two classes ‘India’ and ‘USA’. Next, let’s create instantiations of both the ‘India’ and ‘USA’ classes if we don’t have them already. With those, we can call their action using the same func() function: "
   ]
  },
  {
   "cell_type": "code",
   "execution_count": 13,
   "id": "b5375b9b",
   "metadata": {},
   "outputs": [
    {
     "name": "stdout",
     "output_type": "stream",
     "text": [
      "Islamabad is the capital of pakistan\n",
      "Urdu is the most speaking languages of pakistan\n",
      "pakistan is power necular countery\n",
      "Shanghi is the capital of pakistan\n",
      "Chanies is the most speaking languages of pakistan\n",
      "Same is power necular countery\n"
     ]
    }
   ],
   "source": [
    "class Pakistan:\n",
    "    def capital(self):\n",
    "        print(\"Islamabad is the capital of pakistan\")\n",
    "    def lan(selfself):\n",
    "        print(\"Urdu is the most speaking languages of pakistan\")\n",
    "    def power(self):\n",
    "        print(\"pakistan is power necular countery\")\n",
    "class China:\n",
    "    def capital(self):\n",
    "        print(\"Shanghi is the capital of pakistan\")\n",
    "    def lan(selfself):\n",
    "        print(\"Chanies is the most speaking languages of pakistan\")\n",
    "    def power(self):\n",
    "        print( \"Same is power necular countery\")    \n",
    "        \n",
    "def func(obj):\n",
    "    obj.capital()\n",
    "    obj.lan()\n",
    "    obj.power()\n",
    "    \n",
    "    \n",
    "    \n",
    "c_1 = Pakistan()\n",
    "c_2 = China()\n",
    "\n",
    "func(c_1)\n",
    "func(c_2)\n",
    "    "
   ]
  },
  {
   "cell_type": "markdown",
   "id": "009da866",
   "metadata": {},
   "source": [
    "# Create the folder using python"
   ]
  },
  {
   "cell_type": "code",
   "execution_count": 14,
   "id": "10a25b92",
   "metadata": {},
   "outputs": [],
   "source": []
  },
  {
   "cell_type": "code",
   "execution_count": 15,
   "id": "e301a98b",
   "metadata": {},
   "outputs": [],
   "source": []
  },
  {
   "cell_type": "code",
   "execution_count": 20,
   "id": "850a7612",
   "metadata": {},
   "outputs": [],
   "source": [
    "        "
   ]
  },
  {
   "cell_type": "code",
   "execution_count": null,
   "id": "f9475839",
   "metadata": {},
   "outputs": [],
   "source": []
  },
  {
   "cell_type": "code",
   "execution_count": null,
   "id": "4a82f1f2",
   "metadata": {},
   "outputs": [],
   "source": []
  },
  {
   "cell_type": "code",
   "execution_count": null,
   "id": "5d78657d",
   "metadata": {},
   "outputs": [],
   "source": []
  },
  {
   "cell_type": "code",
   "execution_count": null,
   "id": "e8c58a3a",
   "metadata": {},
   "outputs": [],
   "source": []
  },
  {
   "cell_type": "code",
   "execution_count": null,
   "id": "eaba02d7",
   "metadata": {},
   "outputs": [],
   "source": []
  },
  {
   "cell_type": "code",
   "execution_count": null,
   "id": "9da01e2b",
   "metadata": {},
   "outputs": [],
   "source": []
  },
  {
   "cell_type": "code",
   "execution_count": null,
   "id": "61acd5e1",
   "metadata": {},
   "outputs": [],
   "source": []
  },
  {
   "cell_type": "code",
   "execution_count": null,
   "id": "ff5acf40",
   "metadata": {},
   "outputs": [],
   "source": []
  }
 ],
 "metadata": {
  "kernelspec": {
   "display_name": "Python 3 (ipykernel)",
   "language": "python",
   "name": "python3"
  },
  "language_info": {
   "codemirror_mode": {
    "name": "ipython",
    "version": 3
   },
   "file_extension": ".py",
   "mimetype": "text/x-python",
   "name": "python",
   "nbconvert_exporter": "python",
   "pygments_lexer": "ipython3",
   "version": "3.9.12"
  },
  "toc": {
   "base_numbering": 1,
   "nav_menu": {},
   "number_sections": true,
   "sideBar": true,
   "skip_h1_title": false,
   "title_cell": "Table of Contents",
   "title_sidebar": "Contents",
   "toc_cell": false,
   "toc_position": {},
   "toc_section_display": true,
   "toc_window_display": false
  }
 },
 "nbformat": 4,
 "nbformat_minor": 5
}
