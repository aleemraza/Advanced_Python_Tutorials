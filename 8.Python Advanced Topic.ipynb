{
 "cells": [
  {
   "cell_type": "markdown",
   "metadata": {},
   "source": [
    "# Functional Programming in Python\n",
    "Functional programming is a programming paradigm in which we try to bind everything in pure mathematical functions style. It is a declarative type of programming style. Its main focus is on “what to solve” in contrast to an imperative style where the main focus is “how to solve“. It uses expressions instead of statements. An expression is evaluated to produce a value whereas a statement is executed to assign variables.Concepts of Functional Programming\n",
    "Any Functional programming language is expected to follow these concepts.\n",
    "\n",
    "Pure Functions: \n",
    "These functions have two main properties. First, they always produce the same output for the same arguments irrespective of anything else. Secondly, they have no side-effects i.e. they do modify any argument or global variables or output something.\n",
    "Recursion: There are no “for” or “while” loop in functional languages. Iteration in functional languages is implemented through recursion.\n",
    "Functions are First-Class and can be Higher-Order: First-class functions are treated as first-class variable. The first-class variables can be passed to functions as a parameter, can be returned from functions or stored in data structures.\n",
    "Variables are Immutable: In functional programming, we can’t modify a variable after it’s been initialized. We can create new variables – but we can’t modify existing variables."
   ]
  },
  {
   "cell_type": "code",
   "execution_count": 1,
   "metadata": {},
   "outputs": [
    {
     "name": "stdout",
     "output_type": "stream",
     "text": [
      "Orginal list [1, 2, 3, 4, 5, 6]\n",
      "change list [1, 4, 9, 16, 25, 36]\n"
     ]
    }
   ],
   "source": [
    "def pur_fun(List):\n",
    "    new_list = []\n",
    "    for i in List:\n",
    "        new_list.append(i**2)\n",
    "    return new_list\n",
    "\n",
    "\n",
    "orginal_list = [1,2,3,4,5,6]\n",
    "\n",
    "change_list = pur_fun(orginal_list)\n",
    "\n",
    "print(\"Orginal list\",orginal_list)\n",
    "print(\"change list\",change_list)"
   ]
  },
  {
   "cell_type": "markdown",
   "metadata": {},
   "source": [
    "# Recursion\n",
    "During functional programming, there is no concept of for loop or while loop, instead recursion is used. Recursion is a process in which a function calls itself directly or indirectly. In the recursive program, the solution to the base case is provided and the solution to the bigger problem is expressed in terms of smaller problems. A question may arise what is base case? The base case can be considered as a condition that tells the compiler or interpreter to exit from the function."
   ]
  },
  {
   "cell_type": "code",
   "execution_count": 3,
   "metadata": {},
   "outputs": [
    {
     "name": "stdout",
     "output_type": "stream",
     "text": [
      "5\n",
      "15\n"
     ]
    }
   ],
   "source": [
    "def Sum(L, i, n, count):\n",
    "      \n",
    "    # Base case\n",
    "    if n <= i:\n",
    "        return count\n",
    "      \n",
    "    count += L[i]\n",
    "      \n",
    "    # Going into the recursion\n",
    "    count = Sum(L, i + 1, n, count)\n",
    "      \n",
    "    return count\n",
    "      \n",
    "# Driver's code\n",
    "L = [1, 2, 3, 4, 5]\n",
    "count = 0\n",
    "n = len(L)\n",
    "print(n)\n",
    "print(Sum(L, 0, n, count))"
   ]
  },
  {
   "cell_type": "code",
   "execution_count": 4,
   "metadata": {},
   "outputs": [
    {
     "name": "stdout",
     "output_type": "stream",
     "text": [
      "THIS IS THE GREATER   NEWS  \n",
      "this is the greater   news  \n"
     ]
    }
   ],
   "source": [
    "def uper(text):\n",
    "    return text.upper()\n",
    "def lower(text):\n",
    "    return text.lower()\n",
    "\n",
    "\n",
    "def final(func):\n",
    "    great = func(\"This is the greater   news  \")\n",
    "    print(great)\n",
    "    \n",
    "    \n",
    "final(uper)\n",
    "final(lower)\n",
    "    \n",
    "    \n",
    "    "
   ]
  },
  {
   "cell_type": "markdown",
   "metadata": {},
   "source": [
    "# Built-in Higher-order functions\n",
    "To make the processing of iterable objects like lists and iterator much easier, Python has implemented some commonly used Higher-Order Functions. These functions return an iterator that is space-efficient. Some of the built-in higher-order functions are:\n",
    "\n",
    "Map(): map() function returns a list of the results after applying the given function to each item of a given iterable (list, tuple etc.)"
   ]
  },
  {
   "cell_type": "code",
   "execution_count": 8,
   "metadata": {},
   "outputs": [
    {
     "name": "stdout",
     "output_type": "stream",
     "text": [
      "2 6 12 20 30 42 "
     ]
    }
   ],
   "source": [
    "\n",
    "def add(n):\n",
    "    return n+n*n\n",
    "\n",
    "num = (1,2,3,4,5,6)\n",
    "\n",
    "results = map(add,num)\n",
    "for i in results:\n",
    "    print(i,end=\" \")"
   ]
  },
  {
   "cell_type": "code",
   "execution_count": 9,
   "metadata": {},
   "outputs": [
    {
     "name": "stdout",
     "output_type": "stream",
     "text": [
      "1 4 9 16 25 36 "
     ]
    }
   ],
   "source": [
    "def multi(n):\n",
    "    return n*n\n",
    "\n",
    "num = (1,2,3,4,5,6)\n",
    "\n",
    "results = map(multi,num)\n",
    "for i in results:\n",
    "    print(i,end=\" \")"
   ]
  },
  {
   "cell_type": "markdown",
   "metadata": {},
   "source": [
    "# filter(): \n",
    "  The filter() method filters the given sequence with the help of a function that tests each element in the sequence to be true or not."
   ]
  },
  {
   "cell_type": "code",
   "execution_count": 15,
   "metadata": {},
   "outputs": [
    {
     "name": "stdout",
     "output_type": "stream",
     "text": [
      "the filter word are here>>>>\n",
      "A\n",
      "e\n",
      "e\n"
     ]
    }
   ],
   "source": [
    "def func(word):\n",
    "    \n",
    "    leters = ['A','l','e','e','m']\n",
    "    \n",
    "    if (word in leters):\n",
    "        return True\n",
    "    else:\n",
    "        return False\n",
    "    \n",
    "    \n",
    "sequence = ['A', 'e', 'e', 'j', 'k', 's', 'p', 'r'] \n",
    "    \n",
    "result = filter(func,sequence)\n",
    "    \n",
    "print(\"the filter word are here>>>>\")\n",
    "    \n",
    "for s in result:\n",
    "    print(s)"
   ]
  },
  {
   "cell_type": "markdown",
   "metadata": {},
   "source": [
    "# Lambda functions: \n",
    " In Python, anonymous function means that a function is without a name.\n",
    "    \n",
    "1) This function can have any number of arguments but only one expression, which is evaluated and returned.\n",
    "2) One is free to use lambda functions wherever function objects are required.\n",
    "3) You need to keep in your knowledge that lambda functions are syntactically restricted to a single expression.\n",
    "4) It has various uses in particular fields of programming besides other types of expressions in functions."
   ]
  },
  {
   "cell_type": "code",
   "execution_count": 19,
   "metadata": {},
   "outputs": [
    {
     "name": "stdout",
     "output_type": "stream",
     "text": [
      "216\n"
     ]
    }
   ],
   "source": [
    "cube = lambda y: y*y*y\n",
    "\n",
    "print(cube(6))"
   ]
  },
  {
   "cell_type": "code",
   "execution_count": 18,
   "metadata": {},
   "outputs": [
    {
     "name": "stdout",
     "output_type": "stream",
     "text": [
      "[2, 4, 6, 8, 10]\n"
     ]
    }
   ],
   "source": [
    "l = [1,2,3,4,5,6,7,8,9,10]\n",
    "\n",
    "x = [i for i in l if i % 2 == 0]\n",
    "\n",
    "print(x)"
   ]
  },
  {
   "cell_type": "markdown",
   "metadata": {},
   "source": [
    "# Immutability\n",
    "Immutability is a functional programming paradigm can be used for debugging as it will throw an error where the variable is being changed not where the value is changed. Python too supports some immutable data types like string, tuple, numeric, etc."
   ]
  },
  {
   "cell_type": "code",
   "execution_count": 21,
   "metadata": {},
   "outputs": [
    {
     "ename": "TypeError",
     "evalue": "'str' object does not support item assignment",
     "output_type": "error",
     "traceback": [
      "\u001b[1;31m---------------------------------------------------------------------------\u001b[0m",
      "\u001b[1;31mTypeError\u001b[0m                                 Traceback (most recent call last)",
      "Input \u001b[1;32mIn [21]\u001b[0m, in \u001b[0;36m<cell line: 6>\u001b[1;34m()\u001b[0m\n\u001b[0;32m      2\u001b[0m immutable \u001b[38;5;241m=\u001b[39m \u001b[38;5;124m\"\u001b[39m\u001b[38;5;124mGeeksforGeeks\u001b[39m\u001b[38;5;124m\"\u001b[39m\n\u001b[0;32m      4\u001b[0m \u001b[38;5;66;03m# changing the values will\u001b[39;00m\n\u001b[0;32m      5\u001b[0m \u001b[38;5;66;03m# raise an error\u001b[39;00m\n\u001b[1;32m----> 6\u001b[0m immutable[\u001b[38;5;241m1\u001b[39m] \u001b[38;5;241m=\u001b[39m \u001b[38;5;124m'\u001b[39m\u001b[38;5;124mG\u001b[39m\u001b[38;5;124m'\u001b[39m\n",
      "\u001b[1;31mTypeError\u001b[0m: 'str' object does not support item assignment"
     ]
    }
   ],
   "source": [
    "# String data types\n",
    "immutable = \"GeeksforGeeks\"\n",
    "  \n",
    "# changing the values will\n",
    "# raise an error\n",
    "immutable[1] = 'G'"
   ]
  },
  {
   "cell_type": "markdown",
   "metadata": {},
   "source": [
    "# Metaprogramming with Metaclasses in Python \n",
    "At first, the word Metaprogramming seems like a very funky and alien thing but if you have ever worked with decorators or metaclasses, you were doing metaprogramming there all along. In a nutshell, we can say metaprogramming is the code that manipulates code.\n",
    "In this article, we are going to discuss Metaclasses, why and when we should use them, and what are the alternatives. This is a fairly advance Python topic and the following prerequisite is expected – \n",
    "OOP concept in Python\n",
    "Decorators in Python\n",
    "\n",
    "Metaclasses\n",
    "In Python, everything has some type associated with it. For example, if we have a variable having an integer value then its type is int. You can get the type of anything using the type() function. "
   ]
  },
  {
   "cell_type": "code",
   "execution_count": 22,
   "metadata": {},
   "outputs": [
    {
     "name": "stdout",
     "output_type": "stream",
     "text": [
      "Type of num is: <class 'int'>\n",
      "Type of lst is: <class 'list'>\n",
      "Type of name is: <class 'str'>\n"
     ]
    }
   ],
   "source": [
    "num = 23\n",
    "print(\"Type of num is:\", type(num))\n",
    " \n",
    "lst = [1, 2, 4]\n",
    "print(\"Type of lst is:\", type(lst))\n",
    " \n",
    "name = \"Atul\"\n",
    "print(\"Type of name is:\", type(name))"
   ]
  },
  {
   "cell_type": "code",
   "execution_count": 23,
   "metadata": {},
   "outputs": [
    {
     "name": "stdout",
     "output_type": "stream",
     "text": [
      "<class '__main__.student'>\n"
     ]
    }
   ],
   "source": [
    "class student:\n",
    "    pass \n",
    "\n",
    "sub = student()\n",
    "\n",
    "print(type(sub))"
   ]
  },
  {
   "cell_type": "markdown",
   "metadata": {},
   "source": [
    "# A Class\n",
    "is also an object, and just like any other object, it’s an instance of something called Metaclass. A special class type creates these Class objects. The type class is default metaclass which is responsible for making classes. In the above example, if we try to find out the type of Student class, it comes out to be a type. "
   ]
  },
  {
   "cell_type": "code",
   "execution_count": 24,
   "metadata": {},
   "outputs": [
    {
     "name": "stdout",
     "output_type": "stream",
     "text": [
      "Type of Student class is: <class 'type'>\n"
     ]
    }
   ],
   "source": [
    "class Student:\n",
    "    pass\n",
    " \n",
    "# Print type of Student class\n",
    "print(\"Type of Student class is:\", type(Student))"
   ]
  },
  {
   "cell_type": "code",
   "execution_count": 25,
   "metadata": {},
   "outputs": [
    {
     "name": "stdout",
     "output_type": "stream",
     "text": [
      "45\n",
      "Hello\n"
     ]
    }
   ],
   "source": [
    "# Defined class without any\n",
    "# class methods and variables\n",
    "class test:pass\n",
    " \n",
    "# Defining method variables\n",
    "test.x = 45\n",
    " \n",
    "# Defining class methods\n",
    "test.foo = lambda self: print('Hello')\n",
    " \n",
    "# creating object\n",
    "myobj = test()\n",
    " \n",
    "print(myobj.x)\n",
    "myobj.foo()"
   ]
  },
  {
   "cell_type": "markdown",
   "metadata": {},
   "source": [
    "# Creating custom Metaclass\n",
    "\n",
    "To create our custom metaclass, our custom metaclass has to inherit type metaclass and usually override – \n",
    "\n",
    "__new__(): It’s a method which is called before __init__(). It creates the object and returns it. We can override this method to control how the objects are created.\n",
    "__init__(): This method just initialize the created object passed as a parameter\n",
    "We can create classes using the type() function directly. It can be called in following ways – \n",
    "\n",
    "When called with only one argument, it returns the type. We have seen it before in the above examples.\n",
    "When called with three parameters, it creates a class. Following arguments are passed to it – \n",
    "Class name\n",
    "Tuple having base classes inherited by class\n",
    "Class Dictionary: It serves as a local namespace for the class, populated with class methods and variables"
   ]
  },
  {
   "cell_type": "markdown",
   "metadata": {},
   "source": [
    "# Multithreading in Python | Set 1\n",
    "This article covers the basics of multithreading in Python programming language. Just like multiprocessing, multithreading is a way of achieving multitasking. In multithreading, the concept of threads is used."
   ]
  },
  {
   "cell_type": "markdown",
   "metadata": {},
   "source": [
    "# Thread\n",
    "\n",
    "In computing, a process is an instance of a computer program that is being executed. Any process has 3 basic components:\n",
    "\n",
    "An executable program.\n",
    "The associated data needed by the program (variables, work space, buffers, etc.)\n",
    "The execution context of the program (State of process)\n",
    "A thread is an entity within a process that can be scheduled for execution. Also, it is the smallest unit of processing that can be performed in an OS (Operating System).\n",
    "\n",
    "In simple words, a thread is a sequence of such instructions within a program that can be executed independently of other code. For simplicity, you can assume that a thread is simply a subset of a process!\n",
    "\n",
    "A thread contains all this information in a Thread Control Block (TCB):\n",
    "\n",
    "Thread Identifier: Unique id (TID) is assigned to every new thread\n",
    "Stack pointer: Points to thread’s stack in the process. Stack contains the local variables under thread’s scope.\n",
    "Program counter: a register which stores the address of the instruction currently being executed by thread.\n",
    "Thread state: can be running, ready, waiting, start or done.\n",
    "Thread’s register set: registers assigned to thread for computations.\n",
    "Parent process Pointer: A pointer to the Process control block (PCB) of the process that the thread lives on.\n",
    "Consider the diagram below to understand the relation between process and its thread:"
   ]
  },
  {
   "cell_type": "markdown",
   "metadata": {},
   "source": [
    "# Multithreading\n",
    "\n",
    "Multiple threads can exist within one process where:\n",
    "\n",
    "Each thread contains its own register set and local variables (stored in stack).\n",
    "All thread of a process share global variables (stored in heap) and the program code.\n",
    "Consider the diagram below to understand how multiple threads exist in memory:\n",
    "Multithreading is defined as the ability of a processor to execute multiple threads concurrently.\n",
    "In Python, the threading module provides a very simple and intuitive API for spawning multiple threads in a program.\n",
    "\n",
    "Let us consider a simple example using threading module:\n"
   ]
  },
  {
   "cell_type": "code",
   "execution_count": 30,
   "metadata": {},
   "outputs": [
    {
     "name": "stdout",
     "output_type": "stream",
     "text": [
      "Square: 100Cube: 1000\n",
      "\n",
      "Done!\n"
     ]
    }
   ],
   "source": [
    "import threading\n",
    "  \n",
    "def print_cube(num):\n",
    "    \"\"\"\n",
    "    function to print cube of given num\n",
    "    \"\"\"\n",
    "    print(\"Cube: {}\".format(num * num * num))\n",
    "  \n",
    "def print_square(num):\n",
    "    \"\"\"\n",
    "    function to print square of given num\n",
    "    \"\"\"\n",
    "    print(\"Square: {}\".format(num * num))\n",
    "  \n",
    "if __name__ == \"__main__\":\n",
    "    # creating thread\n",
    "    t1 = threading.Thread(target=print_square, args=(10,))\n",
    "    t2 = threading.Thread(target=print_cube, args=(10,))\n",
    "  \n",
    "    # starting thread 1\n",
    "    t1.start()\n",
    "    # starting thread 2\n",
    "    t2.start()\n",
    "  \n",
    "    # wait until thread 1 is completely executed\n",
    "    t1.join()\n",
    "    # wait until thread 2 is completely executed\n",
    "    t2.join()\n",
    "  \n",
    "    # both threads completely executed\n",
    "    print(\"Done!\")"
   ]
  },
  {
   "cell_type": "markdown",
   "metadata": {},
   "source": [
    "# Multithreading in Python | Set 2 (Synchronization)\n",
    "Synchronization between threads\n",
    "\n",
    "Thread synchronization is defined as a mechanism which ensures that two or more concurrent threads do not simultaneously execute some particular program segment known as critical section.\n",
    "For example, in the diagram below, 3 threads try to access shared resource or critical section at the same time.\n",
    "Consider the program below to understand the concept of race condition:"
   ]
  },
  {
   "cell_type": "code",
   "execution_count": 32,
   "metadata": {},
   "outputs": [
    {
     "name": "stdout",
     "output_type": "stream",
     "text": [
      "Iteration 0: x = 200000\n",
      "Iteration 1: x = 200000\n",
      "Iteration 2: x = 154866\n",
      "Iteration 3: x = 200000\n",
      "Iteration 4: x = 200000\n",
      "Iteration 5: x = 200000\n",
      "Iteration 6: x = 200000\n",
      "Iteration 7: x = 200000\n",
      "Iteration 8: x = 193823\n",
      "Iteration 9: x = 200000\n"
     ]
    }
   ],
   "source": [
    "import threading\n",
    "\n",
    "# global variable x\n",
    "x = 0\n",
    "\n",
    "def increment():\n",
    "\t\"\"\"\n",
    "\tfunction to increment global variable x\n",
    "\t\"\"\"\n",
    "\tglobal x\n",
    "\tx += 1\n",
    "\n",
    "def thread_task():\n",
    "\t\"\"\"\n",
    "\ttask for thread\n",
    "\tcalls increment function 100000 times.\n",
    "\t\"\"\"\n",
    "\tfor _ in range(100000):\n",
    "\t\tincrement()\n",
    "\n",
    "def main_task():\n",
    "\tglobal x\n",
    "\t# setting global variable x as 0\n",
    "\tx = 0\n",
    "\n",
    "\t# creating threads\n",
    "\tt1 = threading.Thread(target=thread_task)\n",
    "\tt2 = threading.Thread(target=thread_task)\n",
    "\n",
    "\t# start threads\n",
    "\tt1.start()\n",
    "\tt2.start()\n",
    "\n",
    "\t# wait until threads finish their job\n",
    "\tt1.join()\n",
    "\tt2.join()\n",
    "\n",
    "if __name__ == \"__main__\":\n",
    "\tfor i in range(10):\n",
    "\t\tmain_task()\n",
    "\t\tprint(\"Iteration {0}: x = {1}\".format(i,x))\n"
   ]
  },
  {
   "cell_type": "markdown",
   "metadata": {},
   "source": [
    "# Socket Programming in Python\n",
    "Socket programming is a way of connecting two nodes on a network to communicate with each other. One socket(node) listens on a particular port at an IP, while the other socket reaches out to the other to form a connection. The server forms the listener socket while the client reaches out to the server. \n",
    "They are the real backbones behind web browsing. In simpler terms, there is a server and a client. \n",
    "Socket programming is started by importing the socket library and making a simple socket. \n",
    "Here we made a socket instance and passed it two parameters. The first parameter is AF_INET and the second one is SOCK_STREAM. AF_INET refers to the address-family ipv4. The SOCK_STREAM means connection-oriented TCP protocol. \n",
    "Now we can connect to a server using this socket.3\n",
    "\n",
    "Connecting to a server: \n",
    "Note that if any error occurs during the creation of a socket then a socket. error is thrown and we can only connect to a server by knowing its IP. You can find the IP of the server by using this : "
   ]
  },
  {
   "cell_type": "code",
   "execution_count": 33,
   "metadata": {},
   "outputs": [
    {
     "name": "stdout",
     "output_type": "stream",
     "text": [
      "<socket.socket fd=2036, family=AddressFamily.AF_INET, type=SocketKind.SOCK_STREAM, proto=0>\n"
     ]
    }
   ],
   "source": [
    "import socket\n",
    "s = socket.socket(socket.AF_INET, socket.SOCK_STREAM)\n",
    "print(s)"
   ]
  },
  {
   "cell_type": "code",
   "execution_count": 36,
   "metadata": {},
   "outputs": [
    {
     "name": "stdout",
     "output_type": "stream",
     "text": [
      "142.250.181.68\n"
     ]
    }
   ],
   "source": [
    "import socket \n",
    "\n",
    "ip = socket.gethostbyname('www.google.com')\n",
    "print (ip)"
   ]
  },
  {
   "cell_type": "code",
   "execution_count": 38,
   "metadata": {},
   "outputs": [
    {
     "name": "stdout",
     "output_type": "stream",
     "text": [
      "157.240.227.35\n"
     ]
    }
   ],
   "source": [
    "import socket\n",
    "get_ip = socket.gethostbyname(\"www.facebook.com\")\n",
    "print(get_ip)"
   ]
  },
  {
   "cell_type": "code",
   "execution_count": 39,
   "metadata": {},
   "outputs": [
    {
     "name": "stdout",
     "output_type": "stream",
     "text": [
      "Socket successfully created\n",
      "the socket has successfully connected to google\n"
     ]
    }
   ],
   "source": [
    "import socket # for socket\n",
    "import sys\n",
    " \n",
    "try:\n",
    "    s = socket.socket(socket.AF_INET, socket.SOCK_STREAM)\n",
    "    print (\"Socket successfully created\")\n",
    "except socket.error as err:\n",
    "    print (\"socket creation failed with error %s\" %(err))\n",
    " \n",
    "# default port for socket\n",
    "port = 80\n",
    " \n",
    "try:\n",
    "    host_ip = socket.gethostbyname('www.google.com')\n",
    "except socket.gaierror:\n",
    " \n",
    "    # this means could not resolve the host\n",
    "    print (\"there was an error resolving the host\")\n",
    "    sys.exit()\n",
    " \n",
    "# connecting to the server\n",
    "s.connect((host_ip, port))\n",
    " \n",
    "print (\"the socket has successfully connected to google\")"
   ]
  },
  {
   "cell_type": "code",
   "execution_count": 40,
   "metadata": {},
   "outputs": [
    {
     "name": "stdout",
     "output_type": "stream",
     "text": [
      "Socket successfully created\n",
      "the socket has successfully connected to google\n"
     ]
    }
   ],
   "source": [
    "import socket\n",
    "import sys\n",
    "\n",
    "\n",
    "\n",
    "try:\n",
    "    s = socket.socket(socket.AF_INET, socket.SOCK_STREAM)\n",
    "    print (\"Socket successfully created\")\n",
    "    \n",
    "except socket.error as err:\n",
    "    print (\"socket creation failed with error %s\" %(err))\n",
    "    \n",
    "port = 8099\n",
    "\n",
    "\n",
    "port = 80\n",
    " \n",
    "try:\n",
    "    host_ip = socket.gethostbyname('www.google.com')\n",
    "except socket.gaierror:\n",
    " \n",
    "    # this means could not resolve the host\n",
    "    print (\"there was an error resolving the host\")\n",
    "    sys.exit()\n",
    " \n",
    "# connecting to the server\n",
    "s.connect((host_ip, port))\n",
    " \n",
    "print (\"the socket has successfully connected to google\")\n",
    "    \n",
    "    \n",
    "    "
   ]
  },
  {
   "cell_type": "markdown",
   "metadata": {},
   "source": [
    "# A simple server-client program : \n",
    " \n",
    "Server : \n",
    "\n",
    "A server has a bind() method which binds it to a specific IP and port so that it can listen to incoming requests on that IP and port. A server has a listen() method which puts the server into listening mode. This allows the server to listen to incoming connections. And last a server has an accept() and close() method. The accept method initiates a connection with the client and the close method closes the connection with the client. "
   ]
  },
  {
   "cell_type": "code",
   "execution_count": null,
   "metadata": {},
   "outputs": [
    {
     "name": "stdout",
     "output_type": "stream",
     "text": [
      "Socket successfully created\n",
      "socket binded to 12345\n",
      "socket is listening\n"
     ]
    }
   ],
   "source": [
    "# first of all import the socket library\n",
    "import socket            \n",
    " \n",
    "# next create a socket object\n",
    "s = socket.socket()        \n",
    "print (\"Socket successfully created\")\n",
    " \n",
    "# reserve a port on your computer in our\n",
    "# case it is 12345 but it can be anything\n",
    "port = 12345               \n",
    " \n",
    "# Next bind to the port\n",
    "# we have not typed any ip in the ip field\n",
    "# instead we have inputted an empty string\n",
    "# this makes the server listen to requests\n",
    "# coming from other computers on the network\n",
    "s.bind(('', port))        \n",
    "print (\"socket binded to %s\" %(port))\n",
    " \n",
    "# put the socket into listening mode\n",
    "s.listen(5)    \n",
    "print (\"socket is listening\")           \n",
    " \n",
    "# a forever loop until we interrupt it or\n",
    "# an error occurs\n",
    "while True:\n",
    " \n",
    "# Establish connection with client.\n",
    "  c, addr = s.accept()    \n",
    "  print ('Got connection from', addr )\n",
    " \n",
    "  # send a thank you message to the client. encoding to send byte type.\n",
    "  c.send('Thank you for connecting'.encode())\n",
    " \n",
    "  # Close the connection with the client\n",
    "  c.close()\n",
    "   \n",
    "  # Breaking once connection closed\n",
    "  break"
   ]
  },
  {
   "cell_type": "code",
   "execution_count": null,
   "metadata": {},
   "outputs": [],
   "source": []
  }
 ],
 "metadata": {
  "kernelspec": {
   "display_name": "Python 3 (ipykernel)",
   "language": "python",
   "name": "python3"
  },
  "language_info": {
   "codemirror_mode": {
    "name": "ipython",
    "version": 3
   },
   "file_extension": ".py",
   "mimetype": "text/x-python",
   "name": "python",
   "nbconvert_exporter": "python",
   "pygments_lexer": "ipython3",
   "version": "3.9.12"
  },
  "varInspector": {
   "cols": {
    "lenName": 16,
    "lenType": 16,
    "lenVar": 40
   },
   "kernels_config": {
    "python": {
     "delete_cmd_postfix": "",
     "delete_cmd_prefix": "del ",
     "library": "var_list.py",
     "varRefreshCmd": "print(var_dic_list())"
    },
    "r": {
     "delete_cmd_postfix": ") ",
     "delete_cmd_prefix": "rm(",
     "library": "var_list.r",
     "varRefreshCmd": "cat(var_dic_list()) "
    }
   },
   "types_to_exclude": [
    "module",
    "function",
    "builtin_function_or_method",
    "instance",
    "_Feature"
   ],
   "window_display": false
  }
 },
 "nbformat": 4,
 "nbformat_minor": 4
}
